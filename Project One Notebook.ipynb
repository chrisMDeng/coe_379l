{
 "cells": [
  {
   "cell_type": "code",
   "execution_count": 1,
   "id": "8a980fd6-da0b-4874-b2ec-c680f1032264",
   "metadata": {},
   "outputs": [
    {
     "name": "stderr",
     "output_type": "stream",
     "text": [
      "/tmp/ipykernel_8413/3149325347.py:1: DeprecationWarning: \n",
      "Pyarrow will become a required dependency of pandas in the next major release of pandas (pandas 3.0),\n",
      "(to allow more performant data types, such as the Arrow string type, and better interoperability with other libraries)\n",
      "but was not found to be installed on your system.\n",
      "If this would cause problems for you,\n",
      "please provide us feedback at https://github.com/pandas-dev/pandas/issues/54466\n",
      "        \n",
      "  import pandas as pd\n"
     ]
    }
   ],
   "source": [
    "import pandas as pd\n",
    "import seaborn as sns\n",
    "import matplotlib.pyplot as plt\n",
    "import numpy as np\n",
    "raw_data = pd.read_csv(\"project1.csv\")"
   ]
  },
  {
   "cell_type": "markdown",
   "id": "2daba58b-bcfa-45b2-9605-246f28fb8014",
   "metadata": {},
   "source": [
    "# Part 1"
   ]
  },
  {
   "cell_type": "code",
   "execution_count": 2,
   "id": "58e538a5-1b08-4d69-98e6-1bf8e595cd43",
   "metadata": {},
   "outputs": [
    {
     "data": {
      "text/plain": [
       "(131165, 12)"
      ]
     },
     "execution_count": 2,
     "metadata": {},
     "output_type": "execute_result"
    }
   ],
   "source": [
    "raw_data.shape"
   ]
  },
  {
   "cell_type": "markdown",
   "id": "2e868c39-33e3-4706-8ecf-00f36c400e7f",
   "metadata": {},
   "source": [
    "Using ls -lh project1.csv I got:\n",
    "\n",
    "-rw-r--r-- 1 root root 16M Sep 22 15:28 project1.csv"
   ]
  },
  {
   "cell_type": "markdown",
   "id": "86b7b882-f6ee-4428-a9b7-c41fabd0ec8d",
   "metadata": {},
   "source": [
    "**So, the shape of the data is (131165, 12) (12 columns and 131165 rows), and the size of the data is around 16MB.** "
   ]
  },
  {
   "cell_type": "code",
   "execution_count": 3,
   "id": "53877f7d-aaab-4bf7-93ba-17c4cae5d5c4",
   "metadata": {},
   "outputs": [
    {
     "name": "stdout",
     "output_type": "stream",
     "text": [
      "<class 'pandas.core.frame.DataFrame'>\n",
      "RangeIndex: 131165 entries, 0 to 131164\n",
      "Data columns (total 12 columns):\n",
      " #   Column            Non-Null Count   Dtype \n",
      "---  ------            --------------   ----- \n",
      " 0   Animal ID         131165 non-null  object\n",
      " 1   Date of Birth     131165 non-null  object\n",
      " 2   Name              93658 non-null   object\n",
      " 3   DateTime          131165 non-null  object\n",
      " 4   MonthYear         131165 non-null  object\n",
      " 5   Outcome Type      131125 non-null  object\n",
      " 6   Outcome Subtype   65810 non-null   object\n",
      " 7   Animal Type       131165 non-null  object\n",
      " 8   Sex upon Outcome  131165 non-null  object\n",
      " 9   Age upon Outcome  131165 non-null  object\n",
      " 10  Breed             131165 non-null  object\n",
      " 11  Color             131165 non-null  object\n",
      "dtypes: object(12)\n",
      "memory usage: 12.0+ MB\n"
     ]
    }
   ],
   "source": [
    "raw_data.info()"
   ]
  },
  {
   "cell_type": "code",
   "execution_count": 4,
   "id": "2a7c214a-9337-4caa-baf0-baec42ab7278",
   "metadata": {},
   "outputs": [
    {
     "data": {
      "text/html": [
       "<div>\n",
       "<style scoped>\n",
       "    .dataframe tbody tr th:only-of-type {\n",
       "        vertical-align: middle;\n",
       "    }\n",
       "\n",
       "    .dataframe tbody tr th {\n",
       "        vertical-align: top;\n",
       "    }\n",
       "\n",
       "    .dataframe thead th {\n",
       "        text-align: right;\n",
       "    }\n",
       "</style>\n",
       "<table border=\"1\" class=\"dataframe\">\n",
       "  <thead>\n",
       "    <tr style=\"text-align: right;\">\n",
       "      <th></th>\n",
       "      <th>Animal ID</th>\n",
       "      <th>Date of Birth</th>\n",
       "      <th>Name</th>\n",
       "      <th>DateTime</th>\n",
       "      <th>MonthYear</th>\n",
       "      <th>Outcome Type</th>\n",
       "      <th>Outcome Subtype</th>\n",
       "      <th>Animal Type</th>\n",
       "      <th>Sex upon Outcome</th>\n",
       "      <th>Age upon Outcome</th>\n",
       "      <th>Breed</th>\n",
       "      <th>Color</th>\n",
       "    </tr>\n",
       "  </thead>\n",
       "  <tbody>\n",
       "    <tr>\n",
       "      <th>0</th>\n",
       "      <td>A680855</td>\n",
       "      <td>5/25/14</td>\n",
       "      <td>NaN</td>\n",
       "      <td>2014-06-10T00:00:00-05:00</td>\n",
       "      <td>Jun-14</td>\n",
       "      <td>Transfer</td>\n",
       "      <td>Partner</td>\n",
       "      <td>Bird</td>\n",
       "      <td>Unknown</td>\n",
       "      <td>2 weeks</td>\n",
       "      <td>Duck</td>\n",
       "      <td>Yellow/Black</td>\n",
       "    </tr>\n",
       "    <tr>\n",
       "      <th>1</th>\n",
       "      <td>A680857</td>\n",
       "      <td>5/25/14</td>\n",
       "      <td>NaN</td>\n",
       "      <td>2014-06-10T00:00:00-05:00</td>\n",
       "      <td>Jun-14</td>\n",
       "      <td>Transfer</td>\n",
       "      <td>Partner</td>\n",
       "      <td>Bird</td>\n",
       "      <td>Unknown</td>\n",
       "      <td>2 weeks</td>\n",
       "      <td>Duck</td>\n",
       "      <td>Yellow/Black</td>\n",
       "    </tr>\n",
       "    <tr>\n",
       "      <th>2</th>\n",
       "      <td>A680858</td>\n",
       "      <td>5/25/14</td>\n",
       "      <td>NaN</td>\n",
       "      <td>2014-06-10T00:00:00-05:00</td>\n",
       "      <td>Jun-14</td>\n",
       "      <td>Transfer</td>\n",
       "      <td>Partner</td>\n",
       "      <td>Bird</td>\n",
       "      <td>Unknown</td>\n",
       "      <td>2 weeks</td>\n",
       "      <td>Duck</td>\n",
       "      <td>Yellow/Black</td>\n",
       "    </tr>\n",
       "    <tr>\n",
       "      <th>3</th>\n",
       "      <td>A680859</td>\n",
       "      <td>5/25/14</td>\n",
       "      <td>NaN</td>\n",
       "      <td>2014-06-10T00:00:00-05:00</td>\n",
       "      <td>Jun-14</td>\n",
       "      <td>Transfer</td>\n",
       "      <td>Partner</td>\n",
       "      <td>Bird</td>\n",
       "      <td>Unknown</td>\n",
       "      <td>2 weeks</td>\n",
       "      <td>Duck</td>\n",
       "      <td>Yellow/Black</td>\n",
       "    </tr>\n",
       "    <tr>\n",
       "      <th>4</th>\n",
       "      <td>A680860</td>\n",
       "      <td>5/25/14</td>\n",
       "      <td>NaN</td>\n",
       "      <td>2014-06-10T00:00:00-05:00</td>\n",
       "      <td>Jun-14</td>\n",
       "      <td>Transfer</td>\n",
       "      <td>Partner</td>\n",
       "      <td>Bird</td>\n",
       "      <td>Unknown</td>\n",
       "      <td>2 weeks</td>\n",
       "      <td>Duck</td>\n",
       "      <td>Yellow/Black</td>\n",
       "    </tr>\n",
       "  </tbody>\n",
       "</table>\n",
       "</div>"
      ],
      "text/plain": [
       "  Animal ID Date of Birth Name                   DateTime MonthYear  \\\n",
       "0   A680855       5/25/14  NaN  2014-06-10T00:00:00-05:00    Jun-14   \n",
       "1   A680857       5/25/14  NaN  2014-06-10T00:00:00-05:00    Jun-14   \n",
       "2   A680858       5/25/14  NaN  2014-06-10T00:00:00-05:00    Jun-14   \n",
       "3   A680859       5/25/14  NaN  2014-06-10T00:00:00-05:00    Jun-14   \n",
       "4   A680860       5/25/14  NaN  2014-06-10T00:00:00-05:00    Jun-14   \n",
       "\n",
       "  Outcome Type Outcome Subtype Animal Type Sex upon Outcome Age upon Outcome  \\\n",
       "0     Transfer         Partner        Bird          Unknown          2 weeks   \n",
       "1     Transfer         Partner        Bird          Unknown          2 weeks   \n",
       "2     Transfer         Partner        Bird          Unknown          2 weeks   \n",
       "3     Transfer         Partner        Bird          Unknown          2 weeks   \n",
       "4     Transfer         Partner        Bird          Unknown          2 weeks   \n",
       "\n",
       "  Breed         Color  \n",
       "0  Duck  Yellow/Black  \n",
       "1  Duck  Yellow/Black  \n",
       "2  Duck  Yellow/Black  \n",
       "3  Duck  Yellow/Black  \n",
       "4  Duck  Yellow/Black  "
      ]
     },
     "execution_count": 4,
     "metadata": {},
     "output_type": "execute_result"
    }
   ],
   "source": [
    "raw_data.head()"
   ]
  },
  {
   "cell_type": "code",
   "execution_count": 5,
   "id": "76342674-0b62-4cf5-a88d-fba7fb9ff1ae",
   "metadata": {},
   "outputs": [
    {
     "data": {
      "text/plain": [
       "array(['Transfer', 'Adoption', nan], dtype=object)"
      ]
     },
     "execution_count": 5,
     "metadata": {},
     "output_type": "execute_result"
    }
   ],
   "source": [
    "raw_data[\"Outcome Type\"].unique()"
   ]
  },
  {
   "cell_type": "code",
   "execution_count": 6,
   "id": "f26c7e48-ff59-4027-ad3c-10c1215e4db2",
   "metadata": {},
   "outputs": [
    {
     "data": {
      "text/plain": [
       "array(['Partner', nan, 'Foster', 'Offsite', 'SCRP', 'Snr', 'Barn',\n",
       "       'Out State', 'Emer', 'In State'], dtype=object)"
      ]
     },
     "execution_count": 6,
     "metadata": {},
     "output_type": "execute_result"
    }
   ],
   "source": [
    "raw_data[\"Outcome Subtype\"].unique()"
   ]
  },
  {
   "cell_type": "code",
   "execution_count": 7,
   "id": "6f18af50-4ba7-4175-ae01-4a3ce6a7a544",
   "metadata": {},
   "outputs": [
    {
     "data": {
      "text/plain": [
       "numpy.ndarray"
      ]
     },
     "execution_count": 7,
     "metadata": {},
     "output_type": "execute_result"
    }
   ],
   "source": [
    "type(raw_data[\"Color\"].unique())"
   ]
  },
  {
   "cell_type": "markdown",
   "id": "7a0dc38b-1cf9-447d-a0e8-9cecf3a309fb",
   "metadata": {},
   "source": [
    "**The \"DateTime\", \"MonthYear\", and \"Age upon Outcome\" columns might need to be changed to int or cleaned up.**\n",
    "\n",
    "**The \"Outcome Type\", \"Animal Type\", and \"Sex upon Outcome\" might need to be changed to categorical data.**"
   ]
  },
  {
   "cell_type": "code",
   "execution_count": 8,
   "id": "12199ec4-9d24-44ee-8307-b61806acb8ab",
   "metadata": {},
   "outputs": [
    {
     "data": {
      "text/plain": [
       "17"
      ]
     },
     "execution_count": 8,
     "metadata": {},
     "output_type": "execute_result"
    }
   ],
   "source": [
    "raw_data.duplicated().sum()"
   ]
  },
  {
   "cell_type": "code",
   "execution_count": 9,
   "id": "deafdbbd-2cc8-4885-b91d-5990bb1fc8bf",
   "metadata": {},
   "outputs": [],
   "source": [
    "raw_data.drop_duplicates(inplace=True, ignore_index=True)"
   ]
  },
  {
   "cell_type": "markdown",
   "id": "111f3d2c-a6e1-43d6-804a-df86b445533c",
   "metadata": {},
   "source": [
    "**17 duplicate rows were dropped.**"
   ]
  },
  {
   "cell_type": "code",
   "execution_count": 10,
   "id": "ea8d0044-aec7-42a3-9d4f-222c4e30ba9d",
   "metadata": {},
   "outputs": [
    {
     "data": {
      "text/plain": [
       "Animal ID               0\n",
       "Date of Birth           0\n",
       "Name                37503\n",
       "DateTime                0\n",
       "MonthYear               0\n",
       "Outcome Type           40\n",
       "Outcome Subtype     65346\n",
       "Animal Type             0\n",
       "Sex upon Outcome        0\n",
       "Age upon Outcome        0\n",
       "Breed                   0\n",
       "Color                   0\n",
       "dtype: int64"
      ]
     },
     "execution_count": 10,
     "metadata": {},
     "output_type": "execute_result"
    }
   ],
   "source": [
    "raw_data.isnull().sum()"
   ]
  },
  {
   "cell_type": "markdown",
   "id": "c5ae9e44-ea21-40f7-85bf-ed24aa5f2584",
   "metadata": {},
   "source": [
    "**It seems like Name, Outcome Type, and Outcome Subtype are the only ones with null objects.**\n",
    "\n",
    "**For name, it seems best to just fill in the name with a label of no name, since the animal didn't have a name and it might matter.**"
   ]
  },
  {
   "cell_type": "code",
   "execution_count": 11,
   "id": "79bb329b-fabb-4a4c-82fa-f2113ddd2eae",
   "metadata": {},
   "outputs": [],
   "source": [
    "condition0 = raw_data['Name'].isna()\n",
    "raw_data.loc[condition0, \"Name\"] = raw_data.loc[condition0, \"Name\"].fillna(\"No Name\")"
   ]
  },
  {
   "cell_type": "markdown",
   "id": "07240265-f633-4438-ac8f-c20f8aa10797",
   "metadata": {},
   "source": [
    "**Let's see if there is a Outcome Subtype for the Outcome Type if it's NaN.**"
   ]
  },
  {
   "cell_type": "code",
   "execution_count": 12,
   "id": "00c8d16b-bd46-4555-b16b-1580bbff3b06",
   "metadata": {},
   "outputs": [
    {
     "data": {
      "text/html": [
       "<div>\n",
       "<style scoped>\n",
       "    .dataframe tbody tr th:only-of-type {\n",
       "        vertical-align: middle;\n",
       "    }\n",
       "\n",
       "    .dataframe tbody tr th {\n",
       "        vertical-align: top;\n",
       "    }\n",
       "\n",
       "    .dataframe thead th {\n",
       "        text-align: right;\n",
       "    }\n",
       "</style>\n",
       "<table border=\"1\" class=\"dataframe\">\n",
       "  <thead>\n",
       "    <tr style=\"text-align: right;\">\n",
       "      <th></th>\n",
       "      <th>Animal ID</th>\n",
       "      <th>Date of Birth</th>\n",
       "      <th>Name</th>\n",
       "      <th>DateTime</th>\n",
       "      <th>MonthYear</th>\n",
       "      <th>Outcome Type</th>\n",
       "      <th>Outcome Subtype</th>\n",
       "      <th>Animal Type</th>\n",
       "      <th>Sex upon Outcome</th>\n",
       "      <th>Age upon Outcome</th>\n",
       "      <th>Breed</th>\n",
       "      <th>Color</th>\n",
       "    </tr>\n",
       "  </thead>\n",
       "  <tbody>\n",
       "    <tr>\n",
       "      <th>90635</th>\n",
       "      <td>A812591</td>\n",
       "      <td>6/26/19</td>\n",
       "      <td>Cookie</td>\n",
       "      <td>2021-01-05T17:25:00</td>\n",
       "      <td>Jan-21</td>\n",
       "      <td>NaN</td>\n",
       "      <td>NaN</td>\n",
       "      <td>Dog</td>\n",
       "      <td>Spayed Female</td>\n",
       "      <td>1 year</td>\n",
       "      <td>American Bulldog Mix</td>\n",
       "      <td>White/Black</td>\n",
       "    </tr>\n",
       "    <tr>\n",
       "      <th>90637</th>\n",
       "      <td>A827712</td>\n",
       "      <td>2/29/20</td>\n",
       "      <td>No Name</td>\n",
       "      <td>2021-01-05T17:47:00</td>\n",
       "      <td>Jan-21</td>\n",
       "      <td>NaN</td>\n",
       "      <td>NaN</td>\n",
       "      <td>Dog</td>\n",
       "      <td>Spayed Female</td>\n",
       "      <td>10 months</td>\n",
       "      <td>German Shepherd</td>\n",
       "      <td>Tan/Black</td>\n",
       "    </tr>\n",
       "    <tr>\n",
       "      <th>90747</th>\n",
       "      <td>A700839</td>\n",
       "      <td>4/20/14</td>\n",
       "      <td>*Turkey</td>\n",
       "      <td>2021-01-12T18:07:00</td>\n",
       "      <td>Jan-21</td>\n",
       "      <td>NaN</td>\n",
       "      <td>NaN</td>\n",
       "      <td>Dog</td>\n",
       "      <td>Neutered Male</td>\n",
       "      <td>6 years</td>\n",
       "      <td>Pit Bull Mix</td>\n",
       "      <td>Blue</td>\n",
       "    </tr>\n",
       "    <tr>\n",
       "      <th>90980</th>\n",
       "      <td>A828543</td>\n",
       "      <td>7/20/20</td>\n",
       "      <td>*Blake</td>\n",
       "      <td>2021-01-27T14:24:00</td>\n",
       "      <td>Jan-21</td>\n",
       "      <td>NaN</td>\n",
       "      <td>NaN</td>\n",
       "      <td>Dog</td>\n",
       "      <td>Spayed Female</td>\n",
       "      <td>6 months</td>\n",
       "      <td>Labrador Retriever/Border Collie</td>\n",
       "      <td>Black/White</td>\n",
       "    </tr>\n",
       "    <tr>\n",
       "      <th>90984</th>\n",
       "      <td>A828570</td>\n",
       "      <td>9/20/20</td>\n",
       "      <td>*Cupid</td>\n",
       "      <td>2021-01-27T16:59:00</td>\n",
       "      <td>Jan-21</td>\n",
       "      <td>NaN</td>\n",
       "      <td>NaN</td>\n",
       "      <td>Dog</td>\n",
       "      <td>Neutered Male</td>\n",
       "      <td>4 months</td>\n",
       "      <td>American Bulldog Mix</td>\n",
       "      <td>Black/White</td>\n",
       "    </tr>\n",
       "    <tr>\n",
       "      <th>91096</th>\n",
       "      <td>A828272</td>\n",
       "      <td>1/12/20</td>\n",
       "      <td>*Dawson</td>\n",
       "      <td>2021-02-02T18:01:00</td>\n",
       "      <td>Feb-21</td>\n",
       "      <td>NaN</td>\n",
       "      <td>NaN</td>\n",
       "      <td>Dog</td>\n",
       "      <td>Neutered Male</td>\n",
       "      <td>1 year</td>\n",
       "      <td>Blue Lacy Mix</td>\n",
       "      <td>Blue/White</td>\n",
       "    </tr>\n",
       "    <tr>\n",
       "      <th>91108</th>\n",
       "      <td>A828974</td>\n",
       "      <td>1/30/19</td>\n",
       "      <td>No Name</td>\n",
       "      <td>2021-02-03T15:55:00</td>\n",
       "      <td>Feb-21</td>\n",
       "      <td>NaN</td>\n",
       "      <td>Snr</td>\n",
       "      <td>Cat</td>\n",
       "      <td>Spayed Female</td>\n",
       "      <td>2 years</td>\n",
       "      <td>Domestic Shorthair</td>\n",
       "      <td>Black</td>\n",
       "    </tr>\n",
       "    <tr>\n",
       "      <th>91224</th>\n",
       "      <td>A829148</td>\n",
       "      <td>12/3/20</td>\n",
       "      <td>Bingo</td>\n",
       "      <td>2021-02-12T12:25:00</td>\n",
       "      <td>Feb-21</td>\n",
       "      <td>NaN</td>\n",
       "      <td>NaN</td>\n",
       "      <td>Dog</td>\n",
       "      <td>Neutered Male</td>\n",
       "      <td>2 months</td>\n",
       "      <td>Pit Bull</td>\n",
       "      <td>Blue/White</td>\n",
       "    </tr>\n",
       "    <tr>\n",
       "      <th>91241</th>\n",
       "      <td>A719747</td>\n",
       "      <td>10/26/15</td>\n",
       "      <td>Layla</td>\n",
       "      <td>2021-02-13T10:58:00</td>\n",
       "      <td>Feb-21</td>\n",
       "      <td>NaN</td>\n",
       "      <td>NaN</td>\n",
       "      <td>Dog</td>\n",
       "      <td>Spayed Female</td>\n",
       "      <td>5 years</td>\n",
       "      <td>American Pit Bull Terrier Mix</td>\n",
       "      <td>White/Brown</td>\n",
       "    </tr>\n",
       "    <tr>\n",
       "      <th>91266</th>\n",
       "      <td>A828280</td>\n",
       "      <td>10/20/16</td>\n",
       "      <td>Reggie</td>\n",
       "      <td>2021-02-20T12:20:00</td>\n",
       "      <td>Feb-21</td>\n",
       "      <td>NaN</td>\n",
       "      <td>NaN</td>\n",
       "      <td>Dog</td>\n",
       "      <td>Neutered Male</td>\n",
       "      <td>4 years</td>\n",
       "      <td>Labrador Retriever Mix</td>\n",
       "      <td>Yellow/White</td>\n",
       "    </tr>\n",
       "    <tr>\n",
       "      <th>91409</th>\n",
       "      <td>A830075</td>\n",
       "      <td>3/2/20</td>\n",
       "      <td>Waffle</td>\n",
       "      <td>2021-03-02T13:34:00</td>\n",
       "      <td>Mar-21</td>\n",
       "      <td>NaN</td>\n",
       "      <td>NaN</td>\n",
       "      <td>Dog</td>\n",
       "      <td>Intact Male</td>\n",
       "      <td>1 year</td>\n",
       "      <td>Chihuahua Shorthair Mix</td>\n",
       "      <td>Tan</td>\n",
       "    </tr>\n",
       "    <tr>\n",
       "      <th>91426</th>\n",
       "      <td>A830164</td>\n",
       "      <td>1/19/21</td>\n",
       "      <td>No Name</td>\n",
       "      <td>2021-03-03T14:28:00</td>\n",
       "      <td>Mar-21</td>\n",
       "      <td>NaN</td>\n",
       "      <td>NaN</td>\n",
       "      <td>Dog</td>\n",
       "      <td>Unknown</td>\n",
       "      <td>1 month</td>\n",
       "      <td>Pug Mix</td>\n",
       "      <td>Black/White</td>\n",
       "    </tr>\n",
       "    <tr>\n",
       "      <th>91541</th>\n",
       "      <td>A830563</td>\n",
       "      <td>12/11/19</td>\n",
       "      <td>*Dr Seuss</td>\n",
       "      <td>2021-03-11T13:32:00</td>\n",
       "      <td>Mar-21</td>\n",
       "      <td>NaN</td>\n",
       "      <td>NaN</td>\n",
       "      <td>Dog</td>\n",
       "      <td>Intact Male</td>\n",
       "      <td>1 year</td>\n",
       "      <td>Pit Bull</td>\n",
       "      <td>Black</td>\n",
       "    </tr>\n",
       "    <tr>\n",
       "      <th>93768</th>\n",
       "      <td>A837337</td>\n",
       "      <td>4/21/21</td>\n",
       "      <td>No Name</td>\n",
       "      <td>2021-06-21T16:13:00</td>\n",
       "      <td>Jun-21</td>\n",
       "      <td>NaN</td>\n",
       "      <td>NaN</td>\n",
       "      <td>Cat</td>\n",
       "      <td>Intact Male</td>\n",
       "      <td>1 month</td>\n",
       "      <td>Domestic Medium Hair</td>\n",
       "      <td>Black Smoke</td>\n",
       "    </tr>\n",
       "    <tr>\n",
       "      <th>93938</th>\n",
       "      <td>A836960</td>\n",
       "      <td>6/16/19</td>\n",
       "      <td>Stitch</td>\n",
       "      <td>2021-06-26T11:28:00</td>\n",
       "      <td>Jun-21</td>\n",
       "      <td>NaN</td>\n",
       "      <td>NaN</td>\n",
       "      <td>Dog</td>\n",
       "      <td>Intact Male</td>\n",
       "      <td>2 years</td>\n",
       "      <td>Pug Mix</td>\n",
       "      <td>Black/White</td>\n",
       "    </tr>\n",
       "    <tr>\n",
       "      <th>94963</th>\n",
       "      <td>A836061</td>\n",
       "      <td>6/5/19</td>\n",
       "      <td>Elvira</td>\n",
       "      <td>2021-07-24T18:49:00</td>\n",
       "      <td>Jul-21</td>\n",
       "      <td>NaN</td>\n",
       "      <td>NaN</td>\n",
       "      <td>Cat</td>\n",
       "      <td>Spayed Female</td>\n",
       "      <td>2 years</td>\n",
       "      <td>Domestic Shorthair</td>\n",
       "      <td>Tortie</td>\n",
       "    </tr>\n",
       "    <tr>\n",
       "      <th>96266</th>\n",
       "      <td>A841539</td>\n",
       "      <td>8/29/19</td>\n",
       "      <td>No Name</td>\n",
       "      <td>2021-08-30T18:10:00</td>\n",
       "      <td>Aug-21</td>\n",
       "      <td>NaN</td>\n",
       "      <td>NaN</td>\n",
       "      <td>Dog</td>\n",
       "      <td>Intact Male</td>\n",
       "      <td>2 years</td>\n",
       "      <td>German Shepherd</td>\n",
       "      <td>Black/Tan</td>\n",
       "    </tr>\n",
       "    <tr>\n",
       "      <th>109775</th>\n",
       "      <td>A872667</td>\n",
       "      <td>5/26/09</td>\n",
       "      <td>Torby Girl</td>\n",
       "      <td>2023-01-13T12:12:00</td>\n",
       "      <td>Jan-23</td>\n",
       "      <td>NaN</td>\n",
       "      <td>NaN</td>\n",
       "      <td>Cat</td>\n",
       "      <td>Spayed Female</td>\n",
       "      <td>13 years</td>\n",
       "      <td>Domestic Shorthair</td>\n",
       "      <td>Tortie</td>\n",
       "    </tr>\n",
       "    <tr>\n",
       "      <th>110475</th>\n",
       "      <td>A874518</td>\n",
       "      <td>2/13/22</td>\n",
       "      <td>No Name</td>\n",
       "      <td>2023-02-14T09:10:00</td>\n",
       "      <td>Feb-23</td>\n",
       "      <td>NaN</td>\n",
       "      <td>NaN</td>\n",
       "      <td>Bird</td>\n",
       "      <td>Unknown</td>\n",
       "      <td>1 year</td>\n",
       "      <td>Waxwing</td>\n",
       "      <td>Tan/Black</td>\n",
       "    </tr>\n",
       "    <tr>\n",
       "      <th>110657</th>\n",
       "      <td>A875192</td>\n",
       "      <td>2/23/22</td>\n",
       "      <td>Shalimar</td>\n",
       "      <td>2023-02-23T15:46:00</td>\n",
       "      <td>Feb-23</td>\n",
       "      <td>NaN</td>\n",
       "      <td>NaN</td>\n",
       "      <td>Dog</td>\n",
       "      <td>Unknown</td>\n",
       "      <td>1 year</td>\n",
       "      <td>Pekingese</td>\n",
       "      <td>Black/White</td>\n",
       "    </tr>\n",
       "    <tr>\n",
       "      <th>113286</th>\n",
       "      <td>A882682</td>\n",
       "      <td>6/7/21</td>\n",
       "      <td>Zeus</td>\n",
       "      <td>2023-06-07T19:22:00</td>\n",
       "      <td>Jun-23</td>\n",
       "      <td>NaN</td>\n",
       "      <td>NaN</td>\n",
       "      <td>Dog</td>\n",
       "      <td>Intact Male</td>\n",
       "      <td>2 years</td>\n",
       "      <td>Doberman Pinsch Mix</td>\n",
       "      <td>Black/Brown</td>\n",
       "    </tr>\n",
       "    <tr>\n",
       "      <th>113444</th>\n",
       "      <td>A802210</td>\n",
       "      <td>7/30/19</td>\n",
       "      <td>*Butters</td>\n",
       "      <td>2023-06-13T10:09:00</td>\n",
       "      <td>Jun-23</td>\n",
       "      <td>NaN</td>\n",
       "      <td>NaN</td>\n",
       "      <td>Cat</td>\n",
       "      <td>Neutered Male</td>\n",
       "      <td>3 years</td>\n",
       "      <td>Domestic Shorthair</td>\n",
       "      <td>Cream Tabby</td>\n",
       "    </tr>\n",
       "    <tr>\n",
       "      <th>113559</th>\n",
       "      <td>A882904</td>\n",
       "      <td>6/10/21</td>\n",
       "      <td>Fb Mcgee</td>\n",
       "      <td>2023-06-16T18:48:00</td>\n",
       "      <td>Jun-23</td>\n",
       "      <td>NaN</td>\n",
       "      <td>NaN</td>\n",
       "      <td>Dog</td>\n",
       "      <td>Neutered Male</td>\n",
       "      <td>2 years</td>\n",
       "      <td>Mastiff Mix</td>\n",
       "      <td>Tan</td>\n",
       "    </tr>\n",
       "    <tr>\n",
       "      <th>118148</th>\n",
       "      <td>A891335</td>\n",
       "      <td>9/4/23</td>\n",
       "      <td>Katniss Everbean Horton</td>\n",
       "      <td>2023-12-09T14:25:00</td>\n",
       "      <td>Dec-23</td>\n",
       "      <td>NaN</td>\n",
       "      <td>NaN</td>\n",
       "      <td>Cat</td>\n",
       "      <td>Spayed Female</td>\n",
       "      <td>3 months</td>\n",
       "      <td>Domestic Shorthair</td>\n",
       "      <td>Black/White</td>\n",
       "    </tr>\n",
       "    <tr>\n",
       "      <th>118277</th>\n",
       "      <td>A890645</td>\n",
       "      <td>9/11/23</td>\n",
       "      <td>No Name</td>\n",
       "      <td>2023-12-14T16:22:00</td>\n",
       "      <td>Dec-23</td>\n",
       "      <td>NaN</td>\n",
       "      <td>Foster</td>\n",
       "      <td>Cat</td>\n",
       "      <td>Spayed Female</td>\n",
       "      <td>3 months</td>\n",
       "      <td>Siamese Mix</td>\n",
       "      <td>Lynx Point</td>\n",
       "    </tr>\n",
       "    <tr>\n",
       "      <th>118407</th>\n",
       "      <td>A894378</td>\n",
       "      <td>12/7/21</td>\n",
       "      <td>No Name</td>\n",
       "      <td>2023-12-19T17:09:00</td>\n",
       "      <td>Dec-23</td>\n",
       "      <td>NaN</td>\n",
       "      <td>NaN</td>\n",
       "      <td>Dog</td>\n",
       "      <td>Spayed Female</td>\n",
       "      <td>2 years</td>\n",
       "      <td>Cairn Terrier/Chihuahua Shorthair</td>\n",
       "      <td>White</td>\n",
       "    </tr>\n",
       "    <tr>\n",
       "      <th>121443</th>\n",
       "      <td>A903014</td>\n",
       "      <td>4/24/19</td>\n",
       "      <td>No Name</td>\n",
       "      <td>2024-04-24T10:33:00</td>\n",
       "      <td>Apr-24</td>\n",
       "      <td>NaN</td>\n",
       "      <td>NaN</td>\n",
       "      <td>Dog</td>\n",
       "      <td>Unknown</td>\n",
       "      <td>5 years</td>\n",
       "      <td>American Bulldog Mix</td>\n",
       "      <td>Brown</td>\n",
       "    </tr>\n",
       "    <tr>\n",
       "      <th>122744</th>\n",
       "      <td>A905818</td>\n",
       "      <td>7/3/23</td>\n",
       "      <td>*T Bone</td>\n",
       "      <td>2024-06-08T10:09:00</td>\n",
       "      <td>Jun-24</td>\n",
       "      <td>NaN</td>\n",
       "      <td>NaN</td>\n",
       "      <td>Dog</td>\n",
       "      <td>Intact Male</td>\n",
       "      <td>11 months</td>\n",
       "      <td>Pit Bull</td>\n",
       "      <td>Blue/White</td>\n",
       "    </tr>\n",
       "    <tr>\n",
       "      <th>122776</th>\n",
       "      <td>A906001</td>\n",
       "      <td>5/28/22</td>\n",
       "      <td>Perla</td>\n",
       "      <td>2024-06-08T16:44:00</td>\n",
       "      <td>Jun-24</td>\n",
       "      <td>NaN</td>\n",
       "      <td>NaN</td>\n",
       "      <td>Dog</td>\n",
       "      <td>Intact Female</td>\n",
       "      <td>2 years</td>\n",
       "      <td>Siberian Husky</td>\n",
       "      <td>White</td>\n",
       "    </tr>\n",
       "    <tr>\n",
       "      <th>124082</th>\n",
       "      <td>A901868</td>\n",
       "      <td>9/9/23</td>\n",
       "      <td>Louie</td>\n",
       "      <td>2024-07-21T12:46:00</td>\n",
       "      <td>Jul-24</td>\n",
       "      <td>NaN</td>\n",
       "      <td>NaN</td>\n",
       "      <td>Dog</td>\n",
       "      <td>Neutered Male</td>\n",
       "      <td>10 months</td>\n",
       "      <td>Wire Hair Fox Terrier Mix</td>\n",
       "      <td>Brown</td>\n",
       "    </tr>\n",
       "    <tr>\n",
       "      <th>124194</th>\n",
       "      <td>A907897</td>\n",
       "      <td>6/22/23</td>\n",
       "      <td>Lucy</td>\n",
       "      <td>2024-07-25T17:19:00</td>\n",
       "      <td>Jul-24</td>\n",
       "      <td>NaN</td>\n",
       "      <td>NaN</td>\n",
       "      <td>Dog</td>\n",
       "      <td>Spayed Female</td>\n",
       "      <td>1 year</td>\n",
       "      <td>Siberian Husky</td>\n",
       "      <td>Brown/White</td>\n",
       "    </tr>\n",
       "    <tr>\n",
       "      <th>124237</th>\n",
       "      <td>A906696</td>\n",
       "      <td>4/14/24</td>\n",
       "      <td>Graham Cracker</td>\n",
       "      <td>2024-07-26T18:51:00</td>\n",
       "      <td>Jul-24</td>\n",
       "      <td>NaN</td>\n",
       "      <td>NaN</td>\n",
       "      <td>Cat</td>\n",
       "      <td>Spayed Female</td>\n",
       "      <td>3 months</td>\n",
       "      <td>Domestic Shorthair</td>\n",
       "      <td>Torbie/White</td>\n",
       "    </tr>\n",
       "    <tr>\n",
       "      <th>125927</th>\n",
       "      <td>A913327</td>\n",
       "      <td>9/28/22</td>\n",
       "      <td>Star</td>\n",
       "      <td>2024-09-28T10:09:00</td>\n",
       "      <td>Sep-24</td>\n",
       "      <td>NaN</td>\n",
       "      <td>NaN</td>\n",
       "      <td>Dog</td>\n",
       "      <td>Spayed Female</td>\n",
       "      <td>2 years</td>\n",
       "      <td>Belgian Malinois</td>\n",
       "      <td>Brown/Black</td>\n",
       "    </tr>\n",
       "    <tr>\n",
       "      <th>125928</th>\n",
       "      <td>A913328</td>\n",
       "      <td>9/14/22</td>\n",
       "      <td>Mia</td>\n",
       "      <td>2024-09-28T10:09:00</td>\n",
       "      <td>Sep-24</td>\n",
       "      <td>NaN</td>\n",
       "      <td>NaN</td>\n",
       "      <td>Dog</td>\n",
       "      <td>Spayed Female</td>\n",
       "      <td>2 years</td>\n",
       "      <td>German Shepherd</td>\n",
       "      <td>Brown/Black</td>\n",
       "    </tr>\n",
       "    <tr>\n",
       "      <th>126530</th>\n",
       "      <td>A915417</td>\n",
       "      <td>8/15/24</td>\n",
       "      <td>No Name</td>\n",
       "      <td>2024-10-21T18:18:00</td>\n",
       "      <td>Oct-24</td>\n",
       "      <td>NaN</td>\n",
       "      <td>NaN</td>\n",
       "      <td>Cat</td>\n",
       "      <td>Neutered Male</td>\n",
       "      <td>2 months</td>\n",
       "      <td>Domestic Medium Hair</td>\n",
       "      <td>Black</td>\n",
       "    </tr>\n",
       "    <tr>\n",
       "      <th>129223</th>\n",
       "      <td>A923461</td>\n",
       "      <td>4/4/24</td>\n",
       "      <td>No Name</td>\n",
       "      <td>2025-02-08T11:54:00</td>\n",
       "      <td>Feb-25</td>\n",
       "      <td>NaN</td>\n",
       "      <td>NaN</td>\n",
       "      <td>Dog</td>\n",
       "      <td>Intact Male</td>\n",
       "      <td>10 months</td>\n",
       "      <td>West Highland/Yorkshire Terrier</td>\n",
       "      <td>White/Cream</td>\n",
       "    </tr>\n",
       "    <tr>\n",
       "      <th>130029</th>\n",
       "      <td>A920579</td>\n",
       "      <td>12/16/23</td>\n",
       "      <td>Cherry</td>\n",
       "      <td>2025-03-14T16:16:00</td>\n",
       "      <td>Mar-25</td>\n",
       "      <td>NaN</td>\n",
       "      <td>NaN</td>\n",
       "      <td>Dog</td>\n",
       "      <td>Spayed Female</td>\n",
       "      <td>1 year</td>\n",
       "      <td>Pit Bull Mix</td>\n",
       "      <td>Black/White</td>\n",
       "    </tr>\n",
       "    <tr>\n",
       "      <th>130340</th>\n",
       "      <td>A925732</td>\n",
       "      <td>2/28/16</td>\n",
       "      <td>*Reggie</td>\n",
       "      <td>2025-03-28T16:35:00</td>\n",
       "      <td>Mar-25</td>\n",
       "      <td>NaN</td>\n",
       "      <td>NaN</td>\n",
       "      <td>Dog</td>\n",
       "      <td>Neutered Male</td>\n",
       "      <td>9 years</td>\n",
       "      <td>German Shepherd</td>\n",
       "      <td>Brown/Black</td>\n",
       "    </tr>\n",
       "    <tr>\n",
       "      <th>130511</th>\n",
       "      <td>A927462</td>\n",
       "      <td>6/4/24</td>\n",
       "      <td>*Bluey</td>\n",
       "      <td>2025-04-04T16:04:00</td>\n",
       "      <td>Apr-25</td>\n",
       "      <td>NaN</td>\n",
       "      <td>NaN</td>\n",
       "      <td>Dog</td>\n",
       "      <td>Intact Female</td>\n",
       "      <td>9 months</td>\n",
       "      <td>Siberian Husky Mix</td>\n",
       "      <td>Black/Cream</td>\n",
       "    </tr>\n",
       "    <tr>\n",
       "      <th>130578</th>\n",
       "      <td>A820722</td>\n",
       "      <td>12/27/19</td>\n",
       "      <td>Sky</td>\n",
       "      <td>2025-04-07T18:43:00</td>\n",
       "      <td>Apr-25</td>\n",
       "      <td>NaN</td>\n",
       "      <td>NaN</td>\n",
       "      <td>Dog</td>\n",
       "      <td>Spayed Female</td>\n",
       "      <td>5 years</td>\n",
       "      <td>Pit Bull Mix</td>\n",
       "      <td>Fawn/White</td>\n",
       "    </tr>\n",
       "  </tbody>\n",
       "</table>\n",
       "</div>"
      ],
      "text/plain": [
       "       Animal ID Date of Birth                     Name             DateTime  \\\n",
       "90635    A812591       6/26/19                   Cookie  2021-01-05T17:25:00   \n",
       "90637    A827712       2/29/20                  No Name  2021-01-05T17:47:00   \n",
       "90747    A700839       4/20/14                  *Turkey  2021-01-12T18:07:00   \n",
       "90980    A828543       7/20/20                   *Blake  2021-01-27T14:24:00   \n",
       "90984    A828570       9/20/20                   *Cupid  2021-01-27T16:59:00   \n",
       "91096    A828272       1/12/20                  *Dawson  2021-02-02T18:01:00   \n",
       "91108    A828974       1/30/19                  No Name  2021-02-03T15:55:00   \n",
       "91224    A829148       12/3/20                    Bingo  2021-02-12T12:25:00   \n",
       "91241    A719747      10/26/15                    Layla  2021-02-13T10:58:00   \n",
       "91266    A828280      10/20/16                   Reggie  2021-02-20T12:20:00   \n",
       "91409    A830075        3/2/20                   Waffle  2021-03-02T13:34:00   \n",
       "91426    A830164       1/19/21                  No Name  2021-03-03T14:28:00   \n",
       "91541    A830563      12/11/19                *Dr Seuss  2021-03-11T13:32:00   \n",
       "93768    A837337       4/21/21                  No Name  2021-06-21T16:13:00   \n",
       "93938    A836960       6/16/19                   Stitch  2021-06-26T11:28:00   \n",
       "94963    A836061        6/5/19                   Elvira  2021-07-24T18:49:00   \n",
       "96266    A841539       8/29/19                  No Name  2021-08-30T18:10:00   \n",
       "109775   A872667       5/26/09               Torby Girl  2023-01-13T12:12:00   \n",
       "110475   A874518       2/13/22                  No Name  2023-02-14T09:10:00   \n",
       "110657   A875192       2/23/22                 Shalimar  2023-02-23T15:46:00   \n",
       "113286   A882682        6/7/21                     Zeus  2023-06-07T19:22:00   \n",
       "113444   A802210       7/30/19                 *Butters  2023-06-13T10:09:00   \n",
       "113559   A882904       6/10/21                 Fb Mcgee  2023-06-16T18:48:00   \n",
       "118148   A891335        9/4/23  Katniss Everbean Horton  2023-12-09T14:25:00   \n",
       "118277   A890645       9/11/23                  No Name  2023-12-14T16:22:00   \n",
       "118407   A894378       12/7/21                  No Name  2023-12-19T17:09:00   \n",
       "121443   A903014       4/24/19                  No Name  2024-04-24T10:33:00   \n",
       "122744   A905818        7/3/23                  *T Bone  2024-06-08T10:09:00   \n",
       "122776   A906001       5/28/22                    Perla  2024-06-08T16:44:00   \n",
       "124082   A901868        9/9/23                    Louie  2024-07-21T12:46:00   \n",
       "124194   A907897       6/22/23                     Lucy  2024-07-25T17:19:00   \n",
       "124237   A906696       4/14/24           Graham Cracker  2024-07-26T18:51:00   \n",
       "125927   A913327       9/28/22                     Star  2024-09-28T10:09:00   \n",
       "125928   A913328       9/14/22                      Mia  2024-09-28T10:09:00   \n",
       "126530   A915417       8/15/24                  No Name  2024-10-21T18:18:00   \n",
       "129223   A923461        4/4/24                  No Name  2025-02-08T11:54:00   \n",
       "130029   A920579      12/16/23                   Cherry  2025-03-14T16:16:00   \n",
       "130340   A925732       2/28/16                  *Reggie  2025-03-28T16:35:00   \n",
       "130511   A927462        6/4/24                   *Bluey  2025-04-04T16:04:00   \n",
       "130578   A820722      12/27/19                      Sky  2025-04-07T18:43:00   \n",
       "\n",
       "       MonthYear Outcome Type Outcome Subtype Animal Type Sex upon Outcome  \\\n",
       "90635     Jan-21          NaN             NaN         Dog    Spayed Female   \n",
       "90637     Jan-21          NaN             NaN         Dog    Spayed Female   \n",
       "90747     Jan-21          NaN             NaN         Dog    Neutered Male   \n",
       "90980     Jan-21          NaN             NaN         Dog    Spayed Female   \n",
       "90984     Jan-21          NaN             NaN         Dog    Neutered Male   \n",
       "91096     Feb-21          NaN             NaN         Dog    Neutered Male   \n",
       "91108     Feb-21          NaN             Snr         Cat    Spayed Female   \n",
       "91224     Feb-21          NaN             NaN         Dog    Neutered Male   \n",
       "91241     Feb-21          NaN             NaN         Dog    Spayed Female   \n",
       "91266     Feb-21          NaN             NaN         Dog    Neutered Male   \n",
       "91409     Mar-21          NaN             NaN         Dog      Intact Male   \n",
       "91426     Mar-21          NaN             NaN         Dog          Unknown   \n",
       "91541     Mar-21          NaN             NaN         Dog      Intact Male   \n",
       "93768     Jun-21          NaN             NaN         Cat      Intact Male   \n",
       "93938     Jun-21          NaN             NaN         Dog      Intact Male   \n",
       "94963     Jul-21          NaN             NaN         Cat    Spayed Female   \n",
       "96266     Aug-21          NaN             NaN         Dog      Intact Male   \n",
       "109775    Jan-23          NaN             NaN         Cat    Spayed Female   \n",
       "110475    Feb-23          NaN             NaN        Bird          Unknown   \n",
       "110657    Feb-23          NaN             NaN         Dog          Unknown   \n",
       "113286    Jun-23          NaN             NaN         Dog      Intact Male   \n",
       "113444    Jun-23          NaN             NaN         Cat    Neutered Male   \n",
       "113559    Jun-23          NaN             NaN         Dog    Neutered Male   \n",
       "118148    Dec-23          NaN             NaN         Cat    Spayed Female   \n",
       "118277    Dec-23          NaN          Foster         Cat    Spayed Female   \n",
       "118407    Dec-23          NaN             NaN         Dog    Spayed Female   \n",
       "121443    Apr-24          NaN             NaN         Dog          Unknown   \n",
       "122744    Jun-24          NaN             NaN         Dog      Intact Male   \n",
       "122776    Jun-24          NaN             NaN         Dog    Intact Female   \n",
       "124082    Jul-24          NaN             NaN         Dog    Neutered Male   \n",
       "124194    Jul-24          NaN             NaN         Dog    Spayed Female   \n",
       "124237    Jul-24          NaN             NaN         Cat    Spayed Female   \n",
       "125927    Sep-24          NaN             NaN         Dog    Spayed Female   \n",
       "125928    Sep-24          NaN             NaN         Dog    Spayed Female   \n",
       "126530    Oct-24          NaN             NaN         Cat    Neutered Male   \n",
       "129223    Feb-25          NaN             NaN         Dog      Intact Male   \n",
       "130029    Mar-25          NaN             NaN         Dog    Spayed Female   \n",
       "130340    Mar-25          NaN             NaN         Dog    Neutered Male   \n",
       "130511    Apr-25          NaN             NaN         Dog    Intact Female   \n",
       "130578    Apr-25          NaN             NaN         Dog    Spayed Female   \n",
       "\n",
       "       Age upon Outcome                              Breed         Color  \n",
       "90635            1 year               American Bulldog Mix   White/Black  \n",
       "90637         10 months                    German Shepherd     Tan/Black  \n",
       "90747           6 years                       Pit Bull Mix          Blue  \n",
       "90980          6 months   Labrador Retriever/Border Collie   Black/White  \n",
       "90984          4 months               American Bulldog Mix   Black/White  \n",
       "91096            1 year                      Blue Lacy Mix    Blue/White  \n",
       "91108           2 years                 Domestic Shorthair         Black  \n",
       "91224          2 months                           Pit Bull    Blue/White  \n",
       "91241           5 years      American Pit Bull Terrier Mix   White/Brown  \n",
       "91266           4 years             Labrador Retriever Mix  Yellow/White  \n",
       "91409            1 year            Chihuahua Shorthair Mix           Tan  \n",
       "91426           1 month                            Pug Mix   Black/White  \n",
       "91541            1 year                           Pit Bull         Black  \n",
       "93768           1 month               Domestic Medium Hair   Black Smoke  \n",
       "93938           2 years                            Pug Mix   Black/White  \n",
       "94963           2 years                 Domestic Shorthair        Tortie  \n",
       "96266           2 years                    German Shepherd     Black/Tan  \n",
       "109775         13 years                 Domestic Shorthair        Tortie  \n",
       "110475           1 year                            Waxwing     Tan/Black  \n",
       "110657           1 year                          Pekingese   Black/White  \n",
       "113286          2 years                Doberman Pinsch Mix   Black/Brown  \n",
       "113444          3 years                 Domestic Shorthair   Cream Tabby  \n",
       "113559          2 years                        Mastiff Mix           Tan  \n",
       "118148         3 months                 Domestic Shorthair   Black/White  \n",
       "118277         3 months                        Siamese Mix    Lynx Point  \n",
       "118407          2 years  Cairn Terrier/Chihuahua Shorthair         White  \n",
       "121443          5 years               American Bulldog Mix         Brown  \n",
       "122744        11 months                           Pit Bull    Blue/White  \n",
       "122776          2 years                     Siberian Husky         White  \n",
       "124082        10 months          Wire Hair Fox Terrier Mix         Brown  \n",
       "124194           1 year                     Siberian Husky   Brown/White  \n",
       "124237         3 months                 Domestic Shorthair  Torbie/White  \n",
       "125927          2 years                   Belgian Malinois   Brown/Black  \n",
       "125928          2 years                    German Shepherd   Brown/Black  \n",
       "126530         2 months               Domestic Medium Hair         Black  \n",
       "129223        10 months    West Highland/Yorkshire Terrier   White/Cream  \n",
       "130029           1 year                       Pit Bull Mix   Black/White  \n",
       "130340          9 years                    German Shepherd   Brown/Black  \n",
       "130511         9 months                 Siberian Husky Mix   Black/Cream  \n",
       "130578          5 years                       Pit Bull Mix    Fawn/White  "
      ]
     },
     "execution_count": 12,
     "metadata": {},
     "output_type": "execute_result"
    }
   ],
   "source": [
    "raw_data[raw_data[\"Outcome Type\"].isna()]"
   ]
  },
  {
   "cell_type": "code",
   "execution_count": 13,
   "id": "557583b8-7991-4b5f-b96d-0f816d682bac",
   "metadata": {},
   "outputs": [
    {
     "data": {
      "text/plain": [
       "'*Turkey'"
      ]
     },
     "execution_count": 13,
     "metadata": {},
     "output_type": "execute_result"
    }
   ],
   "source": [
    "something = raw_data[raw_data[\"Outcome Type\"].isna()]\n",
    "something.iloc[2].Name"
   ]
  },
  {
   "cell_type": "markdown",
   "id": "e2406af4-b758-45a8-b3f8-51c1e361264d",
   "metadata": {},
   "source": [
    "**Just saw that there is an asterisk by some of them, which is weird and I'll look at them later.**"
   ]
  },
  {
   "cell_type": "code",
   "execution_count": 14,
   "id": "ae31145d-4586-477f-b7eb-d51b011e82f7",
   "metadata": {},
   "outputs": [
    {
     "data": {
      "text/plain": [
       "Animal ID               0\n",
       "Date of Birth           0\n",
       "Name                    0\n",
       "DateTime                0\n",
       "MonthYear               0\n",
       "Outcome Type           40\n",
       "Outcome Subtype     65346\n",
       "Animal Type             0\n",
       "Sex upon Outcome        0\n",
       "Age upon Outcome        0\n",
       "Breed                   0\n",
       "Color                   0\n",
       "dtype: int64"
      ]
     },
     "execution_count": 14,
     "metadata": {},
     "output_type": "execute_result"
    }
   ],
   "source": [
    "raw_data.isnull().sum()"
   ]
  },
  {
   "cell_type": "code",
   "execution_count": 15,
   "id": "7f9e7e4f-7151-4cc9-8ed2-8ab54f231042",
   "metadata": {},
   "outputs": [
    {
     "data": {
      "text/plain": [
       "83580"
      ]
     },
     "execution_count": 15,
     "metadata": {},
     "output_type": "execute_result"
    }
   ],
   "source": [
    "condition = raw_data[\"Outcome Type\"] == \"Adoption\"\n",
    "condition.sum()"
   ]
  },
  {
   "cell_type": "code",
   "execution_count": 16,
   "id": "2888514f-a988-4d9f-98e1-a3f08fe9b915",
   "metadata": {},
   "outputs": [
    {
     "data": {
      "text/plain": [
       "65308"
      ]
     },
     "execution_count": 16,
     "metadata": {},
     "output_type": "execute_result"
    }
   ],
   "source": [
    "condition2 = (raw_data[\"Outcome Type\"] == \"Adoption\") & (raw_data[\"Outcome Subtype\"].isna())\n",
    "condition2.sum()"
   ]
  },
  {
   "cell_type": "code",
   "execution_count": 17,
   "id": "b702513d-ceb4-400d-b2c7-cf3a9c9f3a82",
   "metadata": {},
   "outputs": [
    {
     "data": {
      "text/plain": [
       "38"
      ]
     },
     "execution_count": 17,
     "metadata": {},
     "output_type": "execute_result"
    }
   ],
   "source": [
    "condition3 = (raw_data[\"Outcome Type\"].isna()) & (raw_data[\"Outcome Subtype\"].isna())\n",
    "condition3.sum()"
   ]
  },
  {
   "cell_type": "code",
   "execution_count": 18,
   "id": "855f11f0-f212-4897-b467-e6b9e8fd5d7c",
   "metadata": {},
   "outputs": [
    {
     "data": {
      "text/plain": [
       "65346"
      ]
     },
     "execution_count": 18,
     "metadata": {},
     "output_type": "execute_result"
    }
   ],
   "source": [
    "condition2.sum() + condition3.sum()"
   ]
  },
  {
   "cell_type": "markdown",
   "id": "b682ffea-1e8e-4d2c-9ff3-f2c358f34588",
   "metadata": {},
   "source": [
    "**Ok, so all the missing values for Outcome Subtypes are when Outcome Types is adopted or NaN.**\n",
    "\n",
    "**When the value is missing for both, we just drop because we don't know what it could be, and there's only 38 of them.**"
   ]
  },
  {
   "cell_type": "code",
   "execution_count": 19,
   "id": "81f5b290-87d5-42cc-943a-63f63066c51b",
   "metadata": {},
   "outputs": [],
   "source": [
    "raw_data.drop(raw_data[condition3].index, inplace=True)"
   ]
  },
  {
   "cell_type": "code",
   "execution_count": 20,
   "id": "62b5e372-2efc-402c-b519-66134d5e6671",
   "metadata": {},
   "outputs": [
    {
     "data": {
      "text/plain": [
       "Animal ID               0\n",
       "Date of Birth           0\n",
       "Name                    0\n",
       "DateTime                0\n",
       "MonthYear               0\n",
       "Outcome Type            2\n",
       "Outcome Subtype     65308\n",
       "Animal Type             0\n",
       "Sex upon Outcome        0\n",
       "Age upon Outcome        0\n",
       "Breed                   0\n",
       "Color                   0\n",
       "dtype: int64"
      ]
     },
     "execution_count": 20,
     "metadata": {},
     "output_type": "execute_result"
    }
   ],
   "source": [
    "raw_data.isnull().sum()"
   ]
  },
  {
   "cell_type": "code",
   "execution_count": 21,
   "id": "aa86fc3d-7f00-45d4-8a88-2f4359513cd6",
   "metadata": {},
   "outputs": [],
   "source": [
    "raw_data.loc[condition2, \"Outcome Subtype\"] = raw_data.loc[condition2, \"Outcome Subtype\"].fillna(\"Adopted\")"
   ]
  },
  {
   "cell_type": "code",
   "execution_count": 22,
   "id": "b8860525-1713-4f6f-8c55-b90ae70c4029",
   "metadata": {},
   "outputs": [
    {
     "data": {
      "text/plain": [
       "Animal ID           0\n",
       "Date of Birth       0\n",
       "Name                0\n",
       "DateTime            0\n",
       "MonthYear           0\n",
       "Outcome Type        2\n",
       "Outcome Subtype     0\n",
       "Animal Type         0\n",
       "Sex upon Outcome    0\n",
       "Age upon Outcome    0\n",
       "Breed               0\n",
       "Color               0\n",
       "dtype: int64"
      ]
     },
     "execution_count": 22,
     "metadata": {},
     "output_type": "execute_result"
    }
   ],
   "source": [
    "raw_data.isnull().sum()"
   ]
  },
  {
   "cell_type": "code",
   "execution_count": 23,
   "id": "63fed501-7ad4-4c27-8871-345f23dbce60",
   "metadata": {},
   "outputs": [
    {
     "data": {
      "text/html": [
       "<div>\n",
       "<style scoped>\n",
       "    .dataframe tbody tr th:only-of-type {\n",
       "        vertical-align: middle;\n",
       "    }\n",
       "\n",
       "    .dataframe tbody tr th {\n",
       "        vertical-align: top;\n",
       "    }\n",
       "\n",
       "    .dataframe thead th {\n",
       "        text-align: right;\n",
       "    }\n",
       "</style>\n",
       "<table border=\"1\" class=\"dataframe\">\n",
       "  <thead>\n",
       "    <tr style=\"text-align: right;\">\n",
       "      <th></th>\n",
       "      <th>Animal ID</th>\n",
       "      <th>Date of Birth</th>\n",
       "      <th>Name</th>\n",
       "      <th>DateTime</th>\n",
       "      <th>MonthYear</th>\n",
       "      <th>Outcome Type</th>\n",
       "      <th>Outcome Subtype</th>\n",
       "      <th>Animal Type</th>\n",
       "      <th>Sex upon Outcome</th>\n",
       "      <th>Age upon Outcome</th>\n",
       "      <th>Breed</th>\n",
       "      <th>Color</th>\n",
       "    </tr>\n",
       "  </thead>\n",
       "  <tbody>\n",
       "    <tr>\n",
       "      <th>91108</th>\n",
       "      <td>A828974</td>\n",
       "      <td>1/30/19</td>\n",
       "      <td>No Name</td>\n",
       "      <td>2021-02-03T15:55:00</td>\n",
       "      <td>Feb-21</td>\n",
       "      <td>NaN</td>\n",
       "      <td>Snr</td>\n",
       "      <td>Cat</td>\n",
       "      <td>Spayed Female</td>\n",
       "      <td>2 years</td>\n",
       "      <td>Domestic Shorthair</td>\n",
       "      <td>Black</td>\n",
       "    </tr>\n",
       "    <tr>\n",
       "      <th>118277</th>\n",
       "      <td>A890645</td>\n",
       "      <td>9/11/23</td>\n",
       "      <td>No Name</td>\n",
       "      <td>2023-12-14T16:22:00</td>\n",
       "      <td>Dec-23</td>\n",
       "      <td>NaN</td>\n",
       "      <td>Foster</td>\n",
       "      <td>Cat</td>\n",
       "      <td>Spayed Female</td>\n",
       "      <td>3 months</td>\n",
       "      <td>Siamese Mix</td>\n",
       "      <td>Lynx Point</td>\n",
       "    </tr>\n",
       "  </tbody>\n",
       "</table>\n",
       "</div>"
      ],
      "text/plain": [
       "       Animal ID Date of Birth     Name             DateTime MonthYear  \\\n",
       "91108    A828974       1/30/19  No Name  2021-02-03T15:55:00    Feb-21   \n",
       "118277   A890645       9/11/23  No Name  2023-12-14T16:22:00    Dec-23   \n",
       "\n",
       "       Outcome Type Outcome Subtype Animal Type Sex upon Outcome  \\\n",
       "91108           NaN             Snr         Cat    Spayed Female   \n",
       "118277          NaN          Foster         Cat    Spayed Female   \n",
       "\n",
       "       Age upon Outcome               Breed       Color  \n",
       "91108           2 years  Domestic Shorthair       Black  \n",
       "118277         3 months         Siamese Mix  Lynx Point  "
      ]
     },
     "execution_count": 23,
     "metadata": {},
     "output_type": "execute_result"
    }
   ],
   "source": [
    "raw_data[raw_data[\"Outcome Type\"].isna()]"
   ]
  },
  {
   "cell_type": "markdown",
   "id": "26a55eaa-f7eb-447c-82a9-c68287559d1c",
   "metadata": {},
   "source": [
    "**Let's see if the subtype categories are exclusive to either adoption or transfer.**"
   ]
  },
  {
   "cell_type": "markdown",
   "id": "f214a818-082c-4a13-a491-6b26fef1cfc3",
   "metadata": {},
   "source": [
    "**So, we still have two. We need to fix the last two missing values.**"
   ]
  },
  {
   "cell_type": "code",
   "execution_count": 24,
   "id": "9fd1ccc7-c99a-4550-bd9c-86acd7dc65d8",
   "metadata": {},
   "outputs": [
    {
     "data": {
      "text/plain": [
       "array(['Adopted', 'Foster', 'Offsite', 'Barn'], dtype=object)"
      ]
     },
     "execution_count": 24,
     "metadata": {},
     "output_type": "execute_result"
    }
   ],
   "source": [
    "condition4 = raw_data[\"Outcome Type\"] == \"Adoption\"\n",
    "raw_data[condition4][\"Outcome Subtype\"].unique()"
   ]
  },
  {
   "cell_type": "code",
   "execution_count": 25,
   "id": "70037f2e-2292-45ce-be15-334e80371e7e",
   "metadata": {},
   "outputs": [
    {
     "data": {
      "text/plain": [
       "array(['Partner', 'SCRP', 'Snr', 'Barn', 'Out State', 'Emer', 'In State'],\n",
       "      dtype=object)"
      ]
     },
     "execution_count": 25,
     "metadata": {},
     "output_type": "execute_result"
    }
   ],
   "source": [
    "condition5 = raw_data[\"Outcome Type\"] == \"Transfer\"\n",
    "raw_data[condition5][\"Outcome Subtype\"].unique()"
   ]
  },
  {
   "cell_type": "markdown",
   "id": "2d652184-62be-4df0-9239-73ae57b20fab",
   "metadata": {},
   "source": [
    "**So, there's an overlap of 'Barn', but that's it. Foster and Snr are both exclusive to Transfer. So, let's fill it.**"
   ]
  },
  {
   "cell_type": "code",
   "execution_count": 26,
   "id": "36c5dfd7-2794-4dc3-8afc-898e7f28ab13",
   "metadata": {},
   "outputs": [],
   "source": [
    "condition6 = raw_data[\"Outcome Type\"].isna()\n",
    "raw_data.loc[condition6, \"Outcome Type\"] = raw_data.loc[condition6, \"Outcome Type\"].fillna(\"Transfer\")"
   ]
  },
  {
   "cell_type": "code",
   "execution_count": 27,
   "id": "be3c2d15-df4b-4e9b-9a9b-bc48965ee28f",
   "metadata": {},
   "outputs": [
    {
     "data": {
      "text/html": [
       "<div>\n",
       "<style scoped>\n",
       "    .dataframe tbody tr th:only-of-type {\n",
       "        vertical-align: middle;\n",
       "    }\n",
       "\n",
       "    .dataframe tbody tr th {\n",
       "        vertical-align: top;\n",
       "    }\n",
       "\n",
       "    .dataframe thead th {\n",
       "        text-align: right;\n",
       "    }\n",
       "</style>\n",
       "<table border=\"1\" class=\"dataframe\">\n",
       "  <thead>\n",
       "    <tr style=\"text-align: right;\">\n",
       "      <th></th>\n",
       "      <th>Animal ID</th>\n",
       "      <th>Date of Birth</th>\n",
       "      <th>Name</th>\n",
       "      <th>DateTime</th>\n",
       "      <th>MonthYear</th>\n",
       "      <th>Outcome Type</th>\n",
       "      <th>Outcome Subtype</th>\n",
       "      <th>Animal Type</th>\n",
       "      <th>Sex upon Outcome</th>\n",
       "      <th>Age upon Outcome</th>\n",
       "      <th>Breed</th>\n",
       "      <th>Color</th>\n",
       "    </tr>\n",
       "  </thead>\n",
       "  <tbody>\n",
       "  </tbody>\n",
       "</table>\n",
       "</div>"
      ],
      "text/plain": [
       "Empty DataFrame\n",
       "Columns: [Animal ID, Date of Birth, Name, DateTime, MonthYear, Outcome Type, Outcome Subtype, Animal Type, Sex upon Outcome, Age upon Outcome, Breed, Color]\n",
       "Index: []"
      ]
     },
     "execution_count": 27,
     "metadata": {},
     "output_type": "execute_result"
    }
   ],
   "source": [
    "raw_data[raw_data[\"Outcome Type\"].isna()]"
   ]
  },
  {
   "cell_type": "code",
   "execution_count": 28,
   "id": "f95bda2e-6e8f-422b-a4ff-e3dc31ed9be2",
   "metadata": {},
   "outputs": [
    {
     "data": {
      "text/plain": [
       "Animal ID           0\n",
       "Date of Birth       0\n",
       "Name                0\n",
       "DateTime            0\n",
       "MonthYear           0\n",
       "Outcome Type        0\n",
       "Outcome Subtype     0\n",
       "Animal Type         0\n",
       "Sex upon Outcome    0\n",
       "Age upon Outcome    0\n",
       "Breed               0\n",
       "Color               0\n",
       "dtype: int64"
      ]
     },
     "execution_count": 28,
     "metadata": {},
     "output_type": "execute_result"
    }
   ],
   "source": [
    "raw_data.isnull().sum()"
   ]
  },
  {
   "cell_type": "code",
   "execution_count": 29,
   "id": "d8d99e2e-3c55-4a2e-98f5-3bc90b11af9c",
   "metadata": {},
   "outputs": [
    {
     "data": {
      "text/html": [
       "<div>\n",
       "<style scoped>\n",
       "    .dataframe tbody tr th:only-of-type {\n",
       "        vertical-align: middle;\n",
       "    }\n",
       "\n",
       "    .dataframe tbody tr th {\n",
       "        vertical-align: top;\n",
       "    }\n",
       "\n",
       "    .dataframe thead th {\n",
       "        text-align: right;\n",
       "    }\n",
       "</style>\n",
       "<table border=\"1\" class=\"dataframe\">\n",
       "  <thead>\n",
       "    <tr style=\"text-align: right;\">\n",
       "      <th></th>\n",
       "      <th>Animal ID</th>\n",
       "      <th>Date of Birth</th>\n",
       "      <th>Name</th>\n",
       "      <th>DateTime</th>\n",
       "      <th>MonthYear</th>\n",
       "      <th>Outcome Type</th>\n",
       "      <th>Outcome Subtype</th>\n",
       "      <th>Animal Type</th>\n",
       "      <th>Sex upon Outcome</th>\n",
       "      <th>Age upon Outcome</th>\n",
       "      <th>Breed</th>\n",
       "      <th>Color</th>\n",
       "    </tr>\n",
       "  </thead>\n",
       "  <tbody>\n",
       "    <tr>\n",
       "      <th>count</th>\n",
       "      <td>131110</td>\n",
       "      <td>131110</td>\n",
       "      <td>131110</td>\n",
       "      <td>131110</td>\n",
       "      <td>131110</td>\n",
       "      <td>131110</td>\n",
       "      <td>131110</td>\n",
       "      <td>131110</td>\n",
       "      <td>131110</td>\n",
       "      <td>131110</td>\n",
       "      <td>131110</td>\n",
       "      <td>131110</td>\n",
       "    </tr>\n",
       "    <tr>\n",
       "      <th>unique</th>\n",
       "      <td>121232</td>\n",
       "      <td>7764</td>\n",
       "      <td>25488</td>\n",
       "      <td>108673</td>\n",
       "      <td>140</td>\n",
       "      <td>2</td>\n",
       "      <td>10</td>\n",
       "      <td>4</td>\n",
       "      <td>5</td>\n",
       "      <td>45</td>\n",
       "      <td>2526</td>\n",
       "      <td>599</td>\n",
       "    </tr>\n",
       "    <tr>\n",
       "      <th>top</th>\n",
       "      <td>A754989</td>\n",
       "      <td>4/21/14</td>\n",
       "      <td>No Name</td>\n",
       "      <td>2016-04-18T00:00:00-05:00</td>\n",
       "      <td>Jun-19</td>\n",
       "      <td>Adoption</td>\n",
       "      <td>Adopted</td>\n",
       "      <td>Dog</td>\n",
       "      <td>Neutered Male</td>\n",
       "      <td>2 months</td>\n",
       "      <td>Domestic Shorthair Mix</td>\n",
       "      <td>Black/White</td>\n",
       "    </tr>\n",
       "    <tr>\n",
       "      <th>freq</th>\n",
       "      <td>8</td>\n",
       "      <td>104</td>\n",
       "      <td>37496</td>\n",
       "      <td>39</td>\n",
       "      <td>1766</td>\n",
       "      <td>83580</td>\n",
       "      <td>65308</td>\n",
       "      <td>68026</td>\n",
       "      <td>49022</td>\n",
       "      <td>22468</td>\n",
       "      <td>30569</td>\n",
       "      <td>14008</td>\n",
       "    </tr>\n",
       "  </tbody>\n",
       "</table>\n",
       "</div>"
      ],
      "text/plain": [
       "       Animal ID Date of Birth     Name                   DateTime MonthYear  \\\n",
       "count     131110        131110   131110                     131110    131110   \n",
       "unique    121232          7764    25488                     108673       140   \n",
       "top      A754989       4/21/14  No Name  2016-04-18T00:00:00-05:00    Jun-19   \n",
       "freq           8           104    37496                         39      1766   \n",
       "\n",
       "       Outcome Type Outcome Subtype Animal Type Sex upon Outcome  \\\n",
       "count        131110          131110      131110           131110   \n",
       "unique            2              10           4                5   \n",
       "top        Adoption         Adopted         Dog    Neutered Male   \n",
       "freq          83580           65308       68026            49022   \n",
       "\n",
       "       Age upon Outcome                   Breed        Color  \n",
       "count            131110                  131110       131110  \n",
       "unique               45                    2526          599  \n",
       "top            2 months  Domestic Shorthair Mix  Black/White  \n",
       "freq              22468                   30569        14008  "
      ]
     },
     "execution_count": 29,
     "metadata": {},
     "output_type": "execute_result"
    }
   ],
   "source": [
    "raw_data.describe()"
   ]
  },
  {
   "cell_type": "code",
   "execution_count": 30,
   "id": "bfe284fc-152e-4f38-b983-be39cf3a405a",
   "metadata": {},
   "outputs": [],
   "source": [
    "data = raw_data #Now we start changing datatypes"
   ]
  },
  {
   "cell_type": "code",
   "execution_count": 31,
   "id": "4b55440c-9b92-43db-b7fa-3a2fb0cacd5d",
   "metadata": {},
   "outputs": [
    {
     "name": "stderr",
     "output_type": "stream",
     "text": [
      "/tmp/ipykernel_8413/3074257052.py:2: UserWarning: This pattern is interpreted as a regular expression, and has match groups. To actually get the groups, use str.extract.\n",
      "  has_offset = times.str.contains(r'([+-]\\d{2}:\\d{2}|Z)$', regex=True, na=False)\n"
     ]
    }
   ],
   "source": [
    "times = data[\"DateTime\"].astype(str).str.strip()\n",
    "has_offset = times.str.contains(r'([+-]\\d{2}:\\d{2}|Z)$', regex=True, na=False)\n",
    "timer = pd.to_datetime(times.where(has_offset), errors=\"coerce\", utc=True)\n",
    "reg = pd.to_datetime(times.where(~has_offset), errors=\"coerce\")\n",
    "reg = reg.dt.tz_localize(\"America/Chicago\").dt.tz_convert(\"UTC\")\n",
    "timer = timer.fillna(reg)\n",
    "data[\"DateTime\"] = timer"
   ]
  },
  {
   "cell_type": "code",
   "execution_count": 32,
   "id": "952a6da6-14cd-4a52-8fe5-997c83924f2c",
   "metadata": {},
   "outputs": [
    {
     "name": "stdout",
     "output_type": "stream",
     "text": [
      "<class 'pandas.core.frame.DataFrame'>\n",
      "Index: 131110 entries, 0 to 131147\n",
      "Data columns (total 12 columns):\n",
      " #   Column            Non-Null Count   Dtype              \n",
      "---  ------            --------------   -----              \n",
      " 0   Animal ID         131110 non-null  object             \n",
      " 1   Date of Birth     131110 non-null  object             \n",
      " 2   Name              131110 non-null  object             \n",
      " 3   DateTime          131110 non-null  datetime64[ns, UTC]\n",
      " 4   MonthYear         131110 non-null  object             \n",
      " 5   Outcome Type      131110 non-null  object             \n",
      " 6   Outcome Subtype   131110 non-null  object             \n",
      " 7   Animal Type       131110 non-null  object             \n",
      " 8   Sex upon Outcome  131110 non-null  object             \n",
      " 9   Age upon Outcome  131110 non-null  object             \n",
      " 10  Breed             131110 non-null  object             \n",
      " 11  Color             131110 non-null  object             \n",
      "dtypes: datetime64[ns, UTC](1), object(11)\n",
      "memory usage: 13.0+ MB\n"
     ]
    }
   ],
   "source": [
    "data.info()"
   ]
  },
  {
   "cell_type": "code",
   "execution_count": 33,
   "id": "46d44dbd-00e4-4128-90e6-467eca244f3c",
   "metadata": {},
   "outputs": [
    {
     "data": {
      "text/plain": [
       "<DatetimeArray>\n",
       "['2014-06-10 05:00:00+00:00', '2014-07-11 05:00:00+00:00',\n",
       " '2014-07-12 05:00:00+00:00', '2014-07-14 05:00:00+00:00',\n",
       " '2014-08-20 05:00:00+00:00', '2014-09-16 05:00:00+00:00',\n",
       " '2014-09-17 05:00:00+00:00', '2014-12-23 05:00:00+00:00',\n",
       " '2014-12-27 05:00:00+00:00', '2014-12-29 05:00:00+00:00',\n",
       " ...\n",
       " '2025-05-05 05:00:00+00:00', '2025-05-05 12:21:00+00:00',\n",
       " '2025-05-05 12:22:00+00:00', '2014-01-10 16:14:00+00:00',\n",
       " '2014-01-17 16:14:00+00:00', '2014-01-25 16:14:00+00:00',\n",
       " '2014-02-04 16:14:00+00:00', '2014-02-08 16:14:00+00:00',\n",
       " '2014-02-07 16:14:00+00:00', '2014-05-14 13:00:00+00:00']\n",
       "Length: 108662, dtype: datetime64[ns, UTC]"
      ]
     },
     "execution_count": 33,
     "metadata": {},
     "output_type": "execute_result"
    }
   ],
   "source": [
    "data[\"DateTime\"].unique()"
   ]
  },
  {
   "cell_type": "code",
   "execution_count": 34,
   "id": "59e405fc-1673-4a05-8310-cfd2aee2f319",
   "metadata": {
    "scrolled": true
   },
   "outputs": [
    {
     "data": {
      "text/plain": [
       "array(['2 weeks', '2 months', '4 weeks', '5 months', '6 months', '1 year',\n",
       "       '8 months', '3 weeks', '6 years', '1 weeks', '3 years', '2 years',\n",
       "       '1 month', '4 months', '10 months', '5 years', '8 years',\n",
       "       '3 months', '9 years', '7 years', '4 years', '4 days', '1 week',\n",
       "       '11 months', '7 months', '12 years', '9 months', '10 years',\n",
       "       '3 days', '2 days', '11 years', '13 years', '1 day', '20 years',\n",
       "       '25 years', '5 weeks', '17 years', '5 days', '14 years',\n",
       "       '18 years', '15 years', '16 years', '6 days', '19 years',\n",
       "       '30 years'], dtype=object)"
      ]
     },
     "execution_count": 34,
     "metadata": {},
     "output_type": "execute_result"
    }
   ],
   "source": [
    "data[\"Age upon Outcome\"].unique()"
   ]
  },
  {
   "cell_type": "code",
   "execution_count": 35,
   "id": "9b300b81-cb6c-477b-b6dc-d04c604948bc",
   "metadata": {},
   "outputs": [
    {
     "data": {
      "text/plain": [
       "array(['5/25/14', '4/22/14', '6/12/14', ..., '3/9/25', '2/28/25',\n",
       "       '3/19/25'], dtype=object)"
      ]
     },
     "execution_count": 35,
     "metadata": {},
     "output_type": "execute_result"
    }
   ],
   "source": [
    "data['Date of Birth'].unique()"
   ]
  },
  {
   "cell_type": "code",
   "execution_count": 36,
   "id": "4b8247ff-4f71-40c9-90aa-9dcc34308c36",
   "metadata": {},
   "outputs": [],
   "source": [
    "data[\"Date of Birth\"] = pd.to_datetime(data[\"Date of Birth\"], format=\"%m/%d/%y\", utc=True, errors=\"coerce\")"
   ]
  },
  {
   "cell_type": "code",
   "execution_count": 37,
   "id": "43769e21-df76-4c82-8a03-e24899c0808a",
   "metadata": {},
   "outputs": [
    {
     "name": "stdout",
     "output_type": "stream",
     "text": [
      "<class 'pandas.core.frame.DataFrame'>\n",
      "Index: 131110 entries, 0 to 131147\n",
      "Data columns (total 12 columns):\n",
      " #   Column            Non-Null Count   Dtype              \n",
      "---  ------            --------------   -----              \n",
      " 0   Animal ID         131110 non-null  object             \n",
      " 1   Date of Birth     131110 non-null  datetime64[ns, UTC]\n",
      " 2   Name              131110 non-null  object             \n",
      " 3   DateTime          131110 non-null  datetime64[ns, UTC]\n",
      " 4   MonthYear         131110 non-null  object             \n",
      " 5   Outcome Type      131110 non-null  object             \n",
      " 6   Outcome Subtype   131110 non-null  object             \n",
      " 7   Animal Type       131110 non-null  object             \n",
      " 8   Sex upon Outcome  131110 non-null  object             \n",
      " 9   Age upon Outcome  131110 non-null  object             \n",
      " 10  Breed             131110 non-null  object             \n",
      " 11  Color             131110 non-null  object             \n",
      "dtypes: datetime64[ns, UTC](2), object(10)\n",
      "memory usage: 13.0+ MB\n"
     ]
    }
   ],
   "source": [
    "data.info()"
   ]
  },
  {
   "cell_type": "markdown",
   "id": "d53c57eb-1fad-4a72-89e1-a56bf1783ff8",
   "metadata": {},
   "source": [
    "**So we take the Age in days**"
   ]
  },
  {
   "cell_type": "code",
   "execution_count": 38,
   "id": "6e1521d3-fa27-4fae-b5d9-8f04333bc181",
   "metadata": {},
   "outputs": [],
   "source": [
    "data[\"Age upon Outcome\"] = (data['DateTime'] - data['Date of Birth']).dt.days"
   ]
  },
  {
   "cell_type": "code",
   "execution_count": 39,
   "id": "3e9fc27b-18ad-4df6-8e2a-e6d9c26191d7",
   "metadata": {},
   "outputs": [
    {
     "data": {
      "text/plain": [
       "24546      -1\n",
       "40408     -24\n",
       "41396     -10\n",
       "45301    -212\n",
       "68823    -295\n",
       "68839    -294\n",
       "78781      -1\n",
       "92746     -51\n",
       "93591    -105\n",
       "100537   -108\n",
       "104572     -9\n",
       "119021     -1\n",
       "119351    -49\n",
       "Name: Age upon Outcome, dtype: int64"
      ]
     },
     "execution_count": 39,
     "metadata": {},
     "output_type": "execute_result"
    }
   ],
   "source": [
    "cond = data[\"Age upon Outcome\"] <0 # I guess it's possible that you could be born and adopted on the same day\n",
    "data[cond][\"Age upon Outcome\"]"
   ]
  },
  {
   "cell_type": "code",
   "execution_count": 40,
   "id": "cda5c960-8dbb-4b6f-9a3b-4a0fa5166d35",
   "metadata": {},
   "outputs": [
    {
     "data": {
      "text/plain": [
       "13"
      ]
     },
     "execution_count": 40,
     "metadata": {},
     "output_type": "execute_result"
    }
   ],
   "source": [
    "cond.sum()"
   ]
  },
  {
   "cell_type": "code",
   "execution_count": 41,
   "id": "db16a111-8ba1-4930-a7d2-8d593e4576ce",
   "metadata": {},
   "outputs": [
    {
     "data": {
      "text/html": [
       "<div>\n",
       "<style scoped>\n",
       "    .dataframe tbody tr th:only-of-type {\n",
       "        vertical-align: middle;\n",
       "    }\n",
       "\n",
       "    .dataframe tbody tr th {\n",
       "        vertical-align: top;\n",
       "    }\n",
       "\n",
       "    .dataframe thead th {\n",
       "        text-align: right;\n",
       "    }\n",
       "</style>\n",
       "<table border=\"1\" class=\"dataframe\">\n",
       "  <thead>\n",
       "    <tr style=\"text-align: right;\">\n",
       "      <th></th>\n",
       "      <th>Animal ID</th>\n",
       "      <th>Date of Birth</th>\n",
       "      <th>Name</th>\n",
       "      <th>DateTime</th>\n",
       "      <th>MonthYear</th>\n",
       "      <th>Outcome Type</th>\n",
       "      <th>Outcome Subtype</th>\n",
       "      <th>Animal Type</th>\n",
       "      <th>Sex upon Outcome</th>\n",
       "      <th>Age upon Outcome</th>\n",
       "      <th>Breed</th>\n",
       "      <th>Color</th>\n",
       "    </tr>\n",
       "  </thead>\n",
       "  <tbody>\n",
       "    <tr>\n",
       "      <th>24546</th>\n",
       "      <td>A706929</td>\n",
       "      <td>2015-07-06 00:00:00+00:00</td>\n",
       "      <td>No Name</td>\n",
       "      <td>2015-07-05 19:46:00+00:00</td>\n",
       "      <td>Jul-15</td>\n",
       "      <td>Transfer</td>\n",
       "      <td>Partner</td>\n",
       "      <td>Cat</td>\n",
       "      <td>Unknown</td>\n",
       "      <td>-1</td>\n",
       "      <td>Domestic Shorthair Mix</td>\n",
       "      <td>Tortie</td>\n",
       "    </tr>\n",
       "    <tr>\n",
       "      <th>40408</th>\n",
       "      <td>A736114</td>\n",
       "      <td>2016-10-28 00:00:00+00:00</td>\n",
       "      <td>No Name</td>\n",
       "      <td>2016-10-04 20:13:00+00:00</td>\n",
       "      <td>Oct-16</td>\n",
       "      <td>Transfer</td>\n",
       "      <td>Partner</td>\n",
       "      <td>Cat</td>\n",
       "      <td>Intact Male</td>\n",
       "      <td>-24</td>\n",
       "      <td>Domestic Shorthair Mix</td>\n",
       "      <td>Orange Tabby</td>\n",
       "    </tr>\n",
       "    <tr>\n",
       "      <th>41396</th>\n",
       "      <td>A737397</td>\n",
       "      <td>2016-11-15 00:00:00+00:00</td>\n",
       "      <td>Jellybean</td>\n",
       "      <td>2016-11-05 23:16:00+00:00</td>\n",
       "      <td>Nov-16</td>\n",
       "      <td>Adoption</td>\n",
       "      <td>Adopted</td>\n",
       "      <td>Cat</td>\n",
       "      <td>Intact Female</td>\n",
       "      <td>-10</td>\n",
       "      <td>Domestic Shorthair Mix</td>\n",
       "      <td>White/Orange</td>\n",
       "    </tr>\n",
       "    <tr>\n",
       "      <th>45301</th>\n",
       "      <td>A745085</td>\n",
       "      <td>2017-10-11 00:00:00+00:00</td>\n",
       "      <td>Keira</td>\n",
       "      <td>2017-03-13 23:11:00+00:00</td>\n",
       "      <td>Mar-17</td>\n",
       "      <td>Adoption</td>\n",
       "      <td>Adopted</td>\n",
       "      <td>Dog</td>\n",
       "      <td>Spayed Female</td>\n",
       "      <td>-212</td>\n",
       "      <td>Australian Cattle Dog Mix</td>\n",
       "      <td>White</td>\n",
       "    </tr>\n",
       "    <tr>\n",
       "      <th>68823</th>\n",
       "      <td>A788874</td>\n",
       "      <td>2019-12-06 00:00:00+00:00</td>\n",
       "      <td>No Name</td>\n",
       "      <td>2019-02-14 23:13:00+00:00</td>\n",
       "      <td>Feb-19</td>\n",
       "      <td>Adoption</td>\n",
       "      <td>Adopted</td>\n",
       "      <td>Dog</td>\n",
       "      <td>Spayed Female</td>\n",
       "      <td>-295</td>\n",
       "      <td>Labrador Retriever Mix</td>\n",
       "      <td>White/Tricolor</td>\n",
       "    </tr>\n",
       "    <tr>\n",
       "      <th>68839</th>\n",
       "      <td>A788866</td>\n",
       "      <td>2019-12-06 00:00:00+00:00</td>\n",
       "      <td>No Name</td>\n",
       "      <td>2019-02-15 18:02:00+00:00</td>\n",
       "      <td>Feb-19</td>\n",
       "      <td>Adoption</td>\n",
       "      <td>Adopted</td>\n",
       "      <td>Dog</td>\n",
       "      <td>Neutered Male</td>\n",
       "      <td>-294</td>\n",
       "      <td>German Shepherd/Catahoula</td>\n",
       "      <td>Black Brindle</td>\n",
       "    </tr>\n",
       "    <tr>\n",
       "      <th>78781</th>\n",
       "      <td>A804197</td>\n",
       "      <td>2019-09-12 00:00:00+00:00</td>\n",
       "      <td>No Name</td>\n",
       "      <td>2019-09-11 23:24:00+00:00</td>\n",
       "      <td>Sep-19</td>\n",
       "      <td>Transfer</td>\n",
       "      <td>Partner</td>\n",
       "      <td>Cat</td>\n",
       "      <td>Intact Female</td>\n",
       "      <td>-1</td>\n",
       "      <td>Domestic Shorthair</td>\n",
       "      <td>Black/White</td>\n",
       "    </tr>\n",
       "    <tr>\n",
       "      <th>92746</th>\n",
       "      <td>A834123</td>\n",
       "      <td>2021-07-04 00:00:00+00:00</td>\n",
       "      <td>Colt</td>\n",
       "      <td>2021-05-14 18:09:00+00:00</td>\n",
       "      <td>May-21</td>\n",
       "      <td>Transfer</td>\n",
       "      <td>Partner</td>\n",
       "      <td>Dog</td>\n",
       "      <td>Neutered Male</td>\n",
       "      <td>-51</td>\n",
       "      <td>Great Pyrenees</td>\n",
       "      <td>White/Tan</td>\n",
       "    </tr>\n",
       "    <tr>\n",
       "      <th>93591</th>\n",
       "      <td>A853991</td>\n",
       "      <td>2021-09-28 00:00:00+00:00</td>\n",
       "      <td>No Name</td>\n",
       "      <td>2021-06-15 21:07:00+00:00</td>\n",
       "      <td>Jun-21</td>\n",
       "      <td>Adoption</td>\n",
       "      <td>Adopted</td>\n",
       "      <td>Cat</td>\n",
       "      <td>Neutered Male</td>\n",
       "      <td>-105</td>\n",
       "      <td>Domestic Shorthair</td>\n",
       "      <td>Brown Tabby/White</td>\n",
       "    </tr>\n",
       "    <tr>\n",
       "      <th>100537</th>\n",
       "      <td>A850078</td>\n",
       "      <td>2022-05-07 00:00:00+00:00</td>\n",
       "      <td>Holmes</td>\n",
       "      <td>2022-01-19 22:10:00+00:00</td>\n",
       "      <td>Jan-22</td>\n",
       "      <td>Adoption</td>\n",
       "      <td>Adopted</td>\n",
       "      <td>Dog</td>\n",
       "      <td>Intact Male</td>\n",
       "      <td>-108</td>\n",
       "      <td>Whippet Mix</td>\n",
       "      <td>Brown Brindle</td>\n",
       "    </tr>\n",
       "    <tr>\n",
       "      <th>104572</th>\n",
       "      <td>A860186</td>\n",
       "      <td>2022-07-08 00:00:00+00:00</td>\n",
       "      <td>Ophelia</td>\n",
       "      <td>2022-06-29 00:18:00+00:00</td>\n",
       "      <td>Jun-22</td>\n",
       "      <td>Adoption</td>\n",
       "      <td>Adopted</td>\n",
       "      <td>Dog</td>\n",
       "      <td>Spayed Female</td>\n",
       "      <td>-9</td>\n",
       "      <td>Yorkshire Terrier Mix</td>\n",
       "      <td>Sable</td>\n",
       "    </tr>\n",
       "    <tr>\n",
       "      <th>119021</th>\n",
       "      <td>A896364</td>\n",
       "      <td>2024-01-15 00:00:00+00:00</td>\n",
       "      <td>No Name</td>\n",
       "      <td>2024-01-14 22:42:00+00:00</td>\n",
       "      <td>Jan-24</td>\n",
       "      <td>Transfer</td>\n",
       "      <td>Partner</td>\n",
       "      <td>Cat</td>\n",
       "      <td>Intact Male</td>\n",
       "      <td>-1</td>\n",
       "      <td>Domestic Shorthair</td>\n",
       "      <td>Orange Tabby</td>\n",
       "    </tr>\n",
       "    <tr>\n",
       "      <th>119351</th>\n",
       "      <td>A896867</td>\n",
       "      <td>2024-03-18 00:00:00+00:00</td>\n",
       "      <td>Benjamin</td>\n",
       "      <td>2024-01-29 17:53:00+00:00</td>\n",
       "      <td>Jan-24</td>\n",
       "      <td>Adoption</td>\n",
       "      <td>Adopted</td>\n",
       "      <td>Dog</td>\n",
       "      <td>Neutered Male</td>\n",
       "      <td>-49</td>\n",
       "      <td>Border Collie Mix</td>\n",
       "      <td>White/Black</td>\n",
       "    </tr>\n",
       "  </tbody>\n",
       "</table>\n",
       "</div>"
      ],
      "text/plain": [
       "       Animal ID             Date of Birth       Name  \\\n",
       "24546    A706929 2015-07-06 00:00:00+00:00    No Name   \n",
       "40408    A736114 2016-10-28 00:00:00+00:00    No Name   \n",
       "41396    A737397 2016-11-15 00:00:00+00:00  Jellybean   \n",
       "45301    A745085 2017-10-11 00:00:00+00:00      Keira   \n",
       "68823    A788874 2019-12-06 00:00:00+00:00    No Name   \n",
       "68839    A788866 2019-12-06 00:00:00+00:00    No Name   \n",
       "78781    A804197 2019-09-12 00:00:00+00:00    No Name   \n",
       "92746    A834123 2021-07-04 00:00:00+00:00       Colt   \n",
       "93591    A853991 2021-09-28 00:00:00+00:00    No Name   \n",
       "100537   A850078 2022-05-07 00:00:00+00:00     Holmes   \n",
       "104572   A860186 2022-07-08 00:00:00+00:00    Ophelia   \n",
       "119021   A896364 2024-01-15 00:00:00+00:00    No Name   \n",
       "119351   A896867 2024-03-18 00:00:00+00:00   Benjamin   \n",
       "\n",
       "                        DateTime MonthYear Outcome Type Outcome Subtype  \\\n",
       "24546  2015-07-05 19:46:00+00:00    Jul-15     Transfer         Partner   \n",
       "40408  2016-10-04 20:13:00+00:00    Oct-16     Transfer         Partner   \n",
       "41396  2016-11-05 23:16:00+00:00    Nov-16     Adoption         Adopted   \n",
       "45301  2017-03-13 23:11:00+00:00    Mar-17     Adoption         Adopted   \n",
       "68823  2019-02-14 23:13:00+00:00    Feb-19     Adoption         Adopted   \n",
       "68839  2019-02-15 18:02:00+00:00    Feb-19     Adoption         Adopted   \n",
       "78781  2019-09-11 23:24:00+00:00    Sep-19     Transfer         Partner   \n",
       "92746  2021-05-14 18:09:00+00:00    May-21     Transfer         Partner   \n",
       "93591  2021-06-15 21:07:00+00:00    Jun-21     Adoption         Adopted   \n",
       "100537 2022-01-19 22:10:00+00:00    Jan-22     Adoption         Adopted   \n",
       "104572 2022-06-29 00:18:00+00:00    Jun-22     Adoption         Adopted   \n",
       "119021 2024-01-14 22:42:00+00:00    Jan-24     Transfer         Partner   \n",
       "119351 2024-01-29 17:53:00+00:00    Jan-24     Adoption         Adopted   \n",
       "\n",
       "       Animal Type Sex upon Outcome  Age upon Outcome  \\\n",
       "24546          Cat          Unknown                -1   \n",
       "40408          Cat      Intact Male               -24   \n",
       "41396          Cat    Intact Female               -10   \n",
       "45301          Dog    Spayed Female              -212   \n",
       "68823          Dog    Spayed Female              -295   \n",
       "68839          Dog    Neutered Male              -294   \n",
       "78781          Cat    Intact Female                -1   \n",
       "92746          Dog    Neutered Male               -51   \n",
       "93591          Cat    Neutered Male              -105   \n",
       "100537         Dog      Intact Male              -108   \n",
       "104572         Dog    Spayed Female                -9   \n",
       "119021         Cat      Intact Male                -1   \n",
       "119351         Dog    Neutered Male               -49   \n",
       "\n",
       "                            Breed              Color  \n",
       "24546      Domestic Shorthair Mix             Tortie  \n",
       "40408      Domestic Shorthair Mix       Orange Tabby  \n",
       "41396      Domestic Shorthair Mix       White/Orange  \n",
       "45301   Australian Cattle Dog Mix              White  \n",
       "68823      Labrador Retriever Mix     White/Tricolor  \n",
       "68839   German Shepherd/Catahoula      Black Brindle  \n",
       "78781          Domestic Shorthair        Black/White  \n",
       "92746              Great Pyrenees          White/Tan  \n",
       "93591          Domestic Shorthair  Brown Tabby/White  \n",
       "100537                Whippet Mix      Brown Brindle  \n",
       "104572      Yorkshire Terrier Mix              Sable  \n",
       "119021         Domestic Shorthair       Orange Tabby  \n",
       "119351          Border Collie Mix        White/Black  "
      ]
     },
     "execution_count": 41,
     "metadata": {},
     "output_type": "execute_result"
    }
   ],
   "source": [
    "data[cond]"
   ]
  },
  {
   "cell_type": "markdown",
   "id": "3e22f759-a3d9-4854-9ff4-13d637833832",
   "metadata": {},
   "source": [
    "**So it seems like they were adopted before they were born...**\n",
    "\n",
    "**I think i'll just take them out since there's only 13 and there isn't that much numerical data.**"
   ]
  },
  {
   "cell_type": "code",
   "execution_count": 42,
   "id": "2f49c26e-2c35-4225-a188-b78abe4d7e15",
   "metadata": {},
   "outputs": [],
   "source": [
    "data.drop(data[cond].index, inplace=True)"
   ]
  },
  {
   "cell_type": "code",
   "execution_count": 43,
   "id": "f61ef400-3f61-4ef2-adf1-b4f11461f81d",
   "metadata": {},
   "outputs": [
    {
     "data": {
      "text/plain": [
       "array([  16,   80,   30, ..., 5978, 3620, 6680])"
      ]
     },
     "execution_count": 43,
     "metadata": {},
     "output_type": "execute_result"
    }
   ],
   "source": [
    "data['Age upon Outcome'].unique()"
   ]
  },
  {
   "cell_type": "code",
   "execution_count": 44,
   "id": "b6ff9e4d-6dea-4169-8491-90ba5e626e82",
   "metadata": {},
   "outputs": [
    {
     "data": {
      "text/html": [
       "<div>\n",
       "<style scoped>\n",
       "    .dataframe tbody tr th:only-of-type {\n",
       "        vertical-align: middle;\n",
       "    }\n",
       "\n",
       "    .dataframe tbody tr th {\n",
       "        vertical-align: top;\n",
       "    }\n",
       "\n",
       "    .dataframe thead th {\n",
       "        text-align: right;\n",
       "    }\n",
       "</style>\n",
       "<table border=\"1\" class=\"dataframe\">\n",
       "  <thead>\n",
       "    <tr style=\"text-align: right;\">\n",
       "      <th></th>\n",
       "      <th>Animal ID</th>\n",
       "      <th>Date of Birth</th>\n",
       "      <th>Name</th>\n",
       "      <th>DateTime</th>\n",
       "      <th>MonthYear</th>\n",
       "      <th>Outcome Type</th>\n",
       "      <th>Outcome Subtype</th>\n",
       "      <th>Animal Type</th>\n",
       "      <th>Sex upon Outcome</th>\n",
       "      <th>Age upon Outcome</th>\n",
       "      <th>Breed</th>\n",
       "      <th>Color</th>\n",
       "    </tr>\n",
       "  </thead>\n",
       "  <tbody>\n",
       "    <tr>\n",
       "      <th>0</th>\n",
       "      <td>A680855</td>\n",
       "      <td>2014-05-25 00:00:00+00:00</td>\n",
       "      <td>No Name</td>\n",
       "      <td>2014-06-10 05:00:00+00:00</td>\n",
       "      <td>Jun-14</td>\n",
       "      <td>Transfer</td>\n",
       "      <td>Partner</td>\n",
       "      <td>Bird</td>\n",
       "      <td>Unknown</td>\n",
       "      <td>16</td>\n",
       "      <td>Duck</td>\n",
       "      <td>Yellow/Black</td>\n",
       "    </tr>\n",
       "    <tr>\n",
       "      <th>1</th>\n",
       "      <td>A680857</td>\n",
       "      <td>2014-05-25 00:00:00+00:00</td>\n",
       "      <td>No Name</td>\n",
       "      <td>2014-06-10 05:00:00+00:00</td>\n",
       "      <td>Jun-14</td>\n",
       "      <td>Transfer</td>\n",
       "      <td>Partner</td>\n",
       "      <td>Bird</td>\n",
       "      <td>Unknown</td>\n",
       "      <td>16</td>\n",
       "      <td>Duck</td>\n",
       "      <td>Yellow/Black</td>\n",
       "    </tr>\n",
       "    <tr>\n",
       "      <th>2</th>\n",
       "      <td>A680858</td>\n",
       "      <td>2014-05-25 00:00:00+00:00</td>\n",
       "      <td>No Name</td>\n",
       "      <td>2014-06-10 05:00:00+00:00</td>\n",
       "      <td>Jun-14</td>\n",
       "      <td>Transfer</td>\n",
       "      <td>Partner</td>\n",
       "      <td>Bird</td>\n",
       "      <td>Unknown</td>\n",
       "      <td>16</td>\n",
       "      <td>Duck</td>\n",
       "      <td>Yellow/Black</td>\n",
       "    </tr>\n",
       "    <tr>\n",
       "      <th>3</th>\n",
       "      <td>A680859</td>\n",
       "      <td>2014-05-25 00:00:00+00:00</td>\n",
       "      <td>No Name</td>\n",
       "      <td>2014-06-10 05:00:00+00:00</td>\n",
       "      <td>Jun-14</td>\n",
       "      <td>Transfer</td>\n",
       "      <td>Partner</td>\n",
       "      <td>Bird</td>\n",
       "      <td>Unknown</td>\n",
       "      <td>16</td>\n",
       "      <td>Duck</td>\n",
       "      <td>Yellow/Black</td>\n",
       "    </tr>\n",
       "    <tr>\n",
       "      <th>4</th>\n",
       "      <td>A680860</td>\n",
       "      <td>2014-05-25 00:00:00+00:00</td>\n",
       "      <td>No Name</td>\n",
       "      <td>2014-06-10 05:00:00+00:00</td>\n",
       "      <td>Jun-14</td>\n",
       "      <td>Transfer</td>\n",
       "      <td>Partner</td>\n",
       "      <td>Bird</td>\n",
       "      <td>Unknown</td>\n",
       "      <td>16</td>\n",
       "      <td>Duck</td>\n",
       "      <td>Yellow/Black</td>\n",
       "    </tr>\n",
       "  </tbody>\n",
       "</table>\n",
       "</div>"
      ],
      "text/plain": [
       "  Animal ID             Date of Birth     Name                  DateTime  \\\n",
       "0   A680855 2014-05-25 00:00:00+00:00  No Name 2014-06-10 05:00:00+00:00   \n",
       "1   A680857 2014-05-25 00:00:00+00:00  No Name 2014-06-10 05:00:00+00:00   \n",
       "2   A680858 2014-05-25 00:00:00+00:00  No Name 2014-06-10 05:00:00+00:00   \n",
       "3   A680859 2014-05-25 00:00:00+00:00  No Name 2014-06-10 05:00:00+00:00   \n",
       "4   A680860 2014-05-25 00:00:00+00:00  No Name 2014-06-10 05:00:00+00:00   \n",
       "\n",
       "  MonthYear Outcome Type Outcome Subtype Animal Type Sex upon Outcome  \\\n",
       "0    Jun-14     Transfer         Partner        Bird          Unknown   \n",
       "1    Jun-14     Transfer         Partner        Bird          Unknown   \n",
       "2    Jun-14     Transfer         Partner        Bird          Unknown   \n",
       "3    Jun-14     Transfer         Partner        Bird          Unknown   \n",
       "4    Jun-14     Transfer         Partner        Bird          Unknown   \n",
       "\n",
       "   Age upon Outcome Breed         Color  \n",
       "0                16  Duck  Yellow/Black  \n",
       "1                16  Duck  Yellow/Black  \n",
       "2                16  Duck  Yellow/Black  \n",
       "3                16  Duck  Yellow/Black  \n",
       "4                16  Duck  Yellow/Black  "
      ]
     },
     "execution_count": 44,
     "metadata": {},
     "output_type": "execute_result"
    }
   ],
   "source": [
    "data.head()"
   ]
  },
  {
   "cell_type": "code",
   "execution_count": 45,
   "id": "d88887d2-fb2b-4aff-af37-37a03071b011",
   "metadata": {
    "scrolled": true
   },
   "outputs": [
    {
     "data": {
      "text/plain": [
       "array(['Jun-14', 'Jul-14', 'Aug-14', 'Sep-14', 'Dec-14', 'Jan-15',\n",
       "       'Feb-15', 'Mar-15', 'Apr-15', 'May-15', 'Jun-15', 'Jul-15',\n",
       "       'Aug-15', 'Sep-15', 'Oct-15', 'Nov-15', 'Dec-15', 'Jan-16',\n",
       "       'Feb-16', 'Mar-16', 'Apr-16', 'May-16', 'Jun-16', 'Jul-16',\n",
       "       'Aug-16', 'Sep-16', 'Oct-16', 'Nov-16', 'Dec-16', 'Jan-17',\n",
       "       'Feb-17', 'Mar-17', 'Apr-17', 'May-17', 'Jun-17', 'Jul-17',\n",
       "       'Aug-17', 'Sep-17', 'Oct-17', 'Nov-17', 'Dec-17', 'Jan-18',\n",
       "       'Feb-18', 'Mar-18', 'Apr-18', 'May-18', 'Jun-18', 'Jul-18',\n",
       "       'Aug-18', 'Sep-18', 'Oct-18', 'Nov-18', 'Dec-18', 'Jan-19',\n",
       "       'Feb-19', 'Mar-19', 'Apr-19', 'May-19', 'Oct-13', 'Nov-13',\n",
       "       'Dec-13', 'Jan-14', 'Feb-14', 'Mar-14', 'Apr-14', 'May-14',\n",
       "       'Oct-14', 'Nov-14', 'Jun-19', 'Jul-19', 'Aug-19', 'Sep-19',\n",
       "       'Oct-19', 'Nov-19', 'Dec-19', 'Jan-20', 'Feb-20', 'Mar-20',\n",
       "       'Apr-20', 'Jun-20', 'Jul-20', 'Aug-20', 'Sep-20', 'Oct-20',\n",
       "       'Nov-20', 'Dec-20', 'Jan-21', 'Feb-21', 'Mar-21', 'Apr-21',\n",
       "       'May-21', 'Jun-21', 'Jul-21', 'Aug-21', 'Sep-21', 'Oct-21',\n",
       "       'Nov-21', 'Dec-21', 'Jan-22', 'Feb-22', 'Mar-22', 'Apr-22',\n",
       "       'May-22', 'Jun-22', 'Jul-22', 'Aug-22', 'Sep-22', 'Oct-22',\n",
       "       'Nov-22', 'Dec-22', 'Jan-23', 'Feb-23', 'Mar-23', 'Apr-23',\n",
       "       'May-23', 'Jun-23', 'Jul-23', 'Aug-23', 'Sep-23', 'Oct-23',\n",
       "       'Nov-23', 'Dec-23', 'Jan-24', 'Feb-24', 'Apr-24', 'May-24',\n",
       "       'Jun-24', 'Jul-24', 'Aug-24', 'Sep-24', 'Oct-24', 'Nov-24',\n",
       "       'Dec-24', 'Jan-25', 'Feb-25', 'Mar-25', 'Apr-25', 'May-25',\n",
       "       'May-20', 'Mar-24'], dtype=object)"
      ]
     },
     "execution_count": 45,
     "metadata": {},
     "output_type": "execute_result"
    }
   ],
   "source": [
    "data[\"MonthYear\"].unique()"
   ]
  },
  {
   "cell_type": "markdown",
   "id": "daade086-4508-4aea-ac43-c858aaba9917",
   "metadata": {},
   "source": [
    "**We encode the months and years as the number of months in the 21st century.**"
   ]
  },
  {
   "cell_type": "code",
   "execution_count": 46,
   "id": "4a52cf3e-405b-4fb5-b823-28c335549aeb",
   "metadata": {},
   "outputs": [
    {
     "data": {
      "text/plain": [
       "140"
      ]
     },
     "execution_count": 46,
     "metadata": {},
     "output_type": "execute_result"
    }
   ],
   "source": [
    "data[\"MonthYear\"].nunique()"
   ]
  },
  {
   "cell_type": "code",
   "execution_count": 47,
   "id": "fd0d6b2a-f65f-4a27-92c3-d058fbdb0eae",
   "metadata": {},
   "outputs": [],
   "source": [
    "data[\"MonthYear\"] = pd.to_datetime(data[\"MonthYear\"], format=\"%b-%y\", errors=\"coerce\")"
   ]
  },
  {
   "cell_type": "code",
   "execution_count": 48,
   "id": "cb0bb6c6-c0d6-4a2b-acb5-d911be53c69f",
   "metadata": {},
   "outputs": [
    {
     "data": {
      "text/plain": [
       "140"
      ]
     },
     "execution_count": 48,
     "metadata": {},
     "output_type": "execute_result"
    }
   ],
   "source": [
    "data[\"MonthYear\"].nunique()"
   ]
  },
  {
   "cell_type": "code",
   "execution_count": 49,
   "id": "d4401616-8996-4c9f-8409-f7e3d50ef151",
   "metadata": {},
   "outputs": [
    {
     "data": {
      "text/plain": [
       "array([174, 175, 176, 177, 180, 181, 182, 183, 184, 185, 186, 187, 188,\n",
       "       189, 190, 191, 192, 193, 194, 195, 196, 197, 198, 199, 200, 201,\n",
       "       202, 203, 204, 205, 206, 207, 208, 209, 210, 211, 212, 213, 214,\n",
       "       215, 216, 217, 218, 219, 220, 221, 222, 223, 224, 225, 226, 227,\n",
       "       228, 229, 230, 231, 232, 233, 166, 167, 168, 169, 170, 171, 172,\n",
       "       173, 178, 179, 234, 235, 236, 237, 238, 239, 240, 241, 242, 243,\n",
       "       244, 246, 247, 248, 249, 250, 251, 252, 253, 254, 255, 256, 257,\n",
       "       258, 259, 260, 261, 262, 263, 264, 265, 266, 267, 268, 269, 270,\n",
       "       271, 272, 273, 274, 275, 276, 277, 278, 279, 280, 281, 282, 283,\n",
       "       284, 285, 286, 287, 288, 289, 290, 292, 293, 294, 295, 296, 297,\n",
       "       298, 299, 300, 301, 302, 303, 304, 305, 245, 291], dtype=int32)"
      ]
     },
     "execution_count": 49,
     "metadata": {},
     "output_type": "execute_result"
    }
   ],
   "source": [
    "data[\"MonthYear\"] = ((data[\"MonthYear\"].dt.year - 2000) * 12) + data[\"MonthYear\"].dt.month\n",
    "data[\"MonthYear\"].unique()"
   ]
  },
  {
   "cell_type": "code",
   "execution_count": 50,
   "id": "69a1e8b3-5f20-4364-8210-3ae7bae18892",
   "metadata": {},
   "outputs": [
    {
     "data": {
      "text/plain": [
       "140"
      ]
     },
     "execution_count": 50,
     "metadata": {},
     "output_type": "execute_result"
    }
   ],
   "source": [
    "data[\"MonthYear\"].nunique()"
   ]
  },
  {
   "cell_type": "markdown",
   "id": "f9e4ace7-f896-4891-927b-c10b8ac8d9f7",
   "metadata": {},
   "source": [
    "**So, the number of unique entries is the same, so nothing probably went wrong there.**"
   ]
  },
  {
   "cell_type": "code",
   "execution_count": 51,
   "id": "3898dd36-9bad-49f2-a34b-9b2f0b674867",
   "metadata": {},
   "outputs": [
    {
     "name": "stdout",
     "output_type": "stream",
     "text": [
      "<class 'pandas.core.frame.DataFrame'>\n",
      "Index: 131097 entries, 0 to 131147\n",
      "Data columns (total 12 columns):\n",
      " #   Column            Non-Null Count   Dtype              \n",
      "---  ------            --------------   -----              \n",
      " 0   Animal ID         131097 non-null  object             \n",
      " 1   Date of Birth     131097 non-null  datetime64[ns, UTC]\n",
      " 2   Name              131097 non-null  object             \n",
      " 3   DateTime          131097 non-null  datetime64[ns, UTC]\n",
      " 4   MonthYear         131097 non-null  int32              \n",
      " 5   Outcome Type      131097 non-null  object             \n",
      " 6   Outcome Subtype   131097 non-null  object             \n",
      " 7   Animal Type       131097 non-null  object             \n",
      " 8   Sex upon Outcome  131097 non-null  object             \n",
      " 9   Age upon Outcome  131097 non-null  int64              \n",
      " 10  Breed             131097 non-null  object             \n",
      " 11  Color             131097 non-null  object             \n",
      "dtypes: datetime64[ns, UTC](2), int32(1), int64(1), object(8)\n",
      "memory usage: 12.5+ MB\n"
     ]
    }
   ],
   "source": [
    "data.info()"
   ]
  },
  {
   "cell_type": "code",
   "execution_count": 52,
   "id": "0f3cf09f-2ffa-429c-8be2-76281160667a",
   "metadata": {},
   "outputs": [
    {
     "name": "stdout",
     "output_type": "stream",
     "text": [
      "131097\n"
     ]
    }
   ],
   "source": [
    "count = data[\"Animal ID\"].astype(str).str.startswith(\"A\").sum()\n",
    "print(count)"
   ]
  },
  {
   "cell_type": "markdown",
   "id": "6ac52aa1-9a5f-4878-8f39-97dcb004b197",
   "metadata": {},
   "source": [
    "**So all the animal ids start with A, so we take A off and turn it into int**"
   ]
  },
  {
   "cell_type": "code",
   "execution_count": 53,
   "id": "aca12296-8239-44e0-8064-242f14ec3515",
   "metadata": {},
   "outputs": [],
   "source": [
    "data[\"Animal ID\"] = data[\"Animal ID\"].str.lstrip(\"A\").astype(int)"
   ]
  },
  {
   "cell_type": "code",
   "execution_count": 54,
   "id": "3388c4d3-bd68-4aaa-94a7-4e8f719df6ba",
   "metadata": {},
   "outputs": [
    {
     "name": "stdout",
     "output_type": "stream",
     "text": [
      "<class 'pandas.core.frame.DataFrame'>\n",
      "Index: 131097 entries, 0 to 131147\n",
      "Data columns (total 12 columns):\n",
      " #   Column            Non-Null Count   Dtype              \n",
      "---  ------            --------------   -----              \n",
      " 0   Animal ID         131097 non-null  int64              \n",
      " 1   Date of Birth     131097 non-null  datetime64[ns, UTC]\n",
      " 2   Name              131097 non-null  object             \n",
      " 3   DateTime          131097 non-null  datetime64[ns, UTC]\n",
      " 4   MonthYear         131097 non-null  int32              \n",
      " 5   Outcome Type      131097 non-null  object             \n",
      " 6   Outcome Subtype   131097 non-null  object             \n",
      " 7   Animal Type       131097 non-null  object             \n",
      " 8   Sex upon Outcome  131097 non-null  object             \n",
      " 9   Age upon Outcome  131097 non-null  int64              \n",
      " 10  Breed             131097 non-null  object             \n",
      " 11  Color             131097 non-null  object             \n",
      "dtypes: datetime64[ns, UTC](2), int32(1), int64(2), object(7)\n",
      "memory usage: 12.5+ MB\n"
     ]
    }
   ],
   "source": [
    "data.info()"
   ]
  },
  {
   "cell_type": "code",
   "execution_count": 55,
   "id": "bd0da410-cc1a-43a1-9725-acaf09479471",
   "metadata": {},
   "outputs": [
    {
     "data": {
      "text/html": [
       "<div>\n",
       "<style scoped>\n",
       "    .dataframe tbody tr th:only-of-type {\n",
       "        vertical-align: middle;\n",
       "    }\n",
       "\n",
       "    .dataframe tbody tr th {\n",
       "        vertical-align: top;\n",
       "    }\n",
       "\n",
       "    .dataframe thead th {\n",
       "        text-align: right;\n",
       "    }\n",
       "</style>\n",
       "<table border=\"1\" class=\"dataframe\">\n",
       "  <thead>\n",
       "    <tr style=\"text-align: right;\">\n",
       "      <th></th>\n",
       "      <th>Animal ID</th>\n",
       "      <th>Date of Birth</th>\n",
       "      <th>Name</th>\n",
       "      <th>DateTime</th>\n",
       "      <th>MonthYear</th>\n",
       "      <th>Outcome Type</th>\n",
       "      <th>Outcome Subtype</th>\n",
       "      <th>Animal Type</th>\n",
       "      <th>Sex upon Outcome</th>\n",
       "      <th>Age upon Outcome</th>\n",
       "      <th>Breed</th>\n",
       "      <th>Color</th>\n",
       "    </tr>\n",
       "  </thead>\n",
       "  <tbody>\n",
       "    <tr>\n",
       "      <th>0</th>\n",
       "      <td>680855</td>\n",
       "      <td>2014-05-25 00:00:00+00:00</td>\n",
       "      <td>No Name</td>\n",
       "      <td>2014-06-10 05:00:00+00:00</td>\n",
       "      <td>174</td>\n",
       "      <td>Transfer</td>\n",
       "      <td>Partner</td>\n",
       "      <td>Bird</td>\n",
       "      <td>Unknown</td>\n",
       "      <td>16</td>\n",
       "      <td>Duck</td>\n",
       "      <td>Yellow/Black</td>\n",
       "    </tr>\n",
       "    <tr>\n",
       "      <th>1</th>\n",
       "      <td>680857</td>\n",
       "      <td>2014-05-25 00:00:00+00:00</td>\n",
       "      <td>No Name</td>\n",
       "      <td>2014-06-10 05:00:00+00:00</td>\n",
       "      <td>174</td>\n",
       "      <td>Transfer</td>\n",
       "      <td>Partner</td>\n",
       "      <td>Bird</td>\n",
       "      <td>Unknown</td>\n",
       "      <td>16</td>\n",
       "      <td>Duck</td>\n",
       "      <td>Yellow/Black</td>\n",
       "    </tr>\n",
       "    <tr>\n",
       "      <th>2</th>\n",
       "      <td>680858</td>\n",
       "      <td>2014-05-25 00:00:00+00:00</td>\n",
       "      <td>No Name</td>\n",
       "      <td>2014-06-10 05:00:00+00:00</td>\n",
       "      <td>174</td>\n",
       "      <td>Transfer</td>\n",
       "      <td>Partner</td>\n",
       "      <td>Bird</td>\n",
       "      <td>Unknown</td>\n",
       "      <td>16</td>\n",
       "      <td>Duck</td>\n",
       "      <td>Yellow/Black</td>\n",
       "    </tr>\n",
       "    <tr>\n",
       "      <th>3</th>\n",
       "      <td>680859</td>\n",
       "      <td>2014-05-25 00:00:00+00:00</td>\n",
       "      <td>No Name</td>\n",
       "      <td>2014-06-10 05:00:00+00:00</td>\n",
       "      <td>174</td>\n",
       "      <td>Transfer</td>\n",
       "      <td>Partner</td>\n",
       "      <td>Bird</td>\n",
       "      <td>Unknown</td>\n",
       "      <td>16</td>\n",
       "      <td>Duck</td>\n",
       "      <td>Yellow/Black</td>\n",
       "    </tr>\n",
       "    <tr>\n",
       "      <th>4</th>\n",
       "      <td>680860</td>\n",
       "      <td>2014-05-25 00:00:00+00:00</td>\n",
       "      <td>No Name</td>\n",
       "      <td>2014-06-10 05:00:00+00:00</td>\n",
       "      <td>174</td>\n",
       "      <td>Transfer</td>\n",
       "      <td>Partner</td>\n",
       "      <td>Bird</td>\n",
       "      <td>Unknown</td>\n",
       "      <td>16</td>\n",
       "      <td>Duck</td>\n",
       "      <td>Yellow/Black</td>\n",
       "    </tr>\n",
       "  </tbody>\n",
       "</table>\n",
       "</div>"
      ],
      "text/plain": [
       "   Animal ID             Date of Birth     Name                  DateTime  \\\n",
       "0     680855 2014-05-25 00:00:00+00:00  No Name 2014-06-10 05:00:00+00:00   \n",
       "1     680857 2014-05-25 00:00:00+00:00  No Name 2014-06-10 05:00:00+00:00   \n",
       "2     680858 2014-05-25 00:00:00+00:00  No Name 2014-06-10 05:00:00+00:00   \n",
       "3     680859 2014-05-25 00:00:00+00:00  No Name 2014-06-10 05:00:00+00:00   \n",
       "4     680860 2014-05-25 00:00:00+00:00  No Name 2014-06-10 05:00:00+00:00   \n",
       "\n",
       "   MonthYear Outcome Type Outcome Subtype Animal Type Sex upon Outcome  \\\n",
       "0        174     Transfer         Partner        Bird          Unknown   \n",
       "1        174     Transfer         Partner        Bird          Unknown   \n",
       "2        174     Transfer         Partner        Bird          Unknown   \n",
       "3        174     Transfer         Partner        Bird          Unknown   \n",
       "4        174     Transfer         Partner        Bird          Unknown   \n",
       "\n",
       "   Age upon Outcome Breed         Color  \n",
       "0                16  Duck  Yellow/Black  \n",
       "1                16  Duck  Yellow/Black  \n",
       "2                16  Duck  Yellow/Black  \n",
       "3                16  Duck  Yellow/Black  \n",
       "4                16  Duck  Yellow/Black  "
      ]
     },
     "execution_count": 55,
     "metadata": {},
     "output_type": "execute_result"
    }
   ],
   "source": [
    "data.head()"
   ]
  },
  {
   "cell_type": "code",
   "execution_count": 56,
   "id": "8f87f47e-f780-4c29-9965-f457c7cee90a",
   "metadata": {},
   "outputs": [
    {
     "name": "stdout",
     "output_type": "stream",
     "text": [
      "['Bird' 'Dog' 'Cat' 'Livestock']\n",
      "['Unknown' 'Spayed Female' 'Intact Male' 'Intact Female' 'Neutered Male']\n",
      "['Duck' 'Black Mouth Cur Mix' 'Catbird Mix' ...\n",
      " 'Wirehaired Pointing Griffon' 'Labrador Retriever/Affenpinscher'\n",
      " 'Pekingese/Lhasa Apso']\n",
      "['Yellow/Black' 'Brown/Black' 'Brown' 'Black/White' 'Black' 'White'\n",
      " 'Brown/White' 'Tan' 'Blue Tabby' 'Cream' 'Gold' 'Red' 'Fawn/White'\n",
      " 'White/Gray' 'Torbie' 'Sable' 'Yellow' 'White/Black' 'White/Chocolate'\n",
      " 'Cream/Black' 'White/Brown' 'Chocolate/White' 'White/Red Tick'\n",
      " 'White/Brown Brindle' 'Buff/Gray' 'Black/Tan' 'Blue Merle/Black'\n",
      " 'Chocolate' 'White/Tan' 'Tan/White' 'Pink' 'Tricolor' 'Red/White'\n",
      " 'Calico' 'Brown Tabby/White' 'Brown Brindle' 'Blue Tick/Black'\n",
      " 'Blue/White' 'Black/Brown' 'Green/Blue' 'Brown Tabby' 'Orange Tabby'\n",
      " 'Tortie' 'Blue Merle' 'Orange/Tan' 'White/White' 'Orange Tabby/White'\n",
      " 'Cream Tabby' 'Cream Tabby/White' 'Lilac Point' 'Lynx Point' 'Black/Buff'\n",
      " 'White/Cream Tabby' 'Seal Point' 'Blue Merle/White' 'Brown Brindle/White'\n",
      " 'Sable/Buff' 'Chocolate/Tan' 'Brown/Brown' 'Tortie Point'\n",
      " 'Orange/Orange Tabby' 'Black Tabby/White' 'Blue Tabby/White' 'Blue'\n",
      " 'Buff' 'White/Red' 'Fawn/Black' 'Blue/Tan' 'Red/Tan' 'Black Brindle'\n",
      " 'White/Blue Tick' 'White/Blue' 'Red/Black' 'Tricolor/Brown Merle'\n",
      " 'Seal Point/Brown' 'Tan/Black' 'Flame Point' 'Brown Merle'\n",
      " 'White/Blue Merle' 'Brown Merle/Tan' 'Gray/Silver' 'White/Tricolor'\n",
      " 'Black/Brown Brindle' 'Brown/Tan' 'Buff/White' 'Black/Red' 'Yellow/White'\n",
      " 'Fawn' 'Gray' 'Sable/White' 'Cream/White' 'Tortie Point/White'\n",
      " 'Tricolor/White' 'Blue/Tricolor' 'Blue/Black' 'Gray Tabby/White'\n",
      " 'White/Brown Tabby' 'Black Smoke/White' 'Brown Brindle/Black'\n",
      " 'Gray/Brown' 'White/Tortie' 'Gold/Cream' 'Orange' 'Red Tick/White'\n",
      " 'Tortie/White' 'White/Orange Tabby' 'Gray Tabby' 'Black Tabby'\n",
      " 'Silver/Brown' 'Black/Tricolor' 'Torbie/Gray' 'Gold/White' 'Silver/Black'\n",
      " 'Black/Black Brindle' 'White/Orange' 'Blue Tiger/White' 'Gray/White'\n",
      " 'Black Brindle/White' 'Black/Cream' 'Silver/Red' 'Black/Black'\n",
      " 'Liver/White' 'Brown/Red Tick' 'Red Merle' 'White/Yellow'\n",
      " 'Brown Merle/White' 'Black/Blue Tick' 'Orange Tabby/Cream' 'Torbie/White'\n",
      " 'Black/Gray' 'Agouti' 'Lynx Point/White' 'Tricolor/Brown' 'Gray/Gray'\n",
      " 'Gray Tabby/Black' 'Brown/Tricolor' 'Brown Tiger' 'Gray/Blue'\n",
      " 'Silver Tabby/White' 'Tan/Tan' 'Red/Cream' 'Silver Tabby' 'Calico/White'\n",
      " 'Brown Tabby/Black' 'White/Black Tabby' 'Brown/Yellow' 'Blue Point/White'\n",
      " 'White/Cream' 'Orange/White' 'Blue Point' 'Liver/Cream' 'Silver'\n",
      " 'Tan/Cream' 'Red Merle/White' 'White/Buff' 'Black/Blue Merle'\n",
      " 'Calico Point/White' 'White/Blue Tabby' 'Black Smoke' 'Buff/Tan'\n",
      " 'Blue Merle/Tan' 'Liver/Brown Brindle' 'Gray/Tan' 'Chocolate/Black Smoke'\n",
      " 'Blue Merle/Cream' 'Black/Black Smoke' 'Tan/Brown' 'Gold/Buff' 'Apricot'\n",
      " 'Red/Buff' 'Brown Tabby/Orange' 'Calico Point' 'White/Red Merle'\n",
      " 'Black/Silver' 'Blue Merle/Brown' 'Blue Cream' 'Buff/Black' 'Gray/Black'\n",
      " 'Sable/Tan' 'Yellow/Tan' 'Red Tick/Brown Merle' 'Cream/Tan'\n",
      " 'Red Tick/Tan' 'Green' 'Red Tick' 'Apricot/White' 'Tan/Silver'\n",
      " 'Silver/Tan' 'Brown Brindle/Blue Cream' 'Calico/Brown Tabby'\n",
      " 'Red Merle/Black' 'White/Brown Merle' 'Blue Tick/Brown' 'Blue Tick/White'\n",
      " 'Black/Chocolate' 'Brown Tabby/Tortie' 'Seal Point/White'\n",
      " 'Tricolor/Chocolate' 'Chocolate Point' 'Lynx Point/Brown Tabby'\n",
      " 'Gray/Cream' 'Blue Cream/Blue Tabby' 'Lynx Point/Gray Tabby'\n",
      " 'Blue Tabby/Blue Cream' 'Sable/Black' 'Tan/Buff' 'White/Gray Tabby'\n",
      " 'Red/Tricolor' 'Tortie/Blue Cream' 'Tan/Gray' 'Blue Tick'\n",
      " 'White/Yellow Brindle' 'Sable/Red Merle' 'White/Black Brindle' 'Tan/Red'\n",
      " 'White/Apricot' 'Blue/Brown Brindle' 'Blue Tick/Tan' 'Blue Cream/Buff'\n",
      " 'Calico/Blue Cream' 'White/Brown Tiger' 'Yellow Brindle/White'\n",
      " 'Cream/Red' 'Chocolate/Red' 'Tricolor/Blue Merle' 'White/Silver'\n",
      " 'Brown Merle/Black' 'Chocolate Point/White' 'Blue Smoke/Brown'\n",
      " 'White/Blue Cream' 'Ruddy/Cream' 'Chocolate/Brown' 'Blue Merle/Tricolor'\n",
      " 'Brown/Red' 'Tricolor/Tan' 'Red/Brown' 'Fawn/Blue' 'Black Smoke/Black'\n",
      " 'Tan/Yellow' 'Sable/Brown' 'Black/Brown Merle' 'White/Pink' 'Brown/Gray'\n",
      " 'Yellow Brindle' 'Chocolate/Tricolor' 'Brown/Red Merle' 'Red Tick/Orange'\n",
      " 'Blue Tick/Brown Brindle' 'Gold/Black' 'Black/Blue' 'Blue Tick/Red Tick'\n",
      " 'Calico/Blue Tabby' 'Gold/Yellow' 'Fawn/Brown' 'Tan/Apricot'\n",
      " 'Red/Red Merle' 'Blue Merle/Red' 'Liver Tick/White' 'Liver/Tan'\n",
      " 'Chocolate/Black' 'Tortie/Orange' 'Calico/Orange Tabby'\n",
      " 'Brown Tabby/Gray Tabby' 'Gray/Yellow' 'Cream/Gray' 'Red/Red Tick'\n",
      " 'Red Tick/Black' 'Tan/Tricolor' 'Black Brindle/Brown' 'Tortie/Black'\n",
      " 'Red Tick/Blue Tick' 'Green/Yellow' 'Silver Lynx Point' 'Gold/Tan'\n",
      " 'Brown/Chocolate' 'Agouti/Brown Tabby' 'Green/White' 'Buff/Brown'\n",
      " 'White/Liver' 'Brown/Silver' 'Black/Orange' 'Blue/Gray' 'Buff/Yellow'\n",
      " 'Silver Tabby/Black' 'Red/Silver' 'Gray/Gold' 'Tricolor/Black'\n",
      " 'Brown Brindle/Red Tick' 'Blue/Cream' 'Chocolate/Brown Merle'\n",
      " 'White/Lynx Point' 'Red Tick/Red' 'Cream/Orange' 'Brown Tabby/Brown'\n",
      " 'Chocolate/Brown Brindle' 'White/Black Smoke' 'Cream/Red Tick'\n",
      " 'Red Tick/Brown' 'Chocolate/Cream' 'Chocolate/Red Tick'\n",
      " 'White/Flame Point' 'Blue Tabby/Cream' 'Black Smoke/Brown Tabby'\n",
      " 'Brown/Cream' 'Calico/Black' 'Blue Merle/Red Merle'\n",
      " 'Brown Tabby/Black Brindle' 'Blue Tiger' 'Fawn/Brown Brindle' 'Red/Blue'\n",
      " 'Torbie/Blue Cream' 'Blue Tick/Red' 'White/Seal Point'\n",
      " 'Black/Yellow Brindle' 'Fawn/Tan' 'Blue Cream/Blue Tiger'\n",
      " 'Blue Merle/Blue Merle' 'Yellow Brindle/Blue' 'Black/Green' 'Red/Green'\n",
      " 'Brown Brindle/Blue' 'Tricolor/Blue' 'Blue/Calico' 'Brown Brindle/Brown'\n",
      " 'Blue/Brown' 'Silver/White' 'Brown Brindle/Brown Brindle' 'Liver Tick'\n",
      " 'Blue Cream/Tortie' 'Sable/Cream' 'Liver' 'Brown Tiger/White'\n",
      " 'Blue Merle/Brown Brindle' 'Sable/Red' 'Calico/Tricolor' 'Chocolate/Gold'\n",
      " 'Silver/Chocolate' 'Blue/Yellow Brindle' 'Calico/Brown' 'Gray/Red'\n",
      " 'Brown/Buff' 'Gray/Buff' 'Tan/Blue' 'Brown Tabby/Gray' 'Fawn/Gray'\n",
      " 'Torbie/Brown' 'Fawn/Tricolor' 'Fawn/Chocolate' 'Blue Smoke/White'\n",
      " 'Red/Gold' 'Black/Tortie' 'Buff/Red' 'White/Chocolate Point' 'Blue Smoke'\n",
      " 'Red/Red' 'Blue Tabby/Tan' 'Red/Gray' 'Brown Brindle/Blue Tick'\n",
      " 'Black Tiger/White' 'Tricolor/Calico' 'Blue/Tortie' 'Orange Tabby/Black'\n",
      " 'Orange Tabby/Tortie Point' 'Tortie/Calico' 'Brown Brindle/Tan'\n",
      " 'Black/Silver Tabby' 'Brown/Black Tabby' 'Tortie/Brown' 'Blue/Orange'\n",
      " 'Tan/Red Tick' 'Brown Merle/Blue Merle' 'White/Calico'\n",
      " 'Brown Merle/Brown' 'Black/Black Tabby' 'Gray/Tricolor'\n",
      " 'Tortie Point/Lynx Point' 'Black/Yellow' 'Silver/Cream'\n",
      " 'Tortie/Black Smoke' 'Blue Cream/White' 'Blue/Yellow' 'Sable/Gray'\n",
      " 'Cream/Brown' 'Apricot/Brown' 'Blue Tabby/Orange' 'Lilac Point/White'\n",
      " 'Green/Gray' 'Chocolate/Brown Tabby' 'Tortie/Blue' 'Gray/Tortie'\n",
      " 'Silver/Gray' 'Agouti/White' 'Brown Tabby/Blue'\n",
      " 'Brown Tabby/Orange Tabby' 'Flame Point/Cream' 'Torbie/Blue Tabby'\n",
      " 'Brown/Green' 'Chocolate/Yellow' 'Torbie/Brown Tabby' 'Black/Gold'\n",
      " 'Black/Brown Tabby' 'Flame Point/White' 'Yellow/Orange' 'Cream/Silver'\n",
      " 'Lynx Point/Tan' 'Orange Tabby/Brown' 'Brown Tabby/Brown Tabby'\n",
      " 'Orange Tabby/Orange' 'Orange Tabby/Orange Tabby' 'Blue/Blue' 'Gold/Gold'\n",
      " 'Black Smoke/Blue Tick' 'Cream/Seal Point' 'Gold/Brown' 'Calico/Calico'\n",
      " 'Red/Yellow' 'Tortie/Blue Tabby' 'Cream Tabby/Cream Tabby'\n",
      " 'Black/Gray Tabby' 'Silver Lynx Point/Gray' 'Lynx Point/Tortie Point'\n",
      " 'Blue/Silver' 'Seal Point/Gray' 'White/Calico Point' 'Brown Tabby/Cream'\n",
      " 'White/Liver Tick' 'Yellow/Cream' 'Liver/Chocolate' 'Brown/Brown Brindle'\n",
      " 'Brown/Brown Tabby' 'Yellow/Orange Tabby' 'Green/Black'\n",
      " 'Tricolor/Brown Brindle' 'Chocolate/Chocolate' 'White/Fawn'\n",
      " 'Blue Smoke/Gray' 'Blue/Green' 'White/Lilac Point' 'Cream/Yellow'\n",
      " 'Cream/Brown Merle' 'Red Merle/Brown Merle' 'Brown Merle/Brown Tabby'\n",
      " 'Torbie/Black' 'Black Tabby/Gray Tabby' 'Calico/Orange'\n",
      " 'Brown Tiger/Brown' 'White/Silver Tabby' 'Cream Tabby/Orange'\n",
      " 'Blue Tabby/Buff' 'Torbie/Silver Tabby' 'Lynx Point/Blue'\n",
      " 'Cream/Blue Point' 'Gray Tabby/Orange' 'Tortie/Tortie' 'Seal Point/Buff'\n",
      " 'Black Brindle/Black' 'Calico Point/Gray' 'Seal Point/Cream'\n",
      " 'Blue Point/Cream' 'White/Green' 'Tortie Point/Blue' 'Blue Tick/Tricolor'\n",
      " 'Brown Tabby/Agouti' 'Red Tick/Brown Brindle' 'Cream Tabby/Orange Tabby'\n",
      " 'White/Black Tiger' 'Gray Tabby/Gray' 'Silver Lynx Point/White'\n",
      " 'Gold/Gray' 'Brown/Black Brindle' 'Black Tiger' 'Tricolor/Cream'\n",
      " 'Gray/Green' 'Lilac Point/Black' 'Brown Tabby/Calico'\n",
      " 'Brown Brindle/Tricolor' 'Yellow/Green' 'Blue Merle/Gray'\n",
      " 'Gray/Blue Merle' 'Liver/Liver Tick' 'Black/Fawn' 'Brown Tabby/Silver'\n",
      " 'Brown Brindle/Liver Tick' 'Lilac Point/Gray' 'Green/Silver'\n",
      " 'Tricolor/Red' 'Brown Tabby/Lynx Point' 'Agouti/Cream' 'Tortie/Gray'\n",
      " 'Buff/Cream' 'Yellow/Brown' 'Yellow/Red' 'Lynx Point/Gray'\n",
      " 'Red/Brown Brindle' 'Green/Red' 'Cream/Tricolor'\n",
      " 'Black Brindle/Brown Brindle' 'Brown/Liver' 'Tan/Fawn' 'Yellow/Gray'\n",
      " 'Tricolor/Gray' 'Tan/Brown Brindle' 'Calico Point/Lynx Point'\n",
      " 'Black Brindle/Tan' 'Orange Tiger' 'White/Agouti' 'White/Tortie Point'\n",
      " 'Lynx Point/Cream' 'Cream/Blue' 'Brown Merle/Chocolate' 'Gray/Gray Tabby'\n",
      " 'Brown/Black Smoke' 'Fawn/Cream' 'Red Tick/Tricolor' 'White/Blue Tiger'\n",
      " 'Chocolate/Blue Tick' 'Tan/Chocolate Point' 'Black Smoke/Black Tabby'\n",
      " 'Tan/Red Merle' 'Brown/Fawn' 'Gray/Fawn' 'Blue Tabby/Tortie'\n",
      " 'Brown/Orange' 'Tricolor/Red Tick' 'Tortie Point/Seal Point'\n",
      " 'Tricolor/Blue Tick' 'Chocolate/Fawn' 'Cream Tiger/Brown Tabby'\n",
      " 'Blue Tabby/Brown' 'Brown/Gold' 'Silver/Silver Tabby'\n",
      " 'Chocolate/Seal Point' 'Chocolate Point/Cream' 'Tortie/Gold' 'Cream/Gold'\n",
      " 'Brown/Seal Point' 'Liver/Blue' 'Brown Brindle/Black Brindle'\n",
      " 'Brown Brindle/Gray' 'Brown Brindle/Brown Merle' 'White/Gray Tiger'\n",
      " 'Calico/Gray' 'Red Merle/Brown' 'Blue/Blue Merle' 'Blue/Gold'\n",
      " 'Tan/Blue Tick' 'Blue/Fawn' 'Yellow Brindle/Black'\n",
      " 'Blue Point/Lynx Point' 'Brown Tiger/Cream' 'Liver Tick/Brown'\n",
      " 'Orange/Tricolor' 'Brown Tabby/Tan' 'Buff/Red Tick' 'Tricolor/Fawn'\n",
      " 'Black Tabby/Black Smoke' 'Blue/Blue Tick' 'Cream/Brown Tabby'\n",
      " 'Cream/Cream' 'Lynx Point/Blue Point' 'White/Gold' 'Buff/Blue Merle'\n",
      " 'Orange Tabby/Tan' 'Chocolate/Gray' 'Black Tabby/Brown'\n",
      " 'Brown Brindle/Chocolate' 'Gray Tabby/Brown' 'Blue Tabby/Black'\n",
      " 'Black Tabby/Gray' 'Yellow/Blue' 'Gray Tabby/Tan' 'Silver/Gray Tabby'\n",
      " 'Tortie/Blue Merle' 'Seal Point/Silver' 'Red Merle/Red Tick'\n",
      " 'Black Brindle/Yellow' 'Blue Tabby/Brown Tabby' 'Torbie/Orange'\n",
      " 'Blue Smoke/Tan' 'Fawn/Yellow' 'Cream/Green' 'Blue Tiger/Black'\n",
      " 'Brown Tiger/Black' 'Brown Merle/Brown Merle' 'Blue/Black Brindle'\n",
      " 'Blue Merle/Brown Merle' 'Brown/Brown Tiger' 'Brown Tabby/Gold' 'Ruddy'\n",
      " 'Black Brindle/Blue Tick' 'Tricolor/Tortie' 'Yellow/Yellow'\n",
      " 'Brown Tabby/Red' 'Agouti/Gold' 'Tricolor/Orange' 'Brown Tabby/Liver'\n",
      " 'Cream/Chocolate' 'Gray/Calico' 'Black/Calico']\n"
     ]
    }
   ],
   "source": [
    "print(data[\"Animal Type\"].unique())\n",
    "print(data[\"Sex upon Outcome\"].unique())\n",
    "print(data[\"Breed\"].unique())\n",
    "print(data[\"Color\"].unique())"
   ]
  },
  {
   "cell_type": "code",
   "execution_count": 57,
   "id": "7f2d2e87-42ed-4523-b6fc-9d42e7e8f756",
   "metadata": {},
   "outputs": [
    {
     "name": "stdout",
     "output_type": "stream",
     "text": [
      "4\n",
      "5\n",
      "2526\n",
      "599\n"
     ]
    }
   ],
   "source": [
    "print(data[\"Animal Type\"].nunique())\n",
    "print(data[\"Sex upon Outcome\"].nunique())\n",
    "print(data[\"Breed\"].nunique())\n",
    "print(data[\"Color\"].nunique())"
   ]
  },
  {
   "cell_type": "code",
   "execution_count": 58,
   "id": "7ee00e3b-27aa-44e0-bc16-95bc7f02030a",
   "metadata": {},
   "outputs": [
    {
     "data": {
      "text/plain": [
       "2047"
      ]
     },
     "execution_count": 58,
     "metadata": {},
     "output_type": "execute_result"
    }
   ],
   "source": [
    "no_id = data.drop(columns=[\"Animal ID\"]).copy()\n",
    "no_id.duplicated().sum()"
   ]
  },
  {
   "cell_type": "code",
   "execution_count": 59,
   "id": "50c36010-6f97-4005-ac7e-15e170b596e2",
   "metadata": {},
   "outputs": [],
   "source": [
    "indexes = no_id[no_id.duplicated()].index"
   ]
  },
  {
   "cell_type": "markdown",
   "id": "a9a711c4-01b2-4660-bc62-7e8bbc761d2d",
   "metadata": {},
   "source": [
    "**So, it seems there are duplicates that are identical except for the Animal ID. We can drop them.**"
   ]
  },
  {
   "cell_type": "code",
   "execution_count": 60,
   "id": "becbf0f9-274a-448c-b2c5-cd2f83386387",
   "metadata": {},
   "outputs": [],
   "source": [
    "data = data.drop(indexes)"
   ]
  },
  {
   "cell_type": "code",
   "execution_count": 61,
   "id": "31ea0c83-8e23-47d9-8aae-5944366f34ca",
   "metadata": {},
   "outputs": [
    {
     "name": "stdout",
     "output_type": "stream",
     "text": [
      "<class 'pandas.core.frame.DataFrame'>\n",
      "Index: 129050 entries, 0 to 131147\n",
      "Data columns (total 12 columns):\n",
      " #   Column            Non-Null Count   Dtype              \n",
      "---  ------            --------------   -----              \n",
      " 0   Animal ID         129050 non-null  int64              \n",
      " 1   Date of Birth     129050 non-null  datetime64[ns, UTC]\n",
      " 2   Name              129050 non-null  object             \n",
      " 3   DateTime          129050 non-null  datetime64[ns, UTC]\n",
      " 4   MonthYear         129050 non-null  int32              \n",
      " 5   Outcome Type      129050 non-null  object             \n",
      " 6   Outcome Subtype   129050 non-null  object             \n",
      " 7   Animal Type       129050 non-null  object             \n",
      " 8   Sex upon Outcome  129050 non-null  object             \n",
      " 9   Age upon Outcome  129050 non-null  int64              \n",
      " 10  Breed             129050 non-null  object             \n",
      " 11  Color             129050 non-null  object             \n",
      "dtypes: datetime64[ns, UTC](2), int32(1), int64(2), object(7)\n",
      "memory usage: 12.3+ MB\n"
     ]
    }
   ],
   "source": [
    "data.info()"
   ]
  },
  {
   "cell_type": "code",
   "execution_count": 62,
   "id": "4a05f7c3-d411-4706-b876-1cbf572abc14",
   "metadata": {},
   "outputs": [
    {
     "data": {
      "text/html": [
       "<div>\n",
       "<style scoped>\n",
       "    .dataframe tbody tr th:only-of-type {\n",
       "        vertical-align: middle;\n",
       "    }\n",
       "\n",
       "    .dataframe tbody tr th {\n",
       "        vertical-align: top;\n",
       "    }\n",
       "\n",
       "    .dataframe thead th {\n",
       "        text-align: right;\n",
       "    }\n",
       "</style>\n",
       "<table border=\"1\" class=\"dataframe\">\n",
       "  <thead>\n",
       "    <tr style=\"text-align: right;\">\n",
       "      <th></th>\n",
       "      <th>Animal ID</th>\n",
       "      <th>Date of Birth</th>\n",
       "      <th>Name</th>\n",
       "      <th>DateTime</th>\n",
       "      <th>MonthYear</th>\n",
       "      <th>Outcome Type</th>\n",
       "      <th>Outcome Subtype</th>\n",
       "      <th>Animal Type</th>\n",
       "      <th>Sex upon Outcome</th>\n",
       "      <th>Age upon Outcome</th>\n",
       "      <th>Breed</th>\n",
       "      <th>Color</th>\n",
       "    </tr>\n",
       "  </thead>\n",
       "  <tbody>\n",
       "    <tr>\n",
       "      <th>0</th>\n",
       "      <td>680855</td>\n",
       "      <td>2014-05-25 00:00:00+00:00</td>\n",
       "      <td>No Name</td>\n",
       "      <td>2014-06-10 05:00:00+00:00</td>\n",
       "      <td>174</td>\n",
       "      <td>Transfer</td>\n",
       "      <td>Partner</td>\n",
       "      <td>Bird</td>\n",
       "      <td>Unknown</td>\n",
       "      <td>16</td>\n",
       "      <td>Duck</td>\n",
       "      <td>Yellow/Black</td>\n",
       "    </tr>\n",
       "    <tr>\n",
       "      <th>8</th>\n",
       "      <td>683090</td>\n",
       "      <td>2014-04-22 00:00:00+00:00</td>\n",
       "      <td>Jenny Tyson</td>\n",
       "      <td>2014-07-11 05:00:00+00:00</td>\n",
       "      <td>175</td>\n",
       "      <td>Adoption</td>\n",
       "      <td>Adopted</td>\n",
       "      <td>Dog</td>\n",
       "      <td>Spayed Female</td>\n",
       "      <td>80</td>\n",
       "      <td>Black Mouth Cur Mix</td>\n",
       "      <td>Brown/Black</td>\n",
       "    </tr>\n",
       "    <tr>\n",
       "      <th>9</th>\n",
       "      <td>683591</td>\n",
       "      <td>2014-06-12 00:00:00+00:00</td>\n",
       "      <td>No Name</td>\n",
       "      <td>2014-07-12 05:00:00+00:00</td>\n",
       "      <td>175</td>\n",
       "      <td>Transfer</td>\n",
       "      <td>Partner</td>\n",
       "      <td>Bird</td>\n",
       "      <td>Unknown</td>\n",
       "      <td>30</td>\n",
       "      <td>Catbird Mix</td>\n",
       "      <td>Brown</td>\n",
       "    </tr>\n",
       "    <tr>\n",
       "      <th>10</th>\n",
       "      <td>683693</td>\n",
       "      <td>2014-06-29 00:00:00+00:00</td>\n",
       "      <td>No Name</td>\n",
       "      <td>2014-07-14 05:00:00+00:00</td>\n",
       "      <td>175</td>\n",
       "      <td>Transfer</td>\n",
       "      <td>Partner</td>\n",
       "      <td>Bird</td>\n",
       "      <td>Unknown</td>\n",
       "      <td>15</td>\n",
       "      <td>Grackle Mix</td>\n",
       "      <td>Black/White</td>\n",
       "    </tr>\n",
       "    <tr>\n",
       "      <th>11</th>\n",
       "      <td>686222</td>\n",
       "      <td>2014-03-13 00:00:00+00:00</td>\n",
       "      <td>No Name</td>\n",
       "      <td>2014-08-20 05:00:00+00:00</td>\n",
       "      <td>176</td>\n",
       "      <td>Transfer</td>\n",
       "      <td>Partner</td>\n",
       "      <td>Bird</td>\n",
       "      <td>Intact Male</td>\n",
       "      <td>160</td>\n",
       "      <td>Silkie Mix</td>\n",
       "      <td>Black</td>\n",
       "    </tr>\n",
       "  </tbody>\n",
       "</table>\n",
       "</div>"
      ],
      "text/plain": [
       "    Animal ID             Date of Birth         Name  \\\n",
       "0      680855 2014-05-25 00:00:00+00:00      No Name   \n",
       "8      683090 2014-04-22 00:00:00+00:00  Jenny Tyson   \n",
       "9      683591 2014-06-12 00:00:00+00:00      No Name   \n",
       "10     683693 2014-06-29 00:00:00+00:00      No Name   \n",
       "11     686222 2014-03-13 00:00:00+00:00      No Name   \n",
       "\n",
       "                    DateTime  MonthYear Outcome Type Outcome Subtype  \\\n",
       "0  2014-06-10 05:00:00+00:00        174     Transfer         Partner   \n",
       "8  2014-07-11 05:00:00+00:00        175     Adoption         Adopted   \n",
       "9  2014-07-12 05:00:00+00:00        175     Transfer         Partner   \n",
       "10 2014-07-14 05:00:00+00:00        175     Transfer         Partner   \n",
       "11 2014-08-20 05:00:00+00:00        176     Transfer         Partner   \n",
       "\n",
       "   Animal Type Sex upon Outcome  Age upon Outcome                Breed  \\\n",
       "0         Bird          Unknown                16                 Duck   \n",
       "8          Dog    Spayed Female                80  Black Mouth Cur Mix   \n",
       "9         Bird          Unknown                30          Catbird Mix   \n",
       "10        Bird          Unknown                15          Grackle Mix   \n",
       "11        Bird      Intact Male               160           Silkie Mix   \n",
       "\n",
       "           Color  \n",
       "0   Yellow/Black  \n",
       "8    Brown/Black  \n",
       "9          Brown  \n",
       "10   Black/White  \n",
       "11         Black  "
      ]
     },
     "execution_count": 62,
     "metadata": {},
     "output_type": "execute_result"
    }
   ],
   "source": [
    "data.head()"
   ]
  },
  {
   "cell_type": "markdown",
   "id": "479e9991-f9b3-40e9-be4c-0762017630bd",
   "metadata": {},
   "source": [
    "**This is where I start dropping a bunch of stuff because it's not super relevant in my opinion.**"
   ]
  },
  {
   "cell_type": "markdown",
   "id": "73b85dde-72af-49bd-92b2-17a9b2254060",
   "metadata": {},
   "source": [
    "**Ok, so basically drop all of the breed and color because there's too many for one hot encoding (the kernel dies otherwise)**\n",
    "\n",
    "**I don't think Name is super relevant either, and it's also a lot to do one hot encoding with**\n",
    "\n",
    "**Also, ID is probably irrelevant if we're being honest. It seems like just a way for the animal to be identified.**\n",
    "\n",
    "**Also drop date of birth because its a little redundant with age upon outcome**\n",
    "\n",
    "**Also, DateTime is redundant with the MonthYear, since I don't think the date or time of day affects anything that, that much.**"
   ]
  },
  {
   "cell_type": "code",
   "execution_count": 63,
   "id": "96be0f3b-e29d-4e98-801d-bd6ea4f3019a",
   "metadata": {},
   "outputs": [],
   "source": [
    "data1 = data.copy()\n",
    "data1.drop('Date of Birth', axis=1, inplace=True)\n",
    "data1.drop('DateTime', axis=1, inplace=True)\n",
    "data1.drop('Breed', axis=1, inplace=True)\n",
    "data1.drop('Color', axis=1, inplace=True)\n",
    "data1.drop('Name', axis=1, inplace=True)\n",
    "data1.drop('Animal ID', axis=1, inplace=True)"
   ]
  },
  {
   "cell_type": "code",
   "execution_count": 64,
   "id": "8512d27d-7fa3-48ce-ac10-d03a1ad608cc",
   "metadata": {},
   "outputs": [
    {
     "data": {
      "text/html": [
       "<div>\n",
       "<style scoped>\n",
       "    .dataframe tbody tr th:only-of-type {\n",
       "        vertical-align: middle;\n",
       "    }\n",
       "\n",
       "    .dataframe tbody tr th {\n",
       "        vertical-align: top;\n",
       "    }\n",
       "\n",
       "    .dataframe thead th {\n",
       "        text-align: right;\n",
       "    }\n",
       "</style>\n",
       "<table border=\"1\" class=\"dataframe\">\n",
       "  <thead>\n",
       "    <tr style=\"text-align: right;\">\n",
       "      <th></th>\n",
       "      <th>Animal ID</th>\n",
       "      <th>Date of Birth</th>\n",
       "      <th>Name</th>\n",
       "      <th>DateTime</th>\n",
       "      <th>MonthYear</th>\n",
       "      <th>Outcome Type</th>\n",
       "      <th>Outcome Subtype</th>\n",
       "      <th>Animal Type</th>\n",
       "      <th>Sex upon Outcome</th>\n",
       "      <th>Age upon Outcome</th>\n",
       "      <th>Breed</th>\n",
       "      <th>Color</th>\n",
       "    </tr>\n",
       "  </thead>\n",
       "  <tbody>\n",
       "    <tr>\n",
       "      <th>0</th>\n",
       "      <td>680855</td>\n",
       "      <td>2014-05-25 00:00:00+00:00</td>\n",
       "      <td>No Name</td>\n",
       "      <td>2014-06-10 05:00:00+00:00</td>\n",
       "      <td>174</td>\n",
       "      <td>Transfer</td>\n",
       "      <td>Partner</td>\n",
       "      <td>Bird</td>\n",
       "      <td>Unknown</td>\n",
       "      <td>16</td>\n",
       "      <td>Duck</td>\n",
       "      <td>Yellow/Black</td>\n",
       "    </tr>\n",
       "    <tr>\n",
       "      <th>8</th>\n",
       "      <td>683090</td>\n",
       "      <td>2014-04-22 00:00:00+00:00</td>\n",
       "      <td>Jenny Tyson</td>\n",
       "      <td>2014-07-11 05:00:00+00:00</td>\n",
       "      <td>175</td>\n",
       "      <td>Adoption</td>\n",
       "      <td>Adopted</td>\n",
       "      <td>Dog</td>\n",
       "      <td>Spayed Female</td>\n",
       "      <td>80</td>\n",
       "      <td>Black Mouth Cur Mix</td>\n",
       "      <td>Brown/Black</td>\n",
       "    </tr>\n",
       "    <tr>\n",
       "      <th>9</th>\n",
       "      <td>683591</td>\n",
       "      <td>2014-06-12 00:00:00+00:00</td>\n",
       "      <td>No Name</td>\n",
       "      <td>2014-07-12 05:00:00+00:00</td>\n",
       "      <td>175</td>\n",
       "      <td>Transfer</td>\n",
       "      <td>Partner</td>\n",
       "      <td>Bird</td>\n",
       "      <td>Unknown</td>\n",
       "      <td>30</td>\n",
       "      <td>Catbird Mix</td>\n",
       "      <td>Brown</td>\n",
       "    </tr>\n",
       "    <tr>\n",
       "      <th>10</th>\n",
       "      <td>683693</td>\n",
       "      <td>2014-06-29 00:00:00+00:00</td>\n",
       "      <td>No Name</td>\n",
       "      <td>2014-07-14 05:00:00+00:00</td>\n",
       "      <td>175</td>\n",
       "      <td>Transfer</td>\n",
       "      <td>Partner</td>\n",
       "      <td>Bird</td>\n",
       "      <td>Unknown</td>\n",
       "      <td>15</td>\n",
       "      <td>Grackle Mix</td>\n",
       "      <td>Black/White</td>\n",
       "    </tr>\n",
       "    <tr>\n",
       "      <th>11</th>\n",
       "      <td>686222</td>\n",
       "      <td>2014-03-13 00:00:00+00:00</td>\n",
       "      <td>No Name</td>\n",
       "      <td>2014-08-20 05:00:00+00:00</td>\n",
       "      <td>176</td>\n",
       "      <td>Transfer</td>\n",
       "      <td>Partner</td>\n",
       "      <td>Bird</td>\n",
       "      <td>Intact Male</td>\n",
       "      <td>160</td>\n",
       "      <td>Silkie Mix</td>\n",
       "      <td>Black</td>\n",
       "    </tr>\n",
       "  </tbody>\n",
       "</table>\n",
       "</div>"
      ],
      "text/plain": [
       "    Animal ID             Date of Birth         Name  \\\n",
       "0      680855 2014-05-25 00:00:00+00:00      No Name   \n",
       "8      683090 2014-04-22 00:00:00+00:00  Jenny Tyson   \n",
       "9      683591 2014-06-12 00:00:00+00:00      No Name   \n",
       "10     683693 2014-06-29 00:00:00+00:00      No Name   \n",
       "11     686222 2014-03-13 00:00:00+00:00      No Name   \n",
       "\n",
       "                    DateTime  MonthYear Outcome Type Outcome Subtype  \\\n",
       "0  2014-06-10 05:00:00+00:00        174     Transfer         Partner   \n",
       "8  2014-07-11 05:00:00+00:00        175     Adoption         Adopted   \n",
       "9  2014-07-12 05:00:00+00:00        175     Transfer         Partner   \n",
       "10 2014-07-14 05:00:00+00:00        175     Transfer         Partner   \n",
       "11 2014-08-20 05:00:00+00:00        176     Transfer         Partner   \n",
       "\n",
       "   Animal Type Sex upon Outcome  Age upon Outcome                Breed  \\\n",
       "0         Bird          Unknown                16                 Duck   \n",
       "8          Dog    Spayed Female                80  Black Mouth Cur Mix   \n",
       "9         Bird          Unknown                30          Catbird Mix   \n",
       "10        Bird          Unknown                15          Grackle Mix   \n",
       "11        Bird      Intact Male               160           Silkie Mix   \n",
       "\n",
       "           Color  \n",
       "0   Yellow/Black  \n",
       "8    Brown/Black  \n",
       "9          Brown  \n",
       "10   Black/White  \n",
       "11         Black  "
      ]
     },
     "execution_count": 64,
     "metadata": {},
     "output_type": "execute_result"
    }
   ],
   "source": [
    "data.head()"
   ]
  },
  {
   "cell_type": "code",
   "execution_count": 65,
   "id": "0a2391ed-d877-47f7-b975-62d6b2f71f57",
   "metadata": {},
   "outputs": [
    {
     "data": {
      "text/html": [
       "<div>\n",
       "<style scoped>\n",
       "    .dataframe tbody tr th:only-of-type {\n",
       "        vertical-align: middle;\n",
       "    }\n",
       "\n",
       "    .dataframe tbody tr th {\n",
       "        vertical-align: top;\n",
       "    }\n",
       "\n",
       "    .dataframe thead th {\n",
       "        text-align: right;\n",
       "    }\n",
       "</style>\n",
       "<table border=\"1\" class=\"dataframe\">\n",
       "  <thead>\n",
       "    <tr style=\"text-align: right;\">\n",
       "      <th></th>\n",
       "      <th>MonthYear</th>\n",
       "      <th>Age upon Outcome</th>\n",
       "      <th>Animal Type_Cat</th>\n",
       "      <th>Animal Type_Dog</th>\n",
       "      <th>Animal Type_Livestock</th>\n",
       "      <th>Sex upon Outcome_Intact Male</th>\n",
       "      <th>Sex upon Outcome_Neutered Male</th>\n",
       "      <th>Sex upon Outcome_Spayed Female</th>\n",
       "      <th>Sex upon Outcome_Unknown</th>\n",
       "      <th>Outcome Type_Transfer</th>\n",
       "      <th>Outcome Subtype_Barn</th>\n",
       "      <th>Outcome Subtype_Emer</th>\n",
       "      <th>Outcome Subtype_Foster</th>\n",
       "      <th>Outcome Subtype_In State</th>\n",
       "      <th>Outcome Subtype_Offsite</th>\n",
       "      <th>Outcome Subtype_Out State</th>\n",
       "      <th>Outcome Subtype_Partner</th>\n",
       "      <th>Outcome Subtype_SCRP</th>\n",
       "      <th>Outcome Subtype_Snr</th>\n",
       "    </tr>\n",
       "  </thead>\n",
       "  <tbody>\n",
       "    <tr>\n",
       "      <th>0</th>\n",
       "      <td>174</td>\n",
       "      <td>16</td>\n",
       "      <td>False</td>\n",
       "      <td>False</td>\n",
       "      <td>False</td>\n",
       "      <td>False</td>\n",
       "      <td>False</td>\n",
       "      <td>False</td>\n",
       "      <td>True</td>\n",
       "      <td>True</td>\n",
       "      <td>False</td>\n",
       "      <td>False</td>\n",
       "      <td>False</td>\n",
       "      <td>False</td>\n",
       "      <td>False</td>\n",
       "      <td>False</td>\n",
       "      <td>True</td>\n",
       "      <td>False</td>\n",
       "      <td>False</td>\n",
       "    </tr>\n",
       "    <tr>\n",
       "      <th>8</th>\n",
       "      <td>175</td>\n",
       "      <td>80</td>\n",
       "      <td>False</td>\n",
       "      <td>True</td>\n",
       "      <td>False</td>\n",
       "      <td>False</td>\n",
       "      <td>False</td>\n",
       "      <td>True</td>\n",
       "      <td>False</td>\n",
       "      <td>False</td>\n",
       "      <td>False</td>\n",
       "      <td>False</td>\n",
       "      <td>False</td>\n",
       "      <td>False</td>\n",
       "      <td>False</td>\n",
       "      <td>False</td>\n",
       "      <td>False</td>\n",
       "      <td>False</td>\n",
       "      <td>False</td>\n",
       "    </tr>\n",
       "    <tr>\n",
       "      <th>9</th>\n",
       "      <td>175</td>\n",
       "      <td>30</td>\n",
       "      <td>False</td>\n",
       "      <td>False</td>\n",
       "      <td>False</td>\n",
       "      <td>False</td>\n",
       "      <td>False</td>\n",
       "      <td>False</td>\n",
       "      <td>True</td>\n",
       "      <td>True</td>\n",
       "      <td>False</td>\n",
       "      <td>False</td>\n",
       "      <td>False</td>\n",
       "      <td>False</td>\n",
       "      <td>False</td>\n",
       "      <td>False</td>\n",
       "      <td>True</td>\n",
       "      <td>False</td>\n",
       "      <td>False</td>\n",
       "    </tr>\n",
       "    <tr>\n",
       "      <th>10</th>\n",
       "      <td>175</td>\n",
       "      <td>15</td>\n",
       "      <td>False</td>\n",
       "      <td>False</td>\n",
       "      <td>False</td>\n",
       "      <td>False</td>\n",
       "      <td>False</td>\n",
       "      <td>False</td>\n",
       "      <td>True</td>\n",
       "      <td>True</td>\n",
       "      <td>False</td>\n",
       "      <td>False</td>\n",
       "      <td>False</td>\n",
       "      <td>False</td>\n",
       "      <td>False</td>\n",
       "      <td>False</td>\n",
       "      <td>True</td>\n",
       "      <td>False</td>\n",
       "      <td>False</td>\n",
       "    </tr>\n",
       "    <tr>\n",
       "      <th>11</th>\n",
       "      <td>176</td>\n",
       "      <td>160</td>\n",
       "      <td>False</td>\n",
       "      <td>False</td>\n",
       "      <td>False</td>\n",
       "      <td>True</td>\n",
       "      <td>False</td>\n",
       "      <td>False</td>\n",
       "      <td>False</td>\n",
       "      <td>True</td>\n",
       "      <td>False</td>\n",
       "      <td>False</td>\n",
       "      <td>False</td>\n",
       "      <td>False</td>\n",
       "      <td>False</td>\n",
       "      <td>False</td>\n",
       "      <td>True</td>\n",
       "      <td>False</td>\n",
       "      <td>False</td>\n",
       "    </tr>\n",
       "  </tbody>\n",
       "</table>\n",
       "</div>"
      ],
      "text/plain": [
       "    MonthYear  Age upon Outcome  Animal Type_Cat  Animal Type_Dog  \\\n",
       "0         174                16            False            False   \n",
       "8         175                80            False             True   \n",
       "9         175                30            False            False   \n",
       "10        175                15            False            False   \n",
       "11        176               160            False            False   \n",
       "\n",
       "    Animal Type_Livestock  Sex upon Outcome_Intact Male  \\\n",
       "0                   False                         False   \n",
       "8                   False                         False   \n",
       "9                   False                         False   \n",
       "10                  False                         False   \n",
       "11                  False                          True   \n",
       "\n",
       "    Sex upon Outcome_Neutered Male  Sex upon Outcome_Spayed Female  \\\n",
       "0                            False                           False   \n",
       "8                            False                            True   \n",
       "9                            False                           False   \n",
       "10                           False                           False   \n",
       "11                           False                           False   \n",
       "\n",
       "    Sex upon Outcome_Unknown  Outcome Type_Transfer  Outcome Subtype_Barn  \\\n",
       "0                       True                   True                 False   \n",
       "8                      False                  False                 False   \n",
       "9                       True                   True                 False   \n",
       "10                      True                   True                 False   \n",
       "11                     False                   True                 False   \n",
       "\n",
       "    Outcome Subtype_Emer  Outcome Subtype_Foster  Outcome Subtype_In State  \\\n",
       "0                  False                   False                     False   \n",
       "8                  False                   False                     False   \n",
       "9                  False                   False                     False   \n",
       "10                 False                   False                     False   \n",
       "11                 False                   False                     False   \n",
       "\n",
       "    Outcome Subtype_Offsite  Outcome Subtype_Out State  \\\n",
       "0                     False                      False   \n",
       "8                     False                      False   \n",
       "9                     False                      False   \n",
       "10                    False                      False   \n",
       "11                    False                      False   \n",
       "\n",
       "    Outcome Subtype_Partner  Outcome Subtype_SCRP  Outcome Subtype_Snr  \n",
       "0                      True                 False                False  \n",
       "8                     False                 False                False  \n",
       "9                      True                 False                False  \n",
       "10                     True                 False                False  \n",
       "11                     True                 False                False  "
      ]
     },
     "execution_count": 65,
     "metadata": {},
     "output_type": "execute_result"
    }
   ],
   "source": [
    "data1 = pd.get_dummies(data1, columns=[\"Animal Type\", \"Sex upon Outcome\", \"Outcome Type\", \"Outcome Subtype\"], drop_first=True)\n",
    "data1.head()"
   ]
  },
  {
   "cell_type": "markdown",
   "id": "4a2a7a57-383c-44cb-9c06-7896df7b6bcb",
   "metadata": {},
   "source": [
    "**Here, I guess Outcome Type_Transfer being true means that it was transferred. It being 0 means that it was adopted.**"
   ]
  },
  {
   "cell_type": "code",
   "execution_count": 66,
   "id": "3020baa1-3445-4e79-ac68-e2726fef365b",
   "metadata": {},
   "outputs": [
    {
     "name": "stdout",
     "output_type": "stream",
     "text": [
      "<class 'pandas.core.frame.DataFrame'>\n",
      "Index: 129050 entries, 0 to 131147\n",
      "Data columns (total 19 columns):\n",
      " #   Column                          Non-Null Count   Dtype\n",
      "---  ------                          --------------   -----\n",
      " 0   MonthYear                       129050 non-null  int32\n",
      " 1   Age upon Outcome                129050 non-null  int64\n",
      " 2   Animal Type_Cat                 129050 non-null  bool \n",
      " 3   Animal Type_Dog                 129050 non-null  bool \n",
      " 4   Animal Type_Livestock           129050 non-null  bool \n",
      " 5   Sex upon Outcome_Intact Male    129050 non-null  bool \n",
      " 6   Sex upon Outcome_Neutered Male  129050 non-null  bool \n",
      " 7   Sex upon Outcome_Spayed Female  129050 non-null  bool \n",
      " 8   Sex upon Outcome_Unknown        129050 non-null  bool \n",
      " 9   Outcome Type_Transfer           129050 non-null  bool \n",
      " 10  Outcome Subtype_Barn            129050 non-null  bool \n",
      " 11  Outcome Subtype_Emer            129050 non-null  bool \n",
      " 12  Outcome Subtype_Foster          129050 non-null  bool \n",
      " 13  Outcome Subtype_In State        129050 non-null  bool \n",
      " 14  Outcome Subtype_Offsite         129050 non-null  bool \n",
      " 15  Outcome Subtype_Out State       129050 non-null  bool \n",
      " 16  Outcome Subtype_Partner         129050 non-null  bool \n",
      " 17  Outcome Subtype_SCRP            129050 non-null  bool \n",
      " 18  Outcome Subtype_Snr             129050 non-null  bool \n",
      "dtypes: bool(17), int32(1), int64(1)\n",
      "memory usage: 4.6 MB\n"
     ]
    }
   ],
   "source": [
    "data1.info()"
   ]
  },
  {
   "cell_type": "code",
   "execution_count": 67,
   "id": "52aeebfe-684b-462e-92ad-6e0fe5894a4d",
   "metadata": {},
   "outputs": [
    {
     "data": {
      "text/html": [
       "<div>\n",
       "<style scoped>\n",
       "    .dataframe tbody tr th:only-of-type {\n",
       "        vertical-align: middle;\n",
       "    }\n",
       "\n",
       "    .dataframe tbody tr th {\n",
       "        vertical-align: top;\n",
       "    }\n",
       "\n",
       "    .dataframe thead th {\n",
       "        text-align: right;\n",
       "    }\n",
       "</style>\n",
       "<table border=\"1\" class=\"dataframe\">\n",
       "  <thead>\n",
       "    <tr style=\"text-align: right;\">\n",
       "      <th></th>\n",
       "      <th>MonthYear</th>\n",
       "      <th>Age upon Outcome</th>\n",
       "    </tr>\n",
       "  </thead>\n",
       "  <tbody>\n",
       "    <tr>\n",
       "      <th>count</th>\n",
       "      <td>129050.000000</td>\n",
       "      <td>129050.000000</td>\n",
       "    </tr>\n",
       "    <tr>\n",
       "      <th>mean</th>\n",
       "      <td>229.919667</td>\n",
       "      <td>619.437358</td>\n",
       "    </tr>\n",
       "    <tr>\n",
       "      <th>std</th>\n",
       "      <td>39.555856</td>\n",
       "      <td>901.820030</td>\n",
       "    </tr>\n",
       "    <tr>\n",
       "      <th>min</th>\n",
       "      <td>166.000000</td>\n",
       "      <td>0.000000</td>\n",
       "    </tr>\n",
       "    <tr>\n",
       "      <th>25%</th>\n",
       "      <td>196.000000</td>\n",
       "      <td>79.000000</td>\n",
       "    </tr>\n",
       "    <tr>\n",
       "      <th>50%</th>\n",
       "      <td>227.000000</td>\n",
       "      <td>277.000000</td>\n",
       "    </tr>\n",
       "    <tr>\n",
       "      <th>75%</th>\n",
       "      <td>263.000000</td>\n",
       "      <td>742.000000</td>\n",
       "    </tr>\n",
       "    <tr>\n",
       "      <th>max</th>\n",
       "      <td>305.000000</td>\n",
       "      <td>10996.000000</td>\n",
       "    </tr>\n",
       "  </tbody>\n",
       "</table>\n",
       "</div>"
      ],
      "text/plain": [
       "           MonthYear  Age upon Outcome\n",
       "count  129050.000000     129050.000000\n",
       "mean      229.919667        619.437358\n",
       "std        39.555856        901.820030\n",
       "min       166.000000          0.000000\n",
       "25%       196.000000         79.000000\n",
       "50%       227.000000        277.000000\n",
       "75%       263.000000        742.000000\n",
       "max       305.000000      10996.000000"
      ]
     },
     "execution_count": 67,
     "metadata": {},
     "output_type": "execute_result"
    }
   ],
   "source": [
    "data1.describe()"
   ]
  },
  {
   "cell_type": "code",
   "execution_count": 68,
   "id": "b410ecb2-fb56-4621-8a26-09f0af8622a1",
   "metadata": {},
   "outputs": [
    {
     "data": {
      "text/plain": [
       "(0.0, 6000.0)"
      ]
     },
     "execution_count": 68,
     "metadata": {},
     "output_type": "execute_result"
    },
    {
     "data": {
      "image/png": "[encoded data removed]",
      "text/plain": [
       "<Figure size 640x480 with 1 Axes>"
      ]
     },
     "metadata": {},
     "output_type": "display_data"
    }
   ],
   "source": [
    "sns.histplot(data=data1['Age upon Outcome'] ) # we can look at maybe like 2000, 4000, and 6000\n",
    "plt.xlim(0, 6000)"
   ]
  },
  {
   "cell_type": "code",
   "execution_count": 69,
   "id": "37364884-75ff-4bbc-bd57-7252d7186173",
   "metadata": {},
   "outputs": [
    {
     "data": {
      "text/plain": [
       "(0.0, 6000.0)"
      ]
     },
     "execution_count": 69,
     "metadata": {},
     "output_type": "execute_result"
    },
    {
     "data": {
      "image/png": "[encoded data removed]",
      "text/plain": [
       "<Figure size 640x480 with 1 Axes>"
      ]
     },
     "metadata": {},
     "output_type": "display_data"
    }
   ],
   "source": [
    "sns.histplot(data=data1['Age upon Outcome'] )\n",
    "plt.xlim(0, 6000)"
   ]
  },
  {
   "cell_type": "code",
   "execution_count": 70,
   "id": "471f5422-b5cf-496a-af8d-9ccb8dc451f1",
   "metadata": {},
   "outputs": [
    {
     "data": {
      "text/plain": [
       "(0.0, 4000.0)"
      ]
     },
     "execution_count": 70,
     "metadata": {},
     "output_type": "execute_result"
    },
    {
     "data": {
      "image/png": "[encoded data removed]",
      "text/plain": [
       "<Figure size 640x480 with 1 Axes>"
      ]
     },
     "metadata": {},
     "output_type": "display_data"
    }
   ],
   "source": [
    "sns.histplot(data=data1['Age upon Outcome'] ) # we can look at maybe like 2000, 4000, and 6000\n",
    "plt.xlim(0, 4000)"
   ]
  },
  {
   "cell_type": "code",
   "execution_count": 71,
   "id": "04616030-30b2-4f6b-b1f0-2f4bed181fac",
   "metadata": {},
   "outputs": [
    {
     "data": {
      "text/plain": [
       "(0.0, 2000.0)"
      ]
     },
     "execution_count": 71,
     "metadata": {},
     "output_type": "execute_result"
    },
    {
     "data": {
      "image/png": "[encoded data removed]",
      "text/plain": [
       "<Figure size 640x480 with 1 Axes>"
      ]
     },
     "metadata": {},
     "output_type": "display_data"
    }
   ],
   "source": [
    "sns.histplot(data=data1['Age upon Outcome'] ) # we can look at maybe like 2000, 4000, and 6000\n",
    "plt.xlim(0, 2000)"
   ]
  },
  {
   "cell_type": "markdown",
   "id": "ce8e79f5-9686-4753-af36-a0b40b46da5a",
   "metadata": {},
   "source": [
    "**So... there seems to be massive spikes at certain times. Let's see if this has anything to do with adoption?**"
   ]
  },
  {
   "cell_type": "code",
   "execution_count": 72,
   "id": "6cc182f7-5159-4f90-8a12-487b31df4b17",
   "metadata": {},
   "outputs": [],
   "source": [
    "adopted = data1[\"Outcome Type_Transfer\"] == False\n",
    "adoptees = data1[adopted]\n",
    "transferred = data1[\"Outcome Type_Transfer\"] == True\n",
    "transfer = data1[transferred]"
   ]
  },
  {
   "cell_type": "code",
   "execution_count": 73,
   "id": "07525733-1490-4b21-89b3-7db50fca6835",
   "metadata": {},
   "outputs": [
    {
     "data": {
      "text/html": [
       "<div>\n",
       "<style scoped>\n",
       "    .dataframe tbody tr th:only-of-type {\n",
       "        vertical-align: middle;\n",
       "    }\n",
       "\n",
       "    .dataframe tbody tr th {\n",
       "        vertical-align: top;\n",
       "    }\n",
       "\n",
       "    .dataframe thead th {\n",
       "        text-align: right;\n",
       "    }\n",
       "</style>\n",
       "<table border=\"1\" class=\"dataframe\">\n",
       "  <thead>\n",
       "    <tr style=\"text-align: right;\">\n",
       "      <th></th>\n",
       "      <th>MonthYear</th>\n",
       "      <th>Age upon Outcome</th>\n",
       "    </tr>\n",
       "  </thead>\n",
       "  <tbody>\n",
       "    <tr>\n",
       "      <th>count</th>\n",
       "      <td>83459.000000</td>\n",
       "      <td>83459.000000</td>\n",
       "    </tr>\n",
       "    <tr>\n",
       "      <th>mean</th>\n",
       "      <td>233.310620</td>\n",
       "      <td>615.467499</td>\n",
       "    </tr>\n",
       "    <tr>\n",
       "      <th>std</th>\n",
       "      <td>39.754198</td>\n",
       "      <td>879.185733</td>\n",
       "    </tr>\n",
       "    <tr>\n",
       "      <th>min</th>\n",
       "      <td>166.000000</td>\n",
       "      <td>0.000000</td>\n",
       "    </tr>\n",
       "    <tr>\n",
       "      <th>25%</th>\n",
       "      <td>200.000000</td>\n",
       "      <td>86.000000</td>\n",
       "    </tr>\n",
       "    <tr>\n",
       "      <th>50%</th>\n",
       "      <td>231.000000</td>\n",
       "      <td>258.000000</td>\n",
       "    </tr>\n",
       "    <tr>\n",
       "      <th>75%</th>\n",
       "      <td>268.000000</td>\n",
       "      <td>746.000000</td>\n",
       "    </tr>\n",
       "    <tr>\n",
       "      <th>max</th>\n",
       "      <td>305.000000</td>\n",
       "      <td>7308.000000</td>\n",
       "    </tr>\n",
       "  </tbody>\n",
       "</table>\n",
       "</div>"
      ],
      "text/plain": [
       "          MonthYear  Age upon Outcome\n",
       "count  83459.000000      83459.000000\n",
       "mean     233.310620        615.467499\n",
       "std       39.754198        879.185733\n",
       "min      166.000000          0.000000\n",
       "25%      200.000000         86.000000\n",
       "50%      231.000000        258.000000\n",
       "75%      268.000000        746.000000\n",
       "max      305.000000       7308.000000"
      ]
     },
     "execution_count": 73,
     "metadata": {},
     "output_type": "execute_result"
    }
   ],
   "source": [
    "adoptees.describe()"
   ]
  },
  {
   "cell_type": "code",
   "execution_count": 74,
   "id": "8fb27ae9-f5e8-4c2c-bc8c-e8c5d39307a5",
   "metadata": {},
   "outputs": [
    {
     "data": {
      "text/html": [
       "<div>\n",
       "<style scoped>\n",
       "    .dataframe tbody tr th:only-of-type {\n",
       "        vertical-align: middle;\n",
       "    }\n",
       "\n",
       "    .dataframe tbody tr th {\n",
       "        vertical-align: top;\n",
       "    }\n",
       "\n",
       "    .dataframe thead th {\n",
       "        text-align: right;\n",
       "    }\n",
       "</style>\n",
       "<table border=\"1\" class=\"dataframe\">\n",
       "  <thead>\n",
       "    <tr style=\"text-align: right;\">\n",
       "      <th></th>\n",
       "      <th>MonthYear</th>\n",
       "      <th>Age upon Outcome</th>\n",
       "    </tr>\n",
       "  </thead>\n",
       "  <tbody>\n",
       "    <tr>\n",
       "      <th>count</th>\n",
       "      <td>45591.00000</td>\n",
       "      <td>45591.000000</td>\n",
       "    </tr>\n",
       "    <tr>\n",
       "      <th>mean</th>\n",
       "      <td>223.71218</td>\n",
       "      <td>626.704591</td>\n",
       "    </tr>\n",
       "    <tr>\n",
       "      <th>std</th>\n",
       "      <td>38.42291</td>\n",
       "      <td>941.812712</td>\n",
       "    </tr>\n",
       "    <tr>\n",
       "      <th>min</th>\n",
       "      <td>166.00000</td>\n",
       "      <td>0.000000</td>\n",
       "    </tr>\n",
       "    <tr>\n",
       "      <th>25%</th>\n",
       "      <td>190.00000</td>\n",
       "      <td>44.000000</td>\n",
       "    </tr>\n",
       "    <tr>\n",
       "      <th>50%</th>\n",
       "      <td>221.00000</td>\n",
       "      <td>309.000000</td>\n",
       "    </tr>\n",
       "    <tr>\n",
       "      <th>75%</th>\n",
       "      <td>253.00000</td>\n",
       "      <td>738.000000</td>\n",
       "    </tr>\n",
       "    <tr>\n",
       "      <th>max</th>\n",
       "      <td>305.00000</td>\n",
       "      <td>10996.000000</td>\n",
       "    </tr>\n",
       "  </tbody>\n",
       "</table>\n",
       "</div>"
      ],
      "text/plain": [
       "         MonthYear  Age upon Outcome\n",
       "count  45591.00000      45591.000000\n",
       "mean     223.71218        626.704591\n",
       "std       38.42291        941.812712\n",
       "min      166.00000          0.000000\n",
       "25%      190.00000         44.000000\n",
       "50%      221.00000        309.000000\n",
       "75%      253.00000        738.000000\n",
       "max      305.00000      10996.000000"
      ]
     },
     "execution_count": 74,
     "metadata": {},
     "output_type": "execute_result"
    }
   ],
   "source": [
    "transfer.describe()"
   ]
  },
  {
   "cell_type": "markdown",
   "id": "399159f2-656b-40a4-adfe-bbfabafa9a4e",
   "metadata": {},
   "source": [
    "**Roughly the same to be honest**"
   ]
  },
  {
   "cell_type": "code",
   "execution_count": 75,
   "id": "e6a1d29b-4de0-4efa-8f4b-93ac4b1a125f",
   "metadata": {},
   "outputs": [
    {
     "data": {
      "text/plain": [
       "(0.0, 2000.0)"
      ]
     },
     "execution_count": 75,
     "metadata": {},
     "output_type": "execute_result"
    },
    {
     "data": {
      "image/png": "[encoded data removed]",
      "text/plain": [
       "<Figure size 640x480 with 1 Axes>"
      ]
     },
     "metadata": {},
     "output_type": "display_data"
    }
   ],
   "source": [
    "sns.histplot(data=adoptees['Age upon Outcome'] ,kde=True) # we can look at maybe like 2000, 4000, and 6000\n",
    "plt.xlim(0, 2000)"
   ]
  },
  {
   "cell_type": "code",
   "execution_count": 76,
   "id": "966fb336-68e1-4899-8f3d-a62ee0f4942b",
   "metadata": {},
   "outputs": [
    {
     "data": {
      "text/plain": [
       "(0.0, 2000.0)"
      ]
     },
     "execution_count": 76,
     "metadata": {},
     "output_type": "execute_result"
    },
    {
     "data": {
      "image/png": "[encoded data removed]",
      "text/plain": [
       "<Figure size 640x480 with 1 Axes>"
      ]
     },
     "metadata": {},
     "output_type": "display_data"
    }
   ],
   "source": [
    "sns.histplot(data=transfer['Age upon Outcome'],kde=True ) # we can look at maybe like 2000, 4000, and 6000\n",
    "plt.xlim(0, 2000)"
   ]
  },
  {
   "cell_type": "markdown",
   "id": "982019c6-6751-4f31-9ba3-44f8ec438817",
   "metadata": {},
   "source": [
    "**Ok, yeah.. so no There just seems to be a spike around the year marks no matter if they were adopted or transferred**\n",
    "\n",
    "**So what about the date?**"
   ]
  },
  {
   "cell_type": "code",
   "execution_count": 77,
   "id": "7733fe8a-7360-4bcc-9e1d-c69c92396288",
   "metadata": {},
   "outputs": [
    {
     "data": {
      "text/plain": [
       "<Axes: xlabel='MonthYear', ylabel='Count'>"
      ]
     },
     "execution_count": 77,
     "metadata": {},
     "output_type": "execute_result"
    },
    {
     "data": {
      "image/png": "[encoded data removed]",
      "text/plain": [
       "<Figure size 640x480 with 1 Axes>"
      ]
     },
     "metadata": {},
     "output_type": "display_data"
    }
   ],
   "source": [
    "sns.histplot(data=adoptees['MonthYear'], bins=139,kde=True) #max - min = 139"
   ]
  },
  {
   "cell_type": "code",
   "execution_count": 78,
   "id": "3f38ae5b-d03b-42d4-9e31-6eb1f3ea13ae",
   "metadata": {},
   "outputs": [
    {
     "data": {
      "text/plain": [
       "<Axes: xlabel='MonthYear', ylabel='Count'>"
      ]
     },
     "execution_count": 78,
     "metadata": {},
     "output_type": "execute_result"
    },
    {
     "data": {
      "image/png": "[encoded data removed]",
      "text/plain": [
       "<Figure size 640x480 with 1 Axes>"
      ]
     },
     "metadata": {},
     "output_type": "display_data"
    }
   ],
   "source": [
    "sns.histplot(data=transfer['MonthYear'], bins=139,kde=True) #max - min = 139"
   ]
  },
  {
   "cell_type": "markdown",
   "id": "d1234f35-f914-4197-9593-0cb0d2d3948f",
   "metadata": {},
   "source": [
    "**So... they also look very similar. I mean, adoption overall seems to be higher overall as time goes on. More adoption near the end.**"
   ]
  },
  {
   "cell_type": "markdown",
   "id": "17dd9b7d-1348-4235-8f5f-030ab1467e50",
   "metadata": {},
   "source": [
    "**Maybe if we look at the categorial data?**"
   ]
  },
  {
   "cell_type": "code",
   "execution_count": 79,
   "id": "65c537c0-492f-46db-94e3-ee023c93ac68",
   "metadata": {},
   "outputs": [],
   "source": [
    "ad = data[\"Outcome Type\"] == \"Adopted\"\n",
    "a = data[adopted]"
   ]
  },
  {
   "cell_type": "code",
   "execution_count": 80,
   "id": "8292ad6f-fb41-42c4-9891-fc404dab576b",
   "metadata": {},
   "outputs": [
    {
     "data": {
      "text/plain": [
       "<function matplotlib.pyplot.show(close=None, block=None)>"
      ]
     },
     "execution_count": 80,
     "metadata": {},
     "output_type": "execute_result"
    },
    {
     "data": {
      "image/png": "[encoded data removed]",
      "text/plain": [
       "<Figure size 640x480 with 1 Axes>"
      ]
     },
     "metadata": {},
     "output_type": "display_data"
    }
   ],
   "source": [
    "sns.countplot(x=data['Outcome Subtype'])\n",
    "plt.xticks(rotation=45, ha='right')\n",
    "plt.show"
   ]
  },
  {
   "cell_type": "markdown",
   "id": "e2b6300a-0208-4d2f-8a4f-d209de97e1e3",
   "metadata": {},
   "source": [
    "**Not super helpful**"
   ]
  },
  {
   "cell_type": "code",
   "execution_count": 81,
   "id": "441080d0-f4a9-4af1-a256-65b0653bb97b",
   "metadata": {},
   "outputs": [
    {
     "data": {
      "text/plain": [
       "<Axes: xlabel='Age upon Outcome'>"
      ]
     },
     "execution_count": 81,
     "metadata": {},
     "output_type": "execute_result"
    },
    {
     "data": {
      "image/png": "[encoded data removed]",
      "text/plain": [
       "<Figure size 640x480 with 1 Axes>"
      ]
     },
     "metadata": {},
     "output_type": "display_data"
    }
   ],
   "source": [
    "sns.boxplot(data=adoptees, x='Age upon Outcome')"
   ]
  },
  {
   "cell_type": "code",
   "execution_count": 82,
   "id": "18558daa-af30-438c-9000-abe196b05841",
   "metadata": {},
   "outputs": [
    {
     "data": {
      "text/plain": [
       "<Axes: xlabel='Age upon Outcome'>"
      ]
     },
     "execution_count": 82,
     "metadata": {},
     "output_type": "execute_result"
    },
    {
     "data": {
      "image/png": "[encoded data removed]",
      "text/plain": [
       "<Figure size 640x480 with 1 Axes>"
      ]
     },
     "metadata": {},
     "output_type": "display_data"
    }
   ],
   "source": [
    "sns.boxplot(data=transfer, x='Age upon Outcome')"
   ]
  },
  {
   "cell_type": "markdown",
   "id": "1eda1174-07a7-4c3a-a367-51c35fb3fa6b",
   "metadata": {},
   "source": [
    "**I mean, looks very similar. It seems like the adopted animals are generall older, but not enough to differentiate them.**"
   ]
  },
  {
   "cell_type": "code",
   "execution_count": 83,
   "id": "51360fed-09a2-40ca-a8f2-d035001118d7",
   "metadata": {},
   "outputs": [
    {
     "data": {
      "text/plain": [
       "<Axes: xlabel='MonthYear'>"
      ]
     },
     "execution_count": 83,
     "metadata": {},
     "output_type": "execute_result"
    },
    {
     "data": {
      "image/png": "[encoded data removed]",
      "text/plain": [
       "<Figure size 640x480 with 1 Axes>"
      ]
     },
     "metadata": {},
     "output_type": "display_data"
    }
   ],
   "source": [
    "sns.boxplot(data=adoptees, x='MonthYear')"
   ]
  },
  {
   "cell_type": "code",
   "execution_count": 84,
   "id": "ee729efc-0c28-4db1-9dec-3ea03f4c3be4",
   "metadata": {},
   "outputs": [
    {
     "data": {
      "text/plain": [
       "<Axes: xlabel='MonthYear'>"
      ]
     },
     "execution_count": 84,
     "metadata": {},
     "output_type": "execute_result"
    },
    {
     "data": {
      "image/png": "[encoded data removed]",
      "text/plain": [
       "<Figure size 640x480 with 1 Axes>"
      ]
     },
     "metadata": {},
     "output_type": "display_data"
    }
   ],
   "source": [
    "sns.boxplot(data=transfer, x='MonthYear')"
   ]
  },
  {
   "cell_type": "markdown",
   "id": "2c2a7305-fbe1-4a5a-af3b-d8cf904eee5e",
   "metadata": {},
   "source": [
    "**Again, not super noticable to differentiate them**"
   ]
  },
  {
   "cell_type": "markdown",
   "id": "38e3325c-57a2-4dba-8d51-138b85f68795",
   "metadata": {},
   "source": [
    "**Overall, there's some interesting data, but I couldn't really tell if any of it really helped.**"
   ]
  },
  {
   "cell_type": "markdown",
   "id": "742d43b5-5292-4c8f-8d3c-0aba1e555396",
   "metadata": {},
   "source": [
    "# Now we start the machine learning portion:"
   ]
  },
  {
   "cell_type": "code",
   "execution_count": 85,
   "id": "eb9809a1-de4e-49c3-9c8e-5f644141ea78",
   "metadata": {},
   "outputs": [],
   "source": [
    "from sklearn.model_selection import train_test_split\n",
    "from sklearn.linear_model import SGDClassifier\n",
    "from sklearn.metrics import accuracy_score, classification_report"
   ]
  },
  {
   "cell_type": "code",
   "execution_count": 86,
   "id": "cd12bd14-d9c4-4a38-90b5-aa3575597045",
   "metadata": {},
   "outputs": [
    {
     "data": {
      "text/plain": [
       "<bound method Series.unique of 14774     Adoption\n",
       "19172     Transfer\n",
       "45285     Transfer\n",
       "70330     Transfer\n",
       "86163     Transfer\n",
       "89110     Adoption\n",
       "89111     Adoption\n",
       "89175     Transfer\n",
       "89176     Transfer\n",
       "89177     Transfer\n",
       "89179     Transfer\n",
       "97414     Transfer\n",
       "122542    Transfer\n",
       "122543    Transfer\n",
       "122544    Transfer\n",
       "122545    Transfer\n",
       "Name: Outcome Type, dtype: object>"
      ]
     },
     "execution_count": 86,
     "metadata": {},
     "output_type": "execute_result"
    }
   ],
   "source": [
    "s = data[\"Outcome Subtype\"] == \"Barn\"\n",
    "s.sum()\n",
    "data[s][\"Outcome Type\"].unique"
   ]
  },
  {
   "cell_type": "markdown",
   "id": "41744a20-aa18-43b5-8636-1a510864ae4a",
   "metadata": {},
   "source": [
    "**So aside from the 16 animals where there is barn (and even then only 2 are adoption and the rest are transfer), as I've shown above, there is no overlap in any other of the Outcome Subtypes, so giving the Outcome Subtype will essentially give the Outcome Type. SO, we exclude it.** "
   ]
  },
  {
   "cell_type": "markdown",
   "id": "775ef483-a19d-4fa3-bcb1-5e2f01b69c3e",
   "metadata": {},
   "source": [
    "## Splitting the data"
   ]
  },
  {
   "cell_type": "code",
   "execution_count": 87,
   "id": "3907441c-3a3c-4016-a4d4-a11422b3b30a",
   "metadata": {},
   "outputs": [],
   "source": [
    "data_x = data1.iloc[:, 0:9].copy()\n",
    "data_y = data1[\"Outcome Type_Transfer\"].copy()\n",
    "X_train, X_test, y_train, y_test = train_test_split(data_x, data_y, test_size=0.3, stratify=data_y, random_state=26)"
   ]
  },
  {
   "cell_type": "code",
   "execution_count": 88,
   "id": "29272bec-d67d-49a1-bd42-44f884ab0b0f",
   "metadata": {},
   "outputs": [],
   "source": [
    "## Linear Classifier"
   ]
  },
  {
   "cell_type": "code",
   "execution_count": 89,
   "id": "7b508db1-ad3d-40b8-97a5-bcd0dee0f3a2",
   "metadata": {},
   "outputs": [
    {
     "data": {
      "text/html": [
       "<style>#sk-container-id-1 {color: black;}#sk-container-id-1 pre{padding: 0;}#sk-container-id-1 div.sk-toggleable {background-color: white;}#sk-container-id-1 label.sk-toggleable__label {cursor: pointer;display: block;width: 100%;margin-bottom: 0;padding: 0.3em;box-sizing: border-box;text-align: center;}#sk-container-id-1 label.sk-toggleable__label-arrow:before {content: \"▸\";float: left;margin-right: 0.25em;color: #696969;}#sk-container-id-1 label.sk-toggleable__label-arrow:hover:before {color: black;}#sk-container-id-1 div.sk-estimator:hover label.sk-toggleable__label-arrow:before {color: black;}#sk-container-id-1 div.sk-toggleable__content {max-height: 0;max-width: 0;overflow: hidden;text-align: left;background-color: #f0f8ff;}#sk-container-id-1 div.sk-toggleable__content pre {margin: 0.2em;color: black;border-radius: 0.25em;background-color: #f0f8ff;}#sk-container-id-1 input.sk-toggleable__control:checked~div.sk-toggleable__content {max-height: 200px;max-width: 100%;overflow: auto;}#sk-container-id-1 input.sk-toggleable__control:checked~label.sk-toggleable__label-arrow:before {content: \"▾\";}#sk-container-id-1 div.sk-estimator input.sk-toggleable__control:checked~label.sk-toggleable__label {background-color: #d4ebff;}#sk-container-id-1 div.sk-label input.sk-toggleable__control:checked~label.sk-toggleable__label {background-color: #d4ebff;}#sk-container-id-1 input.sk-hidden--visually {border: 0;clip: rect(1px 1px 1px 1px);clip: rect(1px, 1px, 1px, 1px);height: 1px;margin: -1px;overflow: hidden;padding: 0;position: absolute;width: 1px;}#sk-container-id-1 div.sk-estimator {font-family: monospace;background-color: #f0f8ff;border: 1px dotted black;border-radius: 0.25em;box-sizing: border-box;margin-bottom: 0.5em;}#sk-container-id-1 div.sk-estimator:hover {background-color: #d4ebff;}#sk-container-id-1 div.sk-parallel-item::after {content: \"\";width: 100%;border-bottom: 1px solid gray;flex-grow: 1;}#sk-container-id-1 div.sk-label:hover label.sk-toggleable__label {background-color: #d4ebff;}#sk-container-id-1 div.sk-serial::before {content: \"\";position: absolute;border-left: 1px solid gray;box-sizing: border-box;top: 0;bottom: 0;left: 50%;z-index: 0;}#sk-container-id-1 div.sk-serial {display: flex;flex-direction: column;align-items: center;background-color: white;padding-right: 0.2em;padding-left: 0.2em;position: relative;}#sk-container-id-1 div.sk-item {position: relative;z-index: 1;}#sk-container-id-1 div.sk-parallel {display: flex;align-items: stretch;justify-content: center;background-color: white;position: relative;}#sk-container-id-1 div.sk-item::before, #sk-container-id-1 div.sk-parallel-item::before {content: \"\";position: absolute;border-left: 1px solid gray;box-sizing: border-box;top: 0;bottom: 0;left: 50%;z-index: -1;}#sk-container-id-1 div.sk-parallel-item {display: flex;flex-direction: column;z-index: 1;position: relative;background-color: white;}#sk-container-id-1 div.sk-parallel-item:first-child::after {align-self: flex-end;width: 50%;}#sk-container-id-1 div.sk-parallel-item:last-child::after {align-self: flex-start;width: 50%;}#sk-container-id-1 div.sk-parallel-item:only-child::after {width: 0;}#sk-container-id-1 div.sk-dashed-wrapped {border: 1px dashed gray;margin: 0 0.4em 0.5em 0.4em;box-sizing: border-box;padding-bottom: 0.4em;background-color: white;}#sk-container-id-1 div.sk-label label {font-family: monospace;font-weight: bold;display: inline-block;line-height: 1.2em;}#sk-container-id-1 div.sk-label-container {text-align: center;}#sk-container-id-1 div.sk-container {/* jupyter's `normalize.less` sets `[hidden] { display: none; }` but bootstrap.min.css set `[hidden] { display: none !important; }` so we also need the `!important` here to be able to override the default hidden behavior on the sphinx rendered scikit-learn.org. See: https://github.com/scikit-learn/scikit-learn/issues/21755 */display: inline-block !important;position: relative;}#sk-container-id-1 div.sk-text-repr-fallback {display: none;}</style><div id=\"sk-container-id-1\" class=\"sk-top-container\"><div class=\"sk-text-repr-fallback\"><pre>SGDClassifier(alpha=0.05, loss=&#x27;perceptron&#x27;, random_state=26)</pre><b>In a Jupyter environment, please rerun this cell to show the HTML representation or trust the notebook. <br />On GitHub, the HTML representation is unable to render, please try loading this page with nbviewer.org.</b></div><div class=\"sk-container\" hidden><div class=\"sk-item\"><div class=\"sk-estimator sk-toggleable\"><input class=\"sk-toggleable__control sk-hidden--visually\" id=\"sk-estimator-id-1\" type=\"checkbox\" checked><label for=\"sk-estimator-id-1\" class=\"sk-toggleable__label sk-toggleable__label-arrow\">SGDClassifier</label><div class=\"sk-toggleable__content\"><pre>SGDClassifier(alpha=0.05, loss=&#x27;perceptron&#x27;, random_state=26)</pre></div></div></div></div></div>"
      ],
      "text/plain": [
       "SGDClassifier(alpha=0.05, loss='perceptron', random_state=26)"
      ]
     },
     "execution_count": 89,
     "metadata": {},
     "output_type": "execute_result"
    }
   ],
   "source": [
    "clf_linear = SGDClassifier(loss=\"perceptron\", alpha=0.05, random_state=26)\n",
    "clf_linear.fit(X_train, y_train)"
   ]
  },
  {
   "cell_type": "code",
   "execution_count": 90,
   "id": "e6a107f4-90b3-4726-a4da-4085e1a78f30",
   "metadata": {},
   "outputs": [
    {
     "name": "stdout",
     "output_type": "stream",
     "text": [
      "0.7323776314090146\n",
      "0.7298167930480988\n"
     ]
    }
   ],
   "source": [
    "# Check the accuracy on the test data\n",
    "accuracy_test=accuracy_score(y_test, clf_linear.predict(X_test))\n",
    "\n",
    "# Check accuracy on the training data\n",
    "accuracy_train=accuracy_score(y_train, clf_linear.predict(X_train))\n",
    "\n",
    "print(accuracy_test)\n",
    "print(accuracy_train)"
   ]
  },
  {
   "cell_type": "code",
   "execution_count": 91,
   "id": "db96f738-089f-4280-9d72-13ca8fd8d5bf",
   "metadata": {},
   "outputs": [
    {
     "name": "stdout",
     "output_type": "stream",
     "text": [
      "Performance on TEST\n",
      "*******************\n",
      "              precision    recall  f1-score   support\n",
      "\n",
      "       False       0.71      0.99      0.83     25038\n",
      "        True       0.93      0.26      0.41     13677\n",
      "\n",
      "    accuracy                           0.73     38715\n",
      "   macro avg       0.82      0.63      0.62     38715\n",
      "weighted avg       0.79      0.73      0.68     38715\n",
      "\n",
      "Performance on TRAIN\n",
      "********************\n",
      "              precision    recall  f1-score   support\n",
      "\n",
      "       False       0.71      0.99      0.83     58421\n",
      "        True       0.92      0.26      0.40     31914\n",
      "\n",
      "    accuracy                           0.73     90335\n",
      "   macro avg       0.81      0.62      0.61     90335\n",
      "weighted avg       0.78      0.73      0.68     90335\n",
      "\n"
     ]
    }
   ],
   "source": [
    "print(f\"Performance on TEST\\n*******************\\n{classification_report(y_test, clf_linear.predict(X_test))}\")\n",
    "print(f\"Performance on TRAIN\\n********************\\n{classification_report(y_train, clf_linear.predict(X_train))}\")"
   ]
  },
  {
   "cell_type": "code",
   "execution_count": 92,
   "id": "dd6b4c27-c2b3-4240-9bb0-209ca9da91d9",
   "metadata": {},
   "outputs": [
    {
     "name": "stdout",
     "output_type": "stream",
     "text": [
      "0.7879374919281932\n",
      "0.7894393092378369\n",
      "Performance on TEST\n",
      "*******************\n",
      "              precision    recall  f1-score   support\n",
      "\n",
      "       False       0.79      0.92      0.85     25038\n",
      "        True       0.78      0.55      0.65     13677\n",
      "\n",
      "    accuracy                           0.79     38715\n",
      "   macro avg       0.79      0.73      0.75     38715\n",
      "weighted avg       0.79      0.79      0.78     38715\n",
      "\n",
      "Performance on TRAIN\n",
      "********************\n",
      "              precision    recall  f1-score   support\n",
      "\n",
      "       False       0.79      0.92      0.85     58421\n",
      "        True       0.79      0.55      0.65     31914\n",
      "\n",
      "    accuracy                           0.79     90335\n",
      "   macro avg       0.79      0.74      0.75     90335\n",
      "weighted avg       0.79      0.79      0.78     90335\n",
      "\n"
     ]
    }
   ],
   "source": [
    "clf_linear2 = SGDClassifier(loss=\"perceptron\", alpha=0.01, random_state=26)\n",
    "clf_linear2.fit(X_train, y_train)\n",
    "# Check the accuracy on the test data\n",
    "accuracy_test=accuracy_score(y_test, clf_linear2.predict(X_test))\n",
    "\n",
    "# Check accuracy on the training data\n",
    "accuracy_train=accuracy_score(y_train, clf_linear2.predict(X_train))\n",
    "\n",
    "print(accuracy_test)\n",
    "print(accuracy_train)\n",
    "print(f\"Performance on TEST\\n*******************\\n{classification_report(y_test, clf_linear2.predict(X_test))}\")\n",
    "print(f\"Performance on TRAIN\\n********************\\n{classification_report(y_train, clf_linear2.predict(X_train))}\")"
   ]
  },
  {
   "cell_type": "markdown",
   "id": "de4cf0a5-e644-4c40-b852-1b26b4b54cf6",
   "metadata": {},
   "source": [
    "## Nearest Neighbors"
   ]
  },
  {
   "cell_type": "code",
   "execution_count": 93,
   "id": "f541f1d9-9c59-4eb0-800b-3eecc3e38f09",
   "metadata": {},
   "outputs": [],
   "source": [
    "from sklearn.neighbors import KNeighborsClassifier\n",
    "from sklearn.metrics import recall_score, precision_score, f1_score"
   ]
  },
  {
   "cell_type": "code",
   "execution_count": 94,
   "id": "8fa79e1a-5601-4b3b-97b7-47b466ff730e",
   "metadata": {},
   "outputs": [
    {
     "name": "stdout",
     "output_type": "stream",
     "text": [
      "Performance on TEST\n",
      "*******************\n",
      "              precision    recall  f1-score   support\n",
      "\n",
      "       False       0.82      0.88      0.85     25038\n",
      "        True       0.74      0.64      0.68     13677\n",
      "\n",
      "    accuracy                           0.79     38715\n",
      "   macro avg       0.78      0.76      0.77     38715\n",
      "weighted avg       0.79      0.79      0.79     38715\n",
      "\n",
      "Performance on TRAIN\n",
      "********************\n",
      "              precision    recall  f1-score   support\n",
      "\n",
      "       False       0.89      0.94      0.92     58421\n",
      "        True       0.88      0.78      0.83     31914\n",
      "\n",
      "    accuracy                           0.89     90335\n",
      "   macro avg       0.89      0.86      0.87     90335\n",
      "weighted avg       0.89      0.89      0.88     90335\n",
      "\n"
     ]
    }
   ],
   "source": [
    "knn = KNeighborsClassifier(n_neighbors=3)\n",
    "knn.fit(X_train, y_train)\n",
    "print(f\"Performance on TEST\\n*******************\\n{classification_report(y_test, knn.predict(X_test))}\")\n",
    "print(f\"Performance on TRAIN\\n********************\\n{classification_report(y_train, knn.predict(X_train))}\")"
   ]
  },
  {
   "cell_type": "markdown",
   "id": "e644bd75-dd81-4f8d-8097-5b5f13f59e42",
   "metadata": {},
   "source": [
    "## Nearest Neighbors Using Grid search CV"
   ]
  },
  {
   "cell_type": "code",
   "execution_count": 95,
   "id": "645ac49a-a882-43b6-86df-927ed27c09c6",
   "metadata": {},
   "outputs": [],
   "source": [
    "from sklearn.model_selection import GridSearchCV"
   ]
  },
  {
   "cell_type": "code",
   "execution_count": 96,
   "id": "2013a319-d10d-4ac6-9cf4-1f38bda29273",
   "metadata": {},
   "outputs": [],
   "source": [
    "knn_search_accuracy = KNeighborsClassifier()\n",
    "param_grid = {\"n_neighbors\": np.arange(1, 1001, 100)}\n",
    "knn_gscv = GridSearchCV(knn_search_accuracy, param_grid, scoring='f1_macro', cv=5)"
   ]
  },
  {
   "cell_type": "code",
   "execution_count": 97,
   "id": "3cab5c33-9df3-44f4-a6d9-5017c2e3604e",
   "metadata": {},
   "outputs": [
    {
     "data": {
      "text/html": [
       "<style>#sk-container-id-2 {color: black;}#sk-container-id-2 pre{padding: 0;}#sk-container-id-2 div.sk-toggleable {background-color: white;}#sk-container-id-2 label.sk-toggleable__label {cursor: pointer;display: block;width: 100%;margin-bottom: 0;padding: 0.3em;box-sizing: border-box;text-align: center;}#sk-container-id-2 label.sk-toggleable__label-arrow:before {content: \"▸\";float: left;margin-right: 0.25em;color: #696969;}#sk-container-id-2 label.sk-toggleable__label-arrow:hover:before {color: black;}#sk-container-id-2 div.sk-estimator:hover label.sk-toggleable__label-arrow:before {color: black;}#sk-container-id-2 div.sk-toggleable__content {max-height: 0;max-width: 0;overflow: hidden;text-align: left;background-color: #f0f8ff;}#sk-container-id-2 div.sk-toggleable__content pre {margin: 0.2em;color: black;border-radius: 0.25em;background-color: #f0f8ff;}#sk-container-id-2 input.sk-toggleable__control:checked~div.sk-toggleable__content {max-height: 200px;max-width: 100%;overflow: auto;}#sk-container-id-2 input.sk-toggleable__control:checked~label.sk-toggleable__label-arrow:before {content: \"▾\";}#sk-container-id-2 div.sk-estimator input.sk-toggleable__control:checked~label.sk-toggleable__label {background-color: #d4ebff;}#sk-container-id-2 div.sk-label input.sk-toggleable__control:checked~label.sk-toggleable__label {background-color: #d4ebff;}#sk-container-id-2 input.sk-hidden--visually {border: 0;clip: rect(1px 1px 1px 1px);clip: rect(1px, 1px, 1px, 1px);height: 1px;margin: -1px;overflow: hidden;padding: 0;position: absolute;width: 1px;}#sk-container-id-2 div.sk-estimator {font-family: monospace;background-color: #f0f8ff;border: 1px dotted black;border-radius: 0.25em;box-sizing: border-box;margin-bottom: 0.5em;}#sk-container-id-2 div.sk-estimator:hover {background-color: #d4ebff;}#sk-container-id-2 div.sk-parallel-item::after {content: \"\";width: 100%;border-bottom: 1px solid gray;flex-grow: 1;}#sk-container-id-2 div.sk-label:hover label.sk-toggleable__label {background-color: #d4ebff;}#sk-container-id-2 div.sk-serial::before {content: \"\";position: absolute;border-left: 1px solid gray;box-sizing: border-box;top: 0;bottom: 0;left: 50%;z-index: 0;}#sk-container-id-2 div.sk-serial {display: flex;flex-direction: column;align-items: center;background-color: white;padding-right: 0.2em;padding-left: 0.2em;position: relative;}#sk-container-id-2 div.sk-item {position: relative;z-index: 1;}#sk-container-id-2 div.sk-parallel {display: flex;align-items: stretch;justify-content: center;background-color: white;position: relative;}#sk-container-id-2 div.sk-item::before, #sk-container-id-2 div.sk-parallel-item::before {content: \"\";position: absolute;border-left: 1px solid gray;box-sizing: border-box;top: 0;bottom: 0;left: 50%;z-index: -1;}#sk-container-id-2 div.sk-parallel-item {display: flex;flex-direction: column;z-index: 1;position: relative;background-color: white;}#sk-container-id-2 div.sk-parallel-item:first-child::after {align-self: flex-end;width: 50%;}#sk-container-id-2 div.sk-parallel-item:last-child::after {align-self: flex-start;width: 50%;}#sk-container-id-2 div.sk-parallel-item:only-child::after {width: 0;}#sk-container-id-2 div.sk-dashed-wrapped {border: 1px dashed gray;margin: 0 0.4em 0.5em 0.4em;box-sizing: border-box;padding-bottom: 0.4em;background-color: white;}#sk-container-id-2 div.sk-label label {font-family: monospace;font-weight: bold;display: inline-block;line-height: 1.2em;}#sk-container-id-2 div.sk-label-container {text-align: center;}#sk-container-id-2 div.sk-container {/* jupyter's `normalize.less` sets `[hidden] { display: none; }` but bootstrap.min.css set `[hidden] { display: none !important; }` so we also need the `!important` here to be able to override the default hidden behavior on the sphinx rendered scikit-learn.org. See: https://github.com/scikit-learn/scikit-learn/issues/21755 */display: inline-block !important;position: relative;}#sk-container-id-2 div.sk-text-repr-fallback {display: none;}</style><div id=\"sk-container-id-2\" class=\"sk-top-container\"><div class=\"sk-text-repr-fallback\"><pre>GridSearchCV(cv=5, estimator=KNeighborsClassifier(),\n",
       "             param_grid={&#x27;n_neighbors&#x27;: array([  1, 101, 201, 301, 401, 501, 601, 701, 801, 901])},\n",
       "             scoring=&#x27;f1_macro&#x27;)</pre><b>In a Jupyter environment, please rerun this cell to show the HTML representation or trust the notebook. <br />On GitHub, the HTML representation is unable to render, please try loading this page with nbviewer.org.</b></div><div class=\"sk-container\" hidden><div class=\"sk-item sk-dashed-wrapped\"><div class=\"sk-label-container\"><div class=\"sk-label sk-toggleable\"><input class=\"sk-toggleable__control sk-hidden--visually\" id=\"sk-estimator-id-2\" type=\"checkbox\" ><label for=\"sk-estimator-id-2\" class=\"sk-toggleable__label sk-toggleable__label-arrow\">GridSearchCV</label><div class=\"sk-toggleable__content\"><pre>GridSearchCV(cv=5, estimator=KNeighborsClassifier(),\n",
       "             param_grid={&#x27;n_neighbors&#x27;: array([  1, 101, 201, 301, 401, 501, 601, 701, 801, 901])},\n",
       "             scoring=&#x27;f1_macro&#x27;)</pre></div></div></div><div class=\"sk-parallel\"><div class=\"sk-parallel-item\"><div class=\"sk-item\"><div class=\"sk-label-container\"><div class=\"sk-label sk-toggleable\"><input class=\"sk-toggleable__control sk-hidden--visually\" id=\"sk-estimator-id-3\" type=\"checkbox\" ><label for=\"sk-estimator-id-3\" class=\"sk-toggleable__label sk-toggleable__label-arrow\">estimator: KNeighborsClassifier</label><div class=\"sk-toggleable__content\"><pre>KNeighborsClassifier()</pre></div></div></div><div class=\"sk-serial\"><div class=\"sk-item\"><div class=\"sk-estimator sk-toggleable\"><input class=\"sk-toggleable__control sk-hidden--visually\" id=\"sk-estimator-id-4\" type=\"checkbox\" ><label for=\"sk-estimator-id-4\" class=\"sk-toggleable__label sk-toggleable__label-arrow\">KNeighborsClassifier</label><div class=\"sk-toggleable__content\"><pre>KNeighborsClassifier()</pre></div></div></div></div></div></div></div></div></div></div>"
      ],
      "text/plain": [
       "GridSearchCV(cv=5, estimator=KNeighborsClassifier(),\n",
       "             param_grid={'n_neighbors': array([  1, 101, 201, 301, 401, 501, 601, 701, 801, 901])},\n",
       "             scoring='f1_macro')"
      ]
     },
     "execution_count": 97,
     "metadata": {},
     "output_type": "execute_result"
    }
   ],
   "source": [
    "knn_gscv.fit(X_train, y_train)"
   ]
  },
  {
   "cell_type": "code",
   "execution_count": 98,
   "id": "bf79484f-449f-46a5-9c17-6183577c54a1",
   "metadata": {},
   "outputs": [
    {
     "data": {
      "text/plain": [
       "{'n_neighbors': 1}"
      ]
     },
     "execution_count": 98,
     "metadata": {},
     "output_type": "execute_result"
    }
   ],
   "source": [
    "knn_gscv.best_params_"
   ]
  },
  {
   "cell_type": "code",
   "execution_count": 99,
   "id": "cc08b185-ddf6-447d-acd0-52c545ddf1e9",
   "metadata": {},
   "outputs": [],
   "source": [
    "knn_search_accuracy3 = KNeighborsClassifier()\n",
    "param_grid3 = {\"n_neighbors\": np.arange(1, 101, 10)}\n",
    "knn_gscv3 = GridSearchCV(knn_search_accuracy, param_grid, scoring='f1_macro', cv=5)"
   ]
  },
  {
   "cell_type": "code",
   "execution_count": 100,
   "id": "36b1118f-cd4c-4a9f-b979-23a0c28bfcb4",
   "metadata": {},
   "outputs": [
    {
     "data": {
      "text/html": [
       "<style>#sk-container-id-3 {color: black;}#sk-container-id-3 pre{padding: 0;}#sk-container-id-3 div.sk-toggleable {background-color: white;}#sk-container-id-3 label.sk-toggleable__label {cursor: pointer;display: block;width: 100%;margin-bottom: 0;padding: 0.3em;box-sizing: border-box;text-align: center;}#sk-container-id-3 label.sk-toggleable__label-arrow:before {content: \"▸\";float: left;margin-right: 0.25em;color: #696969;}#sk-container-id-3 label.sk-toggleable__label-arrow:hover:before {color: black;}#sk-container-id-3 div.sk-estimator:hover label.sk-toggleable__label-arrow:before {color: black;}#sk-container-id-3 div.sk-toggleable__content {max-height: 0;max-width: 0;overflow: hidden;text-align: left;background-color: #f0f8ff;}#sk-container-id-3 div.sk-toggleable__content pre {margin: 0.2em;color: black;border-radius: 0.25em;background-color: #f0f8ff;}#sk-container-id-3 input.sk-toggleable__control:checked~div.sk-toggleable__content {max-height: 200px;max-width: 100%;overflow: auto;}#sk-container-id-3 input.sk-toggleable__control:checked~label.sk-toggleable__label-arrow:before {content: \"▾\";}#sk-container-id-3 div.sk-estimator input.sk-toggleable__control:checked~label.sk-toggleable__label {background-color: #d4ebff;}#sk-container-id-3 div.sk-label input.sk-toggleable__control:checked~label.sk-toggleable__label {background-color: #d4ebff;}#sk-container-id-3 input.sk-hidden--visually {border: 0;clip: rect(1px 1px 1px 1px);clip: rect(1px, 1px, 1px, 1px);height: 1px;margin: -1px;overflow: hidden;padding: 0;position: absolute;width: 1px;}#sk-container-id-3 div.sk-estimator {font-family: monospace;background-color: #f0f8ff;border: 1px dotted black;border-radius: 0.25em;box-sizing: border-box;margin-bottom: 0.5em;}#sk-container-id-3 div.sk-estimator:hover {background-color: #d4ebff;}#sk-container-id-3 div.sk-parallel-item::after {content: \"\";width: 100%;border-bottom: 1px solid gray;flex-grow: 1;}#sk-container-id-3 div.sk-label:hover label.sk-toggleable__label {background-color: #d4ebff;}#sk-container-id-3 div.sk-serial::before {content: \"\";position: absolute;border-left: 1px solid gray;box-sizing: border-box;top: 0;bottom: 0;left: 50%;z-index: 0;}#sk-container-id-3 div.sk-serial {display: flex;flex-direction: column;align-items: center;background-color: white;padding-right: 0.2em;padding-left: 0.2em;position: relative;}#sk-container-id-3 div.sk-item {position: relative;z-index: 1;}#sk-container-id-3 div.sk-parallel {display: flex;align-items: stretch;justify-content: center;background-color: white;position: relative;}#sk-container-id-3 div.sk-item::before, #sk-container-id-3 div.sk-parallel-item::before {content: \"\";position: absolute;border-left: 1px solid gray;box-sizing: border-box;top: 0;bottom: 0;left: 50%;z-index: -1;}#sk-container-id-3 div.sk-parallel-item {display: flex;flex-direction: column;z-index: 1;position: relative;background-color: white;}#sk-container-id-3 div.sk-parallel-item:first-child::after {align-self: flex-end;width: 50%;}#sk-container-id-3 div.sk-parallel-item:last-child::after {align-self: flex-start;width: 50%;}#sk-container-id-3 div.sk-parallel-item:only-child::after {width: 0;}#sk-container-id-3 div.sk-dashed-wrapped {border: 1px dashed gray;margin: 0 0.4em 0.5em 0.4em;box-sizing: border-box;padding-bottom: 0.4em;background-color: white;}#sk-container-id-3 div.sk-label label {font-family: monospace;font-weight: bold;display: inline-block;line-height: 1.2em;}#sk-container-id-3 div.sk-label-container {text-align: center;}#sk-container-id-3 div.sk-container {/* jupyter's `normalize.less` sets `[hidden] { display: none; }` but bootstrap.min.css set `[hidden] { display: none !important; }` so we also need the `!important` here to be able to override the default hidden behavior on the sphinx rendered scikit-learn.org. See: https://github.com/scikit-learn/scikit-learn/issues/21755 */display: inline-block !important;position: relative;}#sk-container-id-3 div.sk-text-repr-fallback {display: none;}</style><div id=\"sk-container-id-3\" class=\"sk-top-container\"><div class=\"sk-text-repr-fallback\"><pre>GridSearchCV(cv=5, estimator=KNeighborsClassifier(),\n",
       "             param_grid={&#x27;n_neighbors&#x27;: array([  1, 101, 201, 301, 401, 501, 601, 701, 801, 901])},\n",
       "             scoring=&#x27;f1_macro&#x27;)</pre><b>In a Jupyter environment, please rerun this cell to show the HTML representation or trust the notebook. <br />On GitHub, the HTML representation is unable to render, please try loading this page with nbviewer.org.</b></div><div class=\"sk-container\" hidden><div class=\"sk-item sk-dashed-wrapped\"><div class=\"sk-label-container\"><div class=\"sk-label sk-toggleable\"><input class=\"sk-toggleable__control sk-hidden--visually\" id=\"sk-estimator-id-5\" type=\"checkbox\" ><label for=\"sk-estimator-id-5\" class=\"sk-toggleable__label sk-toggleable__label-arrow\">GridSearchCV</label><div class=\"sk-toggleable__content\"><pre>GridSearchCV(cv=5, estimator=KNeighborsClassifier(),\n",
       "             param_grid={&#x27;n_neighbors&#x27;: array([  1, 101, 201, 301, 401, 501, 601, 701, 801, 901])},\n",
       "             scoring=&#x27;f1_macro&#x27;)</pre></div></div></div><div class=\"sk-parallel\"><div class=\"sk-parallel-item\"><div class=\"sk-item\"><div class=\"sk-label-container\"><div class=\"sk-label sk-toggleable\"><input class=\"sk-toggleable__control sk-hidden--visually\" id=\"sk-estimator-id-6\" type=\"checkbox\" ><label for=\"sk-estimator-id-6\" class=\"sk-toggleable__label sk-toggleable__label-arrow\">estimator: KNeighborsClassifier</label><div class=\"sk-toggleable__content\"><pre>KNeighborsClassifier()</pre></div></div></div><div class=\"sk-serial\"><div class=\"sk-item\"><div class=\"sk-estimator sk-toggleable\"><input class=\"sk-toggleable__control sk-hidden--visually\" id=\"sk-estimator-id-7\" type=\"checkbox\" ><label for=\"sk-estimator-id-7\" class=\"sk-toggleable__label sk-toggleable__label-arrow\">KNeighborsClassifier</label><div class=\"sk-toggleable__content\"><pre>KNeighborsClassifier()</pre></div></div></div></div></div></div></div></div></div></div>"
      ],
      "text/plain": [
       "GridSearchCV(cv=5, estimator=KNeighborsClassifier(),\n",
       "             param_grid={'n_neighbors': array([  1, 101, 201, 301, 401, 501, 601, 701, 801, 901])},\n",
       "             scoring='f1_macro')"
      ]
     },
     "execution_count": 100,
     "metadata": {},
     "output_type": "execute_result"
    }
   ],
   "source": [
    "knn_gscv3.fit(X_train, y_train)"
   ]
  },
  {
   "cell_type": "code",
   "execution_count": 101,
   "id": "540384d3-3cf0-4ac5-8fa4-adf5471aa9ce",
   "metadata": {},
   "outputs": [
    {
     "data": {
      "text/plain": [
       "{'n_neighbors': 1}"
      ]
     },
     "execution_count": 101,
     "metadata": {},
     "output_type": "execute_result"
    }
   ],
   "source": [
    "knn_gscv3.best_params_"
   ]
  },
  {
   "cell_type": "code",
   "execution_count": 102,
   "id": "f96d6767-15c9-4dab-8424-59758a8959fb",
   "metadata": {},
   "outputs": [],
   "source": [
    "knn_search_accuracy2 = KNeighborsClassifier()\n",
    "param_grid2 = {\"n_neighbors\": np.arange(1, 21)}\n",
    "knn_gscv2 = GridSearchCV(knn_search_accuracy2, param_grid2, scoring='f1_macro', cv=5)"
   ]
  },
  {
   "cell_type": "code",
   "execution_count": 103,
   "id": "4991e129-d3cb-4897-898c-37e4cb1a983c",
   "metadata": {},
   "outputs": [
    {
     "data": {
      "text/html": [
       "<style>#sk-container-id-4 {color: black;}#sk-container-id-4 pre{padding: 0;}#sk-container-id-4 div.sk-toggleable {background-color: white;}#sk-container-id-4 label.sk-toggleable__label {cursor: pointer;display: block;width: 100%;margin-bottom: 0;padding: 0.3em;box-sizing: border-box;text-align: center;}#sk-container-id-4 label.sk-toggleable__label-arrow:before {content: \"▸\";float: left;margin-right: 0.25em;color: #696969;}#sk-container-id-4 label.sk-toggleable__label-arrow:hover:before {color: black;}#sk-container-id-4 div.sk-estimator:hover label.sk-toggleable__label-arrow:before {color: black;}#sk-container-id-4 div.sk-toggleable__content {max-height: 0;max-width: 0;overflow: hidden;text-align: left;background-color: #f0f8ff;}#sk-container-id-4 div.sk-toggleable__content pre {margin: 0.2em;color: black;border-radius: 0.25em;background-color: #f0f8ff;}#sk-container-id-4 input.sk-toggleable__control:checked~div.sk-toggleable__content {max-height: 200px;max-width: 100%;overflow: auto;}#sk-container-id-4 input.sk-toggleable__control:checked~label.sk-toggleable__label-arrow:before {content: \"▾\";}#sk-container-id-4 div.sk-estimator input.sk-toggleable__control:checked~label.sk-toggleable__label {background-color: #d4ebff;}#sk-container-id-4 div.sk-label input.sk-toggleable__control:checked~label.sk-toggleable__label {background-color: #d4ebff;}#sk-container-id-4 input.sk-hidden--visually {border: 0;clip: rect(1px 1px 1px 1px);clip: rect(1px, 1px, 1px, 1px);height: 1px;margin: -1px;overflow: hidden;padding: 0;position: absolute;width: 1px;}#sk-container-id-4 div.sk-estimator {font-family: monospace;background-color: #f0f8ff;border: 1px dotted black;border-radius: 0.25em;box-sizing: border-box;margin-bottom: 0.5em;}#sk-container-id-4 div.sk-estimator:hover {background-color: #d4ebff;}#sk-container-id-4 div.sk-parallel-item::after {content: \"\";width: 100%;border-bottom: 1px solid gray;flex-grow: 1;}#sk-container-id-4 div.sk-label:hover label.sk-toggleable__label {background-color: #d4ebff;}#sk-container-id-4 div.sk-serial::before {content: \"\";position: absolute;border-left: 1px solid gray;box-sizing: border-box;top: 0;bottom: 0;left: 50%;z-index: 0;}#sk-container-id-4 div.sk-serial {display: flex;flex-direction: column;align-items: center;background-color: white;padding-right: 0.2em;padding-left: 0.2em;position: relative;}#sk-container-id-4 div.sk-item {position: relative;z-index: 1;}#sk-container-id-4 div.sk-parallel {display: flex;align-items: stretch;justify-content: center;background-color: white;position: relative;}#sk-container-id-4 div.sk-item::before, #sk-container-id-4 div.sk-parallel-item::before {content: \"\";position: absolute;border-left: 1px solid gray;box-sizing: border-box;top: 0;bottom: 0;left: 50%;z-index: -1;}#sk-container-id-4 div.sk-parallel-item {display: flex;flex-direction: column;z-index: 1;position: relative;background-color: white;}#sk-container-id-4 div.sk-parallel-item:first-child::after {align-self: flex-end;width: 50%;}#sk-container-id-4 div.sk-parallel-item:last-child::after {align-self: flex-start;width: 50%;}#sk-container-id-4 div.sk-parallel-item:only-child::after {width: 0;}#sk-container-id-4 div.sk-dashed-wrapped {border: 1px dashed gray;margin: 0 0.4em 0.5em 0.4em;box-sizing: border-box;padding-bottom: 0.4em;background-color: white;}#sk-container-id-4 div.sk-label label {font-family: monospace;font-weight: bold;display: inline-block;line-height: 1.2em;}#sk-container-id-4 div.sk-label-container {text-align: center;}#sk-container-id-4 div.sk-container {/* jupyter's `normalize.less` sets `[hidden] { display: none; }` but bootstrap.min.css set `[hidden] { display: none !important; }` so we also need the `!important` here to be able to override the default hidden behavior on the sphinx rendered scikit-learn.org. See: https://github.com/scikit-learn/scikit-learn/issues/21755 */display: inline-block !important;position: relative;}#sk-container-id-4 div.sk-text-repr-fallback {display: none;}</style><div id=\"sk-container-id-4\" class=\"sk-top-container\"><div class=\"sk-text-repr-fallback\"><pre>GridSearchCV(cv=5, estimator=KNeighborsClassifier(),\n",
       "             param_grid={&#x27;n_neighbors&#x27;: array([ 1,  2,  3,  4,  5,  6,  7,  8,  9, 10, 11, 12, 13, 14, 15, 16, 17,\n",
       "       18, 19, 20])},\n",
       "             scoring=&#x27;f1_macro&#x27;)</pre><b>In a Jupyter environment, please rerun this cell to show the HTML representation or trust the notebook. <br />On GitHub, the HTML representation is unable to render, please try loading this page with nbviewer.org.</b></div><div class=\"sk-container\" hidden><div class=\"sk-item sk-dashed-wrapped\"><div class=\"sk-label-container\"><div class=\"sk-label sk-toggleable\"><input class=\"sk-toggleable__control sk-hidden--visually\" id=\"sk-estimator-id-8\" type=\"checkbox\" ><label for=\"sk-estimator-id-8\" class=\"sk-toggleable__label sk-toggleable__label-arrow\">GridSearchCV</label><div class=\"sk-toggleable__content\"><pre>GridSearchCV(cv=5, estimator=KNeighborsClassifier(),\n",
       "             param_grid={&#x27;n_neighbors&#x27;: array([ 1,  2,  3,  4,  5,  6,  7,  8,  9, 10, 11, 12, 13, 14, 15, 16, 17,\n",
       "       18, 19, 20])},\n",
       "             scoring=&#x27;f1_macro&#x27;)</pre></div></div></div><div class=\"sk-parallel\"><div class=\"sk-parallel-item\"><div class=\"sk-item\"><div class=\"sk-label-container\"><div class=\"sk-label sk-toggleable\"><input class=\"sk-toggleable__control sk-hidden--visually\" id=\"sk-estimator-id-9\" type=\"checkbox\" ><label for=\"sk-estimator-id-9\" class=\"sk-toggleable__label sk-toggleable__label-arrow\">estimator: KNeighborsClassifier</label><div class=\"sk-toggleable__content\"><pre>KNeighborsClassifier()</pre></div></div></div><div class=\"sk-serial\"><div class=\"sk-item\"><div class=\"sk-estimator sk-toggleable\"><input class=\"sk-toggleable__control sk-hidden--visually\" id=\"sk-estimator-id-10\" type=\"checkbox\" ><label for=\"sk-estimator-id-10\" class=\"sk-toggleable__label sk-toggleable__label-arrow\">KNeighborsClassifier</label><div class=\"sk-toggleable__content\"><pre>KNeighborsClassifier()</pre></div></div></div></div></div></div></div></div></div></div>"
      ],
      "text/plain": [
       "GridSearchCV(cv=5, estimator=KNeighborsClassifier(),\n",
       "             param_grid={'n_neighbors': array([ 1,  2,  3,  4,  5,  6,  7,  8,  9, 10, 11, 12, 13, 14, 15, 16, 17,\n",
       "       18, 19, 20])},\n",
       "             scoring='f1_macro')"
      ]
     },
     "execution_count": 103,
     "metadata": {},
     "output_type": "execute_result"
    }
   ],
   "source": [
    "knn_gscv2.fit(X_train, y_train)"
   ]
  },
  {
   "cell_type": "code",
   "execution_count": 104,
   "id": "ba033407-82ca-4c70-9e60-497666506974",
   "metadata": {},
   "outputs": [
    {
     "data": {
      "text/plain": [
       "{'n_neighbors': 3}"
      ]
     },
     "execution_count": 104,
     "metadata": {},
     "output_type": "execute_result"
    }
   ],
   "source": [
    "knn_gscv2.best_params_"
   ]
  },
  {
   "cell_type": "code",
   "execution_count": 105,
   "id": "6e0c30c4-44a5-4652-9c5a-3aabbac671db",
   "metadata": {},
   "outputs": [],
   "source": [
    "best_knn = knn_gscv.best_estimator_"
   ]
  },
  {
   "cell_type": "code",
   "execution_count": 106,
   "id": "93e176d2-34ca-42b5-9932-9cab642a2062",
   "metadata": {},
   "outputs": [
    {
     "name": "stdout",
     "output_type": "stream",
     "text": [
      "Performance on TEST\n",
      "*******************\n",
      "              precision    recall  f1-score   support\n",
      "\n",
      "       False       0.83      0.84      0.83     25038\n",
      "        True       0.70      0.68      0.69     13677\n",
      "\n",
      "    accuracy                           0.78     38715\n",
      "   macro avg       0.76      0.76      0.76     38715\n",
      "weighted avg       0.78      0.78      0.78     38715\n",
      "\n",
      "Performance on TRAIN\n",
      "********************\n",
      "              precision    recall  f1-score   support\n",
      "\n",
      "       False       0.98      0.98      0.98     58421\n",
      "        True       0.96      0.97      0.97     31914\n",
      "\n",
      "    accuracy                           0.98     90335\n",
      "   macro avg       0.97      0.97      0.97     90335\n",
      "weighted avg       0.98      0.98      0.98     90335\n",
      "\n"
     ]
    }
   ],
   "source": [
    "print(f\"Performance on TEST\\n*******************\\n{classification_report(y_test, best_knn.predict(X_test))}\")\n",
    "print(f\"Performance on TRAIN\\n********************\\n{classification_report(y_train, best_knn.predict(X_train))}\")"
   ]
  },
  {
   "cell_type": "code",
   "execution_count": null,
   "id": "959edea5-283e-46c7-b264-8d5fbb371338",
   "metadata": {},
   "outputs": [],
   "source": []
  }
 ],
 "metadata": {
  "kernelspec": {
   "display_name": "Python 3 (ipykernel)",
   "language": "python",
   "name": "python3"
  },
  "language_info": {
   "codemirror_mode": {
    "name": "ipython",
    "version": 3
   },
   "file_extension": ".py",
   "mimetype": "text/x-python",
   "name": "python",
   "nbconvert_exporter": "python",
   "pygments_lexer": "ipython3",
   "version": "3.11.1"
  }
 },
 "nbformat": 4,
 "nbformat_minor": 5
}
